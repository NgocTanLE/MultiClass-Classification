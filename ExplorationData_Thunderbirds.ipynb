{
 "cells": [
  {
   "cell_type": "markdown",
   "metadata": {},
   "source": [
    "# Import librairies"
   ]
  },
  {
   "cell_type": "code",
   "execution_count": 2,
   "metadata": {
    "ExecuteTime": {
     "end_time": "2020-12-28T18:56:12.323057Z",
     "start_time": "2020-12-28T18:56:12.320052Z"
    }
   },
   "outputs": [],
   "source": [
    "import warnings\n",
    "warnings.filterwarnings('ignore')"
   ]
  },
  {
   "cell_type": "code",
   "execution_count": 3,
   "metadata": {
    "ExecuteTime": {
     "end_time": "2020-12-28T18:56:14.820246Z",
     "start_time": "2020-12-28T18:56:12.703406Z"
    }
   },
   "outputs": [],
   "source": [
    "import pandas as pd \n",
    "import numpy as np\n",
    "\n",
    "import seaborn as sns\n",
    "import matplotlib.pyplot as plt\n",
    "\n",
    "from IPython.display import display # check outliers"
   ]
  },
  {
   "cell_type": "code",
   "execution_count": 4,
   "metadata": {
    "ExecuteTime": {
     "end_time": "2020-12-28T18:56:15.522497Z",
     "start_time": "2020-12-28T18:56:14.820246Z"
    }
   },
   "outputs": [],
   "source": [
    "from sklearn.feature_extraction.text import TfidfVectorizer\n",
    "\n",
    "from sklearn.model_selection import train_test_split\n",
    "from sklearn.feature_extraction.text import CountVectorizer\n",
    "from sklearn.feature_extraction.text import TfidfTransformer\n",
    "from sklearn.feature_selection import chi2\n",
    "\n",
    "from sklearn.naive_bayes import MultinomialNB\n",
    "\n",
    "from sklearn.linear_model import LogisticRegression\n",
    "from sklearn.ensemble import RandomForestClassifier\n",
    "from sklearn.svm import LinearSVC\n",
    "from sklearn.model_selection import cross_val_score\n",
    "\n",
    "from sklearn.metrics import confusion_matrix, classification_report, accuracy_score\n",
    "from sklearn import metrics"
   ]
  },
  {
   "cell_type": "code",
   "execution_count": 5,
   "metadata": {
    "ExecuteTime": {
     "end_time": "2020-12-28T18:56:15.526954Z",
     "start_time": "2020-12-28T18:56:15.522497Z"
    }
   },
   "outputs": [],
   "source": [
    "from sklearn.ensemble import RandomForestClassifier"
   ]
  },
  {
   "cell_type": "code",
   "execution_count": 6,
   "metadata": {
    "ExecuteTime": {
     "end_time": "2020-12-28T18:56:18.706384Z",
     "start_time": "2020-12-28T18:56:15.527952Z"
    }
   },
   "outputs": [
    {
     "name": "stderr",
     "output_type": "stream",
     "text": [
      "Using TensorFlow backend.\n"
     ]
    }
   ],
   "source": [
    "import numpy as np\n",
    "np.random.seed(1337)\n",
    "import json, re, nltk, string\n",
    "from nltk.corpus import wordnet\n",
    "from gensim.models import Word2Vec\n",
    "from keras.preprocessing import sequence\n",
    "from keras.preprocessing.sequence import pad_sequences\n",
    "from sklearn.preprocessing import LabelEncoder\n",
    "\n",
    "from keras.models import Model, Sequential\n",
    "from keras.layers import Dense, Dropout, Embedding, LSTM, Input, merge\n",
    "from keras.optimizers import RMSprop\n",
    "from keras.utils import np_utils\n",
    "from sklearn.feature_extraction.text import CountVectorizer\n",
    "from sklearn.feature_extraction.text import TfidfTransformer\n",
    "from sklearn.naive_bayes import MultinomialNB\n",
    "from sklearn import svm\n",
    "from sklearn.linear_model import LogisticRegression\n",
    "from sklearn.multiclass import OneVsRestClassifier\n",
    "from sklearn.metrics.pairwise import cosine_similarity\n",
    "\n",
    "from keras.layers import BatchNormalization, Concatenate\n",
    "from keras.optimizers import Adam\n",
    "from keras.callbacks import EarlyStopping\n"
   ]
  },
  {
   "cell_type": "code",
   "execution_count": 7,
   "metadata": {
    "ExecuteTime": {
     "end_time": "2020-12-28T18:56:18.713328Z",
     "start_time": "2020-12-28T18:56:18.707345Z"
    }
   },
   "outputs": [],
   "source": [
    "# import spacy\n",
    "import nltk\n",
    "from nltk.stem.snowball import SnowballStemmer\n",
    "from nltk.stem import WordNetLemmatizer\n",
    "from nltk import word_tokenize\n",
    "from nltk.corpus import stopwords"
   ]
  },
  {
   "cell_type": "code",
   "execution_count": 8,
   "metadata": {
    "ExecuteTime": {
     "end_time": "2020-12-28T18:56:18.718315Z",
     "start_time": "2020-12-28T18:56:18.714326Z"
    }
   },
   "outputs": [],
   "source": [
    "from sklearn.utils import resample # gerer resampling : oversampling or downsampling"
   ]
  },
  {
   "cell_type": "code",
   "execution_count": 111,
   "metadata": {
    "ExecuteTime": {
     "end_time": "2020-12-28T20:26:14.110796Z",
     "start_time": "2020-12-28T20:26:14.107833Z"
    }
   },
   "outputs": [],
   "source": [
    "from textblob import TextBlob  # to process polarity, subjectivity, len(sentence)"
   ]
  },
  {
   "cell_type": "code",
   "execution_count": 171,
   "metadata": {
    "ExecuteTime": {
     "end_time": "2020-12-28T21:06:37.061207Z",
     "start_time": "2020-12-28T21:06:37.057189Z"
    }
   },
   "outputs": [],
   "source": [
    "from keras import backend as K\n",
    "from keras.engine.topology import Layer # for Attention\n",
    "from keras import initializers, regularizers, constraints"
   ]
  },
  {
   "cell_type": "code",
   "execution_count": 179,
   "metadata": {
    "ExecuteTime": {
     "end_time": "2020-12-28T21:55:21.698458Z",
     "start_time": "2020-12-28T21:55:21.694501Z"
    }
   },
   "outputs": [],
   "source": [
    "from keras.utils import plot_model  # draw model keras"
   ]
  },
  {
   "cell_type": "code",
   "execution_count": 9,
   "metadata": {
    "ExecuteTime": {
     "end_time": "2020-12-28T18:56:19.004636Z",
     "start_time": "2020-12-28T18:56:18.719313Z"
    }
   },
   "outputs": [],
   "source": [
    "import spacy  # deep learning and Spacy Models to embeddings"
   ]
  },
  {
   "cell_type": "code",
   "execution_count": 10,
   "metadata": {
    "ExecuteTime": {
     "end_time": "2020-12-28T16:29:21.762695Z",
     "start_time": "2020-12-28T16:22:06.641777Z"
    }
   },
   "outputs": [
    {
     "name": "stdout",
     "output_type": "stream",
     "text": [
      "Collecting en_core_web_lg==2.1.0 from https://github.com/explosion/spacy-models/releases/download/en_core_web_lg-2.1.0/en_core_web_lg-2.1.0.tar.gz#egg=en_core_web_lg==2.1.0\n",
      "  Downloading https://github.com/explosion/spacy-models/releases/download/en_core_web_lg-2.1.0/en_core_web_lg-2.1.0.tar.gz (826.9MB)\n",
      "Installing collected packages: en-core-web-lg\n",
      "  Running setup.py install for en-core-web-lg: started\n",
      "    Running setup.py install for en-core-web-lg: finished with status 'done'\n",
      "Successfully installed en-core-web-lg-2.1.0\n",
      "[+] Download and installation successful\n",
      "You can now load the model via spacy.load('en_core_web_lg')\n"
     ]
    }
   ],
   "source": [
    "# !python -m spacy download en_core_web_lg"
   ]
  },
  {
   "cell_type": "code",
   "execution_count": 10,
   "metadata": {
    "ExecuteTime": {
     "end_time": "2020-12-28T18:56:26.361619Z",
     "start_time": "2020-12-28T18:56:19.369118Z"
    }
   },
   "outputs": [],
   "source": [
    "nlp = spacy.load('en_core_web_lg')"
   ]
  },
  {
   "cell_type": "code",
   "execution_count": 11,
   "metadata": {
    "ExecuteTime": {
     "end_time": "2020-12-28T18:56:26.367600Z",
     "start_time": "2020-12-28T18:56:26.362612Z"
    }
   },
   "outputs": [],
   "source": [
    "# Function to clean data, tokenize, remove stopwords, and not alphanumeric from raw training data\n",
    "def black_txt(token):\n",
    "    return token not in stop_words and token not in list(string.punctuation) and len(token) > 2\n",
    "\n",
    "def clean_txt(text):\n",
    "    clean_text = []\n",
    "    clean_text2 = []\n",
    "    \n",
    "    text = re.sub(\"'\",\"\", text)\n",
    "    text = re.sub(\"(\\\\d|\\\\W)+\",\" \",text) # replace \\d: équivalent à [0-9]; \n",
    "        # \\W: Valide tout caractère qui n'est pas un caractère de mot\n",
    "    \n",
    "    clean_text = [wn.lemmatize(word, pos=\"v\") for word in word_tokenize(text.lower()) if black_txt(word)]\n",
    "    clean_text2 = [word for word in clean_text if black_txt(word)]\n",
    "    \n",
    "    return \" \".join(clean_text2)"
   ]
  },
  {
   "cell_type": "code",
   "execution_count": 112,
   "metadata": {
    "ExecuteTime": {
     "end_time": "2020-12-28T20:28:21.132791Z",
     "start_time": "2020-12-28T20:28:21.127822Z"
    }
   },
   "outputs": [],
   "source": [
    "# fonctions utilitaires\n",
    "def polarity_txt(text):\n",
    "  return TextBlob(text).sentiment[0]\n",
    "\n",
    "def subj_txt(text):\n",
    "  return  TextBlob(text).sentiment[1]\n",
    "\n",
    "def len_text(text):\n",
    "  if len(text.split())>0:\n",
    "         return len(set(clean_txt(text).split()))/ len(text.split())\n",
    "  else:\n",
    "         return 0"
   ]
  },
  {
   "cell_type": "markdown",
   "metadata": {},
   "source": [
    "# EDA"
   ]
  },
  {
   "cell_type": "code",
   "execution_count": 16,
   "metadata": {
    "ExecuteTime": {
     "end_time": "2020-12-28T19:02:39.836714Z",
     "start_time": "2020-12-28T19:02:39.367316Z"
    }
   },
   "outputs": [],
   "source": [
    "# Load data\n",
    "df = pd.read_csv('data/mozilla_thunderbird.csv')"
   ]
  },
  {
   "cell_type": "code",
   "execution_count": 27,
   "metadata": {
    "ExecuteTime": {
     "end_time": "2020-12-28T17:00:40.609211Z",
     "start_time": "2020-12-28T17:00:40.599238Z"
    }
   },
   "outputs": [
    {
     "data": {
      "text/html": [
       "<div>\n",
       "<style scoped>\n",
       "    .dataframe tbody tr th:only-of-type {\n",
       "        vertical-align: middle;\n",
       "    }\n",
       "\n",
       "    .dataframe tbody tr th {\n",
       "        vertical-align: top;\n",
       "    }\n",
       "\n",
       "    .dataframe thead th {\n",
       "        text-align: right;\n",
       "    }\n",
       "</style>\n",
       "<table border=\"1\" class=\"dataframe\">\n",
       "  <thead>\n",
       "    <tr style=\"text-align: right;\">\n",
       "      <th></th>\n",
       "      <th>Issue_id</th>\n",
       "      <th>Priority</th>\n",
       "      <th>Component</th>\n",
       "      <th>Duplicated_issue</th>\n",
       "      <th>Title</th>\n",
       "      <th>Description</th>\n",
       "      <th>Status</th>\n",
       "      <th>Resolution</th>\n",
       "      <th>Version</th>\n",
       "      <th>Created_time</th>\n",
       "      <th>Resolved_time</th>\n",
       "    </tr>\n",
       "  </thead>\n",
       "  <tbody>\n",
       "    <tr>\n",
       "      <th>0</th>\n",
       "      <td>35689</td>\n",
       "      <td>P3</td>\n",
       "      <td>Message Reader UI</td>\n",
       "      <td>NaN</td>\n",
       "      <td>Newsgroup postings dont linkify newsgroup head...</td>\n",
       "      <td>Using 2000-04-12 m15 commercial builds; ; This...</td>\n",
       "      <td>RESOLVED</td>\n",
       "      <td>FIXED</td>\n",
       "      <td>unspecified</td>\n",
       "      <td>2000-04-12 17:25:04 -0700</td>\n",
       "      <td>2010-05-13 07:53:25 -0700</td>\n",
       "    </tr>\n",
       "    <tr>\n",
       "      <th>1</th>\n",
       "      <td>36836</td>\n",
       "      <td>--</td>\n",
       "      <td>General</td>\n",
       "      <td>NaN</td>\n",
       "      <td>mail conduit for the palm devices</td>\n",
       "      <td>At present; there is no conduit available for ...</td>\n",
       "      <td>RESOLVED</td>\n",
       "      <td>WONTFIX</td>\n",
       "      <td>unspecified</td>\n",
       "      <td>2000-04-22 12:00:39 -0700</td>\n",
       "      <td>2012-07-02 05:13:49 -0700</td>\n",
       "    </tr>\n",
       "    <tr>\n",
       "      <th>2</th>\n",
       "      <td>51181</td>\n",
       "      <td>--</td>\n",
       "      <td>Mail Window Front End</td>\n",
       "      <td>NaN</td>\n",
       "      <td>User notification of no new mail needed in sta...</td>\n",
       "      <td>From Bugzilla Helper:; User-Agent: Mozilla/5.0...</td>\n",
       "      <td>RESOLVED</td>\n",
       "      <td>WORKSFORME</td>\n",
       "      <td>Trunk</td>\n",
       "      <td>2000-09-02 11:44:34 -0700</td>\n",
       "      <td>2009-08-26 09:39:21 -0700</td>\n",
       "    </tr>\n",
       "    <tr>\n",
       "      <th>3</th>\n",
       "      <td>58140</td>\n",
       "      <td>--</td>\n",
       "      <td>General</td>\n",
       "      <td>NaN</td>\n",
       "      <td>save multiple messages as individual files in ...</td>\n",
       "      <td>In the MailNews file menu there is a Save As s...</td>\n",
       "      <td>RESOLVED</td>\n",
       "      <td>FIXED</td>\n",
       "      <td>unspecified</td>\n",
       "      <td>2000-10-26 15:57:01 -0700</td>\n",
       "      <td>2011-10-26 22:48:36 -0700</td>\n",
       "    </tr>\n",
       "    <tr>\n",
       "      <th>4</th>\n",
       "      <td>67219</td>\n",
       "      <td>--</td>\n",
       "      <td>Mail Window Front End</td>\n",
       "      <td>NaN</td>\n",
       "      <td>Disable filters menu item when no accounts are...</td>\n",
       "      <td>NaN</td>\n",
       "      <td>RESOLVED</td>\n",
       "      <td>FIXED</td>\n",
       "      <td>Trunk</td>\n",
       "      <td>2001-01-31 13:03:14 -0800</td>\n",
       "      <td>2010-06-27 09:42:42 -0700</td>\n",
       "    </tr>\n",
       "  </tbody>\n",
       "</table>\n",
       "</div>"
      ],
      "text/plain": [
       "   Issue_id Priority              Component  Duplicated_issue  \\\n",
       "0     35689       P3      Message Reader UI               NaN   \n",
       "1     36836       --                General               NaN   \n",
       "2     51181       --  Mail Window Front End               NaN   \n",
       "3     58140       --                General               NaN   \n",
       "4     67219       --  Mail Window Front End               NaN   \n",
       "\n",
       "                                               Title  \\\n",
       "0  Newsgroup postings dont linkify newsgroup head...   \n",
       "1                  mail conduit for the palm devices   \n",
       "2  User notification of no new mail needed in sta...   \n",
       "3  save multiple messages as individual files in ...   \n",
       "4  Disable filters menu item when no accounts are...   \n",
       "\n",
       "                                         Description    Status  Resolution  \\\n",
       "0  Using 2000-04-12 m15 commercial builds; ; This...  RESOLVED       FIXED   \n",
       "1  At present; there is no conduit available for ...  RESOLVED     WONTFIX   \n",
       "2  From Bugzilla Helper:; User-Agent: Mozilla/5.0...  RESOLVED  WORKSFORME   \n",
       "3  In the MailNews file menu there is a Save As s...  RESOLVED       FIXED   \n",
       "4                                                NaN  RESOLVED       FIXED   \n",
       "\n",
       "       Version               Created_time              Resolved_time  \n",
       "0  unspecified  2000-04-12 17:25:04 -0700  2010-05-13 07:53:25 -0700  \n",
       "1  unspecified  2000-04-22 12:00:39 -0700  2012-07-02 05:13:49 -0700  \n",
       "2        Trunk  2000-09-02 11:44:34 -0700  2009-08-26 09:39:21 -0700  \n",
       "3  unspecified  2000-10-26 15:57:01 -0700  2011-10-26 22:48:36 -0700  \n",
       "4        Trunk  2001-01-31 13:03:14 -0800  2010-06-27 09:42:42 -0700  "
      ]
     },
     "execution_count": 27,
     "metadata": {},
     "output_type": "execute_result"
    }
   ],
   "source": [
    "df.head()"
   ]
  },
  {
   "cell_type": "code",
   "execution_count": 13,
   "metadata": {
    "ExecuteTime": {
     "end_time": "2020-12-28T16:59:40.670624Z",
     "start_time": "2020-12-28T16:59:40.662605Z"
    }
   },
   "outputs": [
    {
     "data": {
      "text/plain": [
       "DUPLICATE     12501\n",
       "FIXED          5703\n",
       "WORKSFORME     4919\n",
       "INCOMPLETE     3732\n",
       "INVALID        3559\n",
       "EXPIRED        1407\n",
       "WONTFIX         730\n",
       "Name: Resolution, dtype: int64"
      ]
     },
     "execution_count": 13,
     "metadata": {},
     "output_type": "execute_result"
    }
   ],
   "source": [
    "df.Resolution.value_counts()"
   ]
  },
  {
   "cell_type": "code",
   "execution_count": 14,
   "metadata": {
    "ExecuteTime": {
     "end_time": "2020-12-28T16:59:43.494589Z",
     "start_time": "2020-12-28T16:59:43.486610Z"
    }
   },
   "outputs": [
    {
     "data": {
      "text/plain": [
       "RESOLVED    30278\n",
       "VERIFIED     2273\n",
       "Name: Status, dtype: int64"
      ]
     },
     "execution_count": 14,
     "metadata": {},
     "output_type": "execute_result"
    }
   ],
   "source": [
    "df.Status.value_counts()"
   ]
  },
  {
   "cell_type": "code",
   "execution_count": 17,
   "metadata": {
    "ExecuteTime": {
     "end_time": "2020-12-28T19:02:42.739160Z",
     "start_time": "2020-12-28T19:02:42.703279Z"
    }
   },
   "outputs": [],
   "source": [
    "df['StatusResolution'] = df['Status'] + '_' + df['Resolution']"
   ]
  },
  {
   "cell_type": "code",
   "execution_count": 18,
   "metadata": {
    "ExecuteTime": {
     "end_time": "2020-12-28T19:02:43.164024Z",
     "start_time": "2020-12-28T19:02:43.151058Z"
    }
   },
   "outputs": [
    {
     "data": {
      "text/plain": [
       "RESOLVED_DUPLICATE     11450\n",
       "RESOLVED_FIXED          5009\n",
       "RESOLVED_WORKSFORME     4733\n",
       "RESOLVED_INCOMPLETE     3708\n",
       "RESOLVED_INVALID        3271\n",
       "RESOLVED_EXPIRED        1405\n",
       "VERIFIED_DUPLICATE      1051\n",
       "RESOLVED_WONTFIX         702\n",
       "VERIFIED_FIXED           694\n",
       "VERIFIED_INVALID         288\n",
       "VERIFIED_WORKSFORME      186\n",
       "VERIFIED_WONTFIX          28\n",
       "VERIFIED_INCOMPLETE       24\n",
       "VERIFIED_EXPIRED           2\n",
       "Name: StatusResolution, dtype: int64"
      ]
     },
     "execution_count": 18,
     "metadata": {},
     "output_type": "execute_result"
    }
   ],
   "source": [
    "df.StatusResolution.value_counts()"
   ]
  },
  {
   "cell_type": "code",
   "execution_count": 17,
   "metadata": {
    "ExecuteTime": {
     "end_time": "2020-12-28T16:59:46.851455Z",
     "start_time": "2020-12-28T16:59:46.823509Z"
    }
   },
   "outputs": [
    {
     "name": "stdout",
     "output_type": "stream",
     "text": [
      "<class 'pandas.core.frame.DataFrame'>\n",
      "RangeIndex: 32551 entries, 0 to 32550\n",
      "Data columns (total 12 columns):\n",
      "Issue_id            32551 non-null int64\n",
      "Priority            32551 non-null object\n",
      "Component           32551 non-null object\n",
      "Duplicated_issue    12501 non-null float64\n",
      "Title               32551 non-null object\n",
      "Description         32501 non-null object\n",
      "Status              32551 non-null object\n",
      "Resolution          32551 non-null object\n",
      "Version             32551 non-null object\n",
      "Created_time        32551 non-null object\n",
      "Resolved_time       32551 non-null object\n",
      "StatusResolution    32551 non-null object\n",
      "dtypes: float64(1), int64(1), object(10)\n",
      "memory usage: 3.0+ MB\n"
     ]
    }
   ],
   "source": [
    "df.info()"
   ]
  },
  {
   "cell_type": "code",
   "execution_count": 18,
   "metadata": {
    "ExecuteTime": {
     "end_time": "2020-12-28T16:59:48.808549Z",
     "start_time": "2020-12-28T16:59:48.791597Z"
    }
   },
   "outputs": [
    {
     "data": {
      "text/html": [
       "<div>\n",
       "<style scoped>\n",
       "    .dataframe tbody tr th:only-of-type {\n",
       "        vertical-align: middle;\n",
       "    }\n",
       "\n",
       "    .dataframe tbody tr th {\n",
       "        vertical-align: top;\n",
       "    }\n",
       "\n",
       "    .dataframe thead th {\n",
       "        text-align: right;\n",
       "    }\n",
       "</style>\n",
       "<table border=\"1\" class=\"dataframe\">\n",
       "  <thead>\n",
       "    <tr style=\"text-align: right;\">\n",
       "      <th></th>\n",
       "      <th>Issue_id</th>\n",
       "      <th>Duplicated_issue</th>\n",
       "    </tr>\n",
       "  </thead>\n",
       "  <tbody>\n",
       "    <tr>\n",
       "      <th>count</th>\n",
       "      <td>32551.000000</td>\n",
       "      <td>12501.000000</td>\n",
       "    </tr>\n",
       "    <tr>\n",
       "      <th>mean</th>\n",
       "      <td>447567.353138</td>\n",
       "      <td>337756.457163</td>\n",
       "    </tr>\n",
       "    <tr>\n",
       "      <th>std</th>\n",
       "      <td>169923.289989</td>\n",
       "      <td>185447.236277</td>\n",
       "    </tr>\n",
       "    <tr>\n",
       "      <th>min</th>\n",
       "      <td>35689.000000</td>\n",
       "      <td>2654.000000</td>\n",
       "    </tr>\n",
       "    <tr>\n",
       "      <th>25%</th>\n",
       "      <td>306819.500000</td>\n",
       "      <td>218999.000000</td>\n",
       "    </tr>\n",
       "    <tr>\n",
       "      <th>50%</th>\n",
       "      <td>407940.000000</td>\n",
       "      <td>304045.000000</td>\n",
       "    </tr>\n",
       "    <tr>\n",
       "      <th>75%</th>\n",
       "      <td>545980.500000</td>\n",
       "      <td>466025.000000</td>\n",
       "    </tr>\n",
       "    <tr>\n",
       "      <th>max</th>\n",
       "      <td>955875.000000</td>\n",
       "      <td>955075.000000</td>\n",
       "    </tr>\n",
       "  </tbody>\n",
       "</table>\n",
       "</div>"
      ],
      "text/plain": [
       "            Issue_id  Duplicated_issue\n",
       "count   32551.000000      12501.000000\n",
       "mean   447567.353138     337756.457163\n",
       "std    169923.289989     185447.236277\n",
       "min     35689.000000       2654.000000\n",
       "25%    306819.500000     218999.000000\n",
       "50%    407940.000000     304045.000000\n",
       "75%    545980.500000     466025.000000\n",
       "max    955875.000000     955075.000000"
      ]
     },
     "execution_count": 18,
     "metadata": {},
     "output_type": "execute_result"
    }
   ],
   "source": [
    "df.describe()"
   ]
  },
  {
   "cell_type": "code",
   "execution_count": 19,
   "metadata": {
    "ExecuteTime": {
     "end_time": "2020-12-28T16:59:50.591395Z",
     "start_time": "2020-12-28T16:59:50.559433Z"
    }
   },
   "outputs": [
    {
     "data": {
      "text/html": [
       "<div>\n",
       "<style scoped>\n",
       "    .dataframe tbody tr th:only-of-type {\n",
       "        vertical-align: middle;\n",
       "    }\n",
       "\n",
       "    .dataframe tbody tr th {\n",
       "        vertical-align: top;\n",
       "    }\n",
       "\n",
       "    .dataframe thead th {\n",
       "        text-align: right;\n",
       "    }\n",
       "</style>\n",
       "<table border=\"1\" class=\"dataframe\">\n",
       "  <thead>\n",
       "    <tr style=\"text-align: right;\">\n",
       "      <th></th>\n",
       "      <th>Issue_id</th>\n",
       "      <th>Priority</th>\n",
       "      <th>Component</th>\n",
       "      <th>Duplicated_issue</th>\n",
       "      <th>Title</th>\n",
       "      <th>Description</th>\n",
       "      <th>Resolution</th>\n",
       "      <th>Version</th>\n",
       "      <th>Created_time</th>\n",
       "      <th>Resolved_time</th>\n",
       "      <th>StatusResolution</th>\n",
       "    </tr>\n",
       "    <tr>\n",
       "      <th>Status</th>\n",
       "      <th></th>\n",
       "      <th></th>\n",
       "      <th></th>\n",
       "      <th></th>\n",
       "      <th></th>\n",
       "      <th></th>\n",
       "      <th></th>\n",
       "      <th></th>\n",
       "      <th></th>\n",
       "      <th></th>\n",
       "      <th></th>\n",
       "    </tr>\n",
       "  </thead>\n",
       "  <tbody>\n",
       "    <tr>\n",
       "      <th>RESOLVED</th>\n",
       "      <td>30278</td>\n",
       "      <td>30278</td>\n",
       "      <td>30278</td>\n",
       "      <td>11450</td>\n",
       "      <td>30278</td>\n",
       "      <td>30234</td>\n",
       "      <td>30278</td>\n",
       "      <td>30278</td>\n",
       "      <td>30278</td>\n",
       "      <td>30278</td>\n",
       "      <td>30278</td>\n",
       "    </tr>\n",
       "    <tr>\n",
       "      <th>VERIFIED</th>\n",
       "      <td>2273</td>\n",
       "      <td>2273</td>\n",
       "      <td>2273</td>\n",
       "      <td>1051</td>\n",
       "      <td>2273</td>\n",
       "      <td>2267</td>\n",
       "      <td>2273</td>\n",
       "      <td>2273</td>\n",
       "      <td>2273</td>\n",
       "      <td>2273</td>\n",
       "      <td>2273</td>\n",
       "    </tr>\n",
       "  </tbody>\n",
       "</table>\n",
       "</div>"
      ],
      "text/plain": [
       "          Issue_id  Priority  Component  Duplicated_issue  Title  Description  \\\n",
       "Status                                                                          \n",
       "RESOLVED     30278     30278      30278             11450  30278        30234   \n",
       "VERIFIED      2273      2273       2273              1051   2273         2267   \n",
       "\n",
       "          Resolution  Version  Created_time  Resolved_time  StatusResolution  \n",
       "Status                                                                        \n",
       "RESOLVED       30278    30278         30278          30278             30278  \n",
       "VERIFIED        2273     2273          2273           2273              2273  "
      ]
     },
     "execution_count": 19,
     "metadata": {},
     "output_type": "execute_result"
    }
   ],
   "source": [
    "df.groupby(['Status']).count()"
   ]
  },
  {
   "cell_type": "markdown",
   "metadata": {},
   "source": [
    "# Preprocessing raw data"
   ]
  },
  {
   "cell_type": "code",
   "execution_count": 29,
   "metadata": {
    "ExecuteTime": {
     "end_time": "2020-12-28T17:00:49.466539Z",
     "start_time": "2020-12-28T17:00:49.463524Z"
    }
   },
   "outputs": [
    {
     "data": {
      "text/plain": [
       "Index(['Issue_id', 'Priority', 'Component', 'Duplicated_issue', 'Title',\n",
       "       'Description', 'Status', 'Resolution', 'Version', 'Created_time',\n",
       "       'Resolved_time', 'StatusResolution'],\n",
       "      dtype='object')"
      ]
     },
     "execution_count": 29,
     "metadata": {},
     "output_type": "execute_result"
    }
   ],
   "source": [
    "df.columns  # Title, Description [features] | Status [labels]"
   ]
  },
  {
   "cell_type": "code",
   "execution_count": 19,
   "metadata": {
    "ExecuteTime": {
     "end_time": "2020-12-28T19:02:48.757723Z",
     "start_time": "2020-12-28T19:02:48.709762Z"
    }
   },
   "outputs": [
    {
     "data": {
      "text/html": [
       "<div>\n",
       "<style scoped>\n",
       "    .dataframe tbody tr th:only-of-type {\n",
       "        vertical-align: middle;\n",
       "    }\n",
       "\n",
       "    .dataframe tbody tr th {\n",
       "        vertical-align: top;\n",
       "    }\n",
       "\n",
       "    .dataframe thead th {\n",
       "        text-align: right;\n",
       "    }\n",
       "</style>\n",
       "<table border=\"1\" class=\"dataframe\">\n",
       "  <thead>\n",
       "    <tr style=\"text-align: right;\">\n",
       "      <th></th>\n",
       "      <th>Issue_id</th>\n",
       "      <th>Priority</th>\n",
       "      <th>Component</th>\n",
       "      <th>Duplicated_issue</th>\n",
       "      <th>Title</th>\n",
       "      <th>Description</th>\n",
       "      <th>Status</th>\n",
       "      <th>Resolution</th>\n",
       "      <th>Version</th>\n",
       "      <th>Created_time</th>\n",
       "      <th>Resolved_time</th>\n",
       "      <th>StatusResolution</th>\n",
       "      <th>Content</th>\n",
       "    </tr>\n",
       "  </thead>\n",
       "  <tbody>\n",
       "    <tr>\n",
       "      <th>0</th>\n",
       "      <td>35689</td>\n",
       "      <td>P3</td>\n",
       "      <td>Message Reader UI</td>\n",
       "      <td>NaN</td>\n",
       "      <td>Newsgroup postings dont linkify newsgroup head...</td>\n",
       "      <td>Using 2000-04-12 m15 commercial builds; ; This...</td>\n",
       "      <td>RESOLVED</td>\n",
       "      <td>FIXED</td>\n",
       "      <td>unspecified</td>\n",
       "      <td>2000-04-12 17:25:04 -0700</td>\n",
       "      <td>2010-05-13 07:53:25 -0700</td>\n",
       "      <td>RESOLVED_FIXED</td>\n",
       "      <td>Newsgroup postings dont linkify newsgroup head...</td>\n",
       "    </tr>\n",
       "    <tr>\n",
       "      <th>1</th>\n",
       "      <td>36836</td>\n",
       "      <td>--</td>\n",
       "      <td>General</td>\n",
       "      <td>NaN</td>\n",
       "      <td>mail conduit for the palm devices</td>\n",
       "      <td>At present; there is no conduit available for ...</td>\n",
       "      <td>RESOLVED</td>\n",
       "      <td>WONTFIX</td>\n",
       "      <td>unspecified</td>\n",
       "      <td>2000-04-22 12:00:39 -0700</td>\n",
       "      <td>2012-07-02 05:13:49 -0700</td>\n",
       "      <td>RESOLVED_WONTFIX</td>\n",
       "      <td>mail conduit for the palm devices At present; ...</td>\n",
       "    </tr>\n",
       "    <tr>\n",
       "      <th>2</th>\n",
       "      <td>51181</td>\n",
       "      <td>--</td>\n",
       "      <td>Mail Window Front End</td>\n",
       "      <td>NaN</td>\n",
       "      <td>User notification of no new mail needed in sta...</td>\n",
       "      <td>From Bugzilla Helper:; User-Agent: Mozilla/5.0...</td>\n",
       "      <td>RESOLVED</td>\n",
       "      <td>WORKSFORME</td>\n",
       "      <td>Trunk</td>\n",
       "      <td>2000-09-02 11:44:34 -0700</td>\n",
       "      <td>2009-08-26 09:39:21 -0700</td>\n",
       "      <td>RESOLVED_WORKSFORME</td>\n",
       "      <td>User notification of no new mail needed in sta...</td>\n",
       "    </tr>\n",
       "    <tr>\n",
       "      <th>3</th>\n",
       "      <td>58140</td>\n",
       "      <td>--</td>\n",
       "      <td>General</td>\n",
       "      <td>NaN</td>\n",
       "      <td>save multiple messages as individual files in ...</td>\n",
       "      <td>In the MailNews file menu there is a Save As s...</td>\n",
       "      <td>RESOLVED</td>\n",
       "      <td>FIXED</td>\n",
       "      <td>unspecified</td>\n",
       "      <td>2000-10-26 15:57:01 -0700</td>\n",
       "      <td>2011-10-26 22:48:36 -0700</td>\n",
       "      <td>RESOLVED_FIXED</td>\n",
       "      <td>save multiple messages as individual files in ...</td>\n",
       "    </tr>\n",
       "    <tr>\n",
       "      <th>4</th>\n",
       "      <td>67219</td>\n",
       "      <td>--</td>\n",
       "      <td>Mail Window Front End</td>\n",
       "      <td>NaN</td>\n",
       "      <td>Disable filters menu item when no accounts are...</td>\n",
       "      <td>NaN</td>\n",
       "      <td>RESOLVED</td>\n",
       "      <td>FIXED</td>\n",
       "      <td>Trunk</td>\n",
       "      <td>2001-01-31 13:03:14 -0800</td>\n",
       "      <td>2010-06-27 09:42:42 -0700</td>\n",
       "      <td>RESOLVED_FIXED</td>\n",
       "      <td>NaN</td>\n",
       "    </tr>\n",
       "  </tbody>\n",
       "</table>\n",
       "</div>"
      ],
      "text/plain": [
       "   Issue_id Priority              Component  Duplicated_issue  \\\n",
       "0     35689       P3      Message Reader UI               NaN   \n",
       "1     36836       --                General               NaN   \n",
       "2     51181       --  Mail Window Front End               NaN   \n",
       "3     58140       --                General               NaN   \n",
       "4     67219       --  Mail Window Front End               NaN   \n",
       "\n",
       "                                               Title  \\\n",
       "0  Newsgroup postings dont linkify newsgroup head...   \n",
       "1                  mail conduit for the palm devices   \n",
       "2  User notification of no new mail needed in sta...   \n",
       "3  save multiple messages as individual files in ...   \n",
       "4  Disable filters menu item when no accounts are...   \n",
       "\n",
       "                                         Description    Status  Resolution  \\\n",
       "0  Using 2000-04-12 m15 commercial builds; ; This...  RESOLVED       FIXED   \n",
       "1  At present; there is no conduit available for ...  RESOLVED     WONTFIX   \n",
       "2  From Bugzilla Helper:; User-Agent: Mozilla/5.0...  RESOLVED  WORKSFORME   \n",
       "3  In the MailNews file menu there is a Save As s...  RESOLVED       FIXED   \n",
       "4                                                NaN  RESOLVED       FIXED   \n",
       "\n",
       "       Version               Created_time              Resolved_time  \\\n",
       "0  unspecified  2000-04-12 17:25:04 -0700  2010-05-13 07:53:25 -0700   \n",
       "1  unspecified  2000-04-22 12:00:39 -0700  2012-07-02 05:13:49 -0700   \n",
       "2        Trunk  2000-09-02 11:44:34 -0700  2009-08-26 09:39:21 -0700   \n",
       "3  unspecified  2000-10-26 15:57:01 -0700  2011-10-26 22:48:36 -0700   \n",
       "4        Trunk  2001-01-31 13:03:14 -0800  2010-06-27 09:42:42 -0700   \n",
       "\n",
       "      StatusResolution                                            Content  \n",
       "0       RESOLVED_FIXED  Newsgroup postings dont linkify newsgroup head...  \n",
       "1     RESOLVED_WONTFIX  mail conduit for the palm devices At present; ...  \n",
       "2  RESOLVED_WORKSFORME  User notification of no new mail needed in sta...  \n",
       "3       RESOLVED_FIXED  save multiple messages as individual files in ...  \n",
       "4       RESOLVED_FIXED                                                NaN  "
      ]
     },
     "execution_count": 19,
     "metadata": {},
     "output_type": "execute_result"
    }
   ],
   "source": [
    "# col = ['Title', 'Description', 'Status']\n",
    "df['Content'] = df['Title'] + ' ' + df['Description']\n",
    "\n",
    "df.head()"
   ]
  },
  {
   "cell_type": "code",
   "execution_count": 113,
   "metadata": {
    "ExecuteTime": {
     "end_time": "2020-12-28T20:29:13.213211Z",
     "start_time": "2020-12-28T20:29:13.203215Z"
    }
   },
   "outputs": [
    {
     "data": {
      "text/html": [
       "<div>\n",
       "<style scoped>\n",
       "    .dataframe tbody tr th:only-of-type {\n",
       "        vertical-align: middle;\n",
       "    }\n",
       "\n",
       "    .dataframe tbody tr th {\n",
       "        vertical-align: top;\n",
       "    }\n",
       "\n",
       "    .dataframe thead th {\n",
       "        text-align: right;\n",
       "    }\n",
       "</style>\n",
       "<table border=\"1\" class=\"dataframe\">\n",
       "  <thead>\n",
       "    <tr style=\"text-align: right;\">\n",
       "      <th></th>\n",
       "      <th>Content</th>\n",
       "      <th>StatusResolution</th>\n",
       "    </tr>\n",
       "  </thead>\n",
       "  <tbody>\n",
       "    <tr>\n",
       "      <th>0</th>\n",
       "      <td>Newsgroup postings dont linkify newsgroup head...</td>\n",
       "      <td>RESOLVED_FIXED</td>\n",
       "    </tr>\n",
       "    <tr>\n",
       "      <th>1</th>\n",
       "      <td>mail conduit for the palm devices At present; ...</td>\n",
       "      <td>RESOLVED_WONTFIX</td>\n",
       "    </tr>\n",
       "    <tr>\n",
       "      <th>2</th>\n",
       "      <td>User notification of no new mail needed in sta...</td>\n",
       "      <td>RESOLVED_WORKSFORME</td>\n",
       "    </tr>\n",
       "    <tr>\n",
       "      <th>3</th>\n",
       "      <td>save multiple messages as individual files in ...</td>\n",
       "      <td>RESOLVED_FIXED</td>\n",
       "    </tr>\n",
       "    <tr>\n",
       "      <th>5</th>\n",
       "      <td>when sending mail; should first check no recip...</td>\n",
       "      <td>RESOLVED_FIXED</td>\n",
       "    </tr>\n",
       "  </tbody>\n",
       "</table>\n",
       "</div>"
      ],
      "text/plain": [
       "                                             Content     StatusResolution\n",
       "0  Newsgroup postings dont linkify newsgroup head...       RESOLVED_FIXED\n",
       "1  mail conduit for the palm devices At present; ...     RESOLVED_WONTFIX\n",
       "2  User notification of no new mail needed in sta...  RESOLVED_WORKSFORME\n",
       "3  save multiple messages as individual files in ...       RESOLVED_FIXED\n",
       "5  when sending mail; should first check no recip...       RESOLVED_FIXED"
      ]
     },
     "execution_count": 113,
     "metadata": {},
     "output_type": "execute_result"
    }
   ],
   "source": [
    "df = df[['Content', 'StatusResolution']]\n",
    "\n",
    "df.head()"
   ]
  },
  {
   "cell_type": "markdown",
   "metadata": {},
   "source": [
    "## Extra columns to meta_data"
   ]
  },
  {
   "cell_type": "markdown",
   "metadata": {},
   "source": [
    "Next we are going to create some news variables columns to try to improve the quaity of our classifier, we will create: <br>\n",
    "Polarity: to check the sentiment of the text <br>\n",
    "Subjectivity: to check if text is objective or subjective <br>\n",
    "The number of word in the text"
   ]
  },
  {
   "cell_type": "code",
   "execution_count": 114,
   "metadata": {
    "ExecuteTime": {
     "end_time": "2020-12-28T20:31:04.678262Z",
     "start_time": "2020-12-28T20:29:16.635054Z"
    }
   },
   "outputs": [
    {
     "data": {
      "text/html": [
       "<div>\n",
       "<style scoped>\n",
       "    .dataframe tbody tr th:only-of-type {\n",
       "        vertical-align: middle;\n",
       "    }\n",
       "\n",
       "    .dataframe tbody tr th {\n",
       "        vertical-align: top;\n",
       "    }\n",
       "\n",
       "    .dataframe thead th {\n",
       "        text-align: right;\n",
       "    }\n",
       "</style>\n",
       "<table border=\"1\" class=\"dataframe\">\n",
       "  <thead>\n",
       "    <tr style=\"text-align: right;\">\n",
       "      <th></th>\n",
       "      <th>Content</th>\n",
       "      <th>StatusResolution</th>\n",
       "      <th>polarity</th>\n",
       "      <th>subjectivity</th>\n",
       "      <th>len_text</th>\n",
       "    </tr>\n",
       "  </thead>\n",
       "  <tbody>\n",
       "    <tr>\n",
       "      <th>0</th>\n",
       "      <td>Newsgroup postings dont linkify newsgroup head...</td>\n",
       "      <td>RESOLVED_FIXED</td>\n",
       "      <td>0.070000</td>\n",
       "      <td>0.335000</td>\n",
       "      <td>0.256983</td>\n",
       "    </tr>\n",
       "    <tr>\n",
       "      <th>1</th>\n",
       "      <td>mail conduit for the palm devices At present; ...</td>\n",
       "      <td>RESOLVED_WONTFIX</td>\n",
       "      <td>0.233333</td>\n",
       "      <td>0.133333</td>\n",
       "      <td>0.395833</td>\n",
       "    </tr>\n",
       "  </tbody>\n",
       "</table>\n",
       "</div>"
      ],
      "text/plain": [
       "                                             Content  StatusResolution  \\\n",
       "0  Newsgroup postings dont linkify newsgroup head...    RESOLVED_FIXED   \n",
       "1  mail conduit for the palm devices At present; ...  RESOLVED_WONTFIX   \n",
       "\n",
       "   polarity  subjectivity  len_text  \n",
       "0  0.070000      0.335000  0.256983  \n",
       "1  0.233333      0.133333  0.395833  "
      ]
     },
     "execution_count": 114,
     "metadata": {},
     "output_type": "execute_result"
    }
   ],
   "source": [
    "df['polarity'] = df['Content'].apply(polarity_txt)\n",
    "df['subjectivity'] = df['Content'].apply(subj_txt)\n",
    "df['len_text'] = df['Content'].apply(len_text)\n",
    "df.head(2)"
   ]
  },
  {
   "cell_type": "code",
   "execution_count": 115,
   "metadata": {
    "ExecuteTime": {
     "end_time": "2020-12-28T20:32:24.455893Z",
     "start_time": "2020-12-28T20:32:24.442930Z"
    }
   },
   "outputs": [
    {
     "name": "stdout",
     "output_type": "stream",
     "text": [
      "<class 'pandas.core.frame.DataFrame'>\n",
      "Int64Index: 32433 entries, 0 to 32550\n",
      "Data columns (total 5 columns):\n",
      "Content             32433 non-null object\n",
      "StatusResolution    32433 non-null object\n",
      "polarity            32433 non-null float64\n",
      "subjectivity        32433 non-null float64\n",
      "len_text            32433 non-null float64\n",
      "dtypes: float64(3), object(2)\n",
      "memory usage: 1.5+ MB\n"
     ]
    }
   ],
   "source": [
    "df.info()"
   ]
  },
  {
   "cell_type": "code",
   "execution_count": 116,
   "metadata": {
    "ExecuteTime": {
     "end_time": "2020-12-28T20:32:27.403062Z",
     "start_time": "2020-12-28T20:32:27.386107Z"
    }
   },
   "outputs": [
    {
     "name": "stdout",
     "output_type": "stream",
     "text": [
      "<class 'pandas.core.frame.DataFrame'>\n",
      "Int64Index: 32433 entries, 0 to 32550\n",
      "Data columns (total 5 columns):\n",
      "Content             32433 non-null object\n",
      "StatusResolution    32433 non-null object\n",
      "polarity            32433 non-null float64\n",
      "subjectivity        32433 non-null float64\n",
      "len_text            32433 non-null float64\n",
      "dtypes: float64(3), object(2)\n",
      "memory usage: 1.5+ MB\n"
     ]
    }
   ],
   "source": [
    "# remove null, keep not null \n",
    "df = df[pd.notnull(df['Content'])]\n",
    "\n",
    "df.info()"
   ]
  },
  {
   "cell_type": "code",
   "execution_count": 117,
   "metadata": {
    "ExecuteTime": {
     "end_time": "2020-12-28T20:32:29.697071Z",
     "start_time": "2020-12-28T20:32:29.578563Z"
    }
   },
   "outputs": [
    {
     "name": "stdout",
     "output_type": "stream",
     "text": [
      "<class 'pandas.core.frame.DataFrame'>\n",
      "Int64Index: 32433 entries, 0 to 32550\n",
      "Data columns (total 5 columns):\n",
      "Content             32433 non-null object\n",
      "StatusResolution    32433 non-null object\n",
      "polarity            32433 non-null float64\n",
      "subjectivity        32433 non-null float64\n",
      "len_text            32433 non-null float64\n",
      "dtypes: float64(3), object(2)\n",
      "memory usage: 1.5+ MB\n"
     ]
    }
   ],
   "source": [
    "# remove duplicate records\n",
    "df = df.drop_duplicates()\n",
    "\n",
    "df.info()"
   ]
  },
  {
   "cell_type": "code",
   "execution_count": 118,
   "metadata": {
    "ExecuteTime": {
     "end_time": "2020-12-28T20:32:31.502597Z",
     "start_time": "2020-12-28T20:32:31.487666Z"
    }
   },
   "outputs": [
    {
     "data": {
      "text/html": [
       "<div>\n",
       "<style scoped>\n",
       "    .dataframe tbody tr th:only-of-type {\n",
       "        vertical-align: middle;\n",
       "    }\n",
       "\n",
       "    .dataframe tbody tr th {\n",
       "        vertical-align: top;\n",
       "    }\n",
       "\n",
       "    .dataframe thead th {\n",
       "        text-align: right;\n",
       "    }\n",
       "</style>\n",
       "<table border=\"1\" class=\"dataframe\">\n",
       "  <thead>\n",
       "    <tr style=\"text-align: right;\">\n",
       "      <th></th>\n",
       "      <th>Content</th>\n",
       "      <th>polarity</th>\n",
       "      <th>subjectivity</th>\n",
       "      <th>len_text</th>\n",
       "    </tr>\n",
       "    <tr>\n",
       "      <th>StatusResolution</th>\n",
       "      <th></th>\n",
       "      <th></th>\n",
       "      <th></th>\n",
       "      <th></th>\n",
       "    </tr>\n",
       "  </thead>\n",
       "  <tbody>\n",
       "    <tr>\n",
       "      <th>RESOLVED_DUPLICATE</th>\n",
       "      <td>11384</td>\n",
       "      <td>11384</td>\n",
       "      <td>11384</td>\n",
       "      <td>11384</td>\n",
       "    </tr>\n",
       "    <tr>\n",
       "      <th>RESOLVED_EXPIRED</th>\n",
       "      <td>1405</td>\n",
       "      <td>1405</td>\n",
       "      <td>1405</td>\n",
       "      <td>1405</td>\n",
       "    </tr>\n",
       "    <tr>\n",
       "      <th>RESOLVED_FIXED</th>\n",
       "      <td>4982</td>\n",
       "      <td>4982</td>\n",
       "      <td>4982</td>\n",
       "      <td>4982</td>\n",
       "    </tr>\n",
       "    <tr>\n",
       "      <th>RESOLVED_INCOMPLETE</th>\n",
       "      <td>3705</td>\n",
       "      <td>3705</td>\n",
       "      <td>3705</td>\n",
       "      <td>3705</td>\n",
       "    </tr>\n",
       "    <tr>\n",
       "      <th>RESOLVED_INVALID</th>\n",
       "      <td>3262</td>\n",
       "      <td>3262</td>\n",
       "      <td>3262</td>\n",
       "      <td>3262</td>\n",
       "    </tr>\n",
       "    <tr>\n",
       "      <th>RESOLVED_WONTFIX</th>\n",
       "      <td>702</td>\n",
       "      <td>702</td>\n",
       "      <td>702</td>\n",
       "      <td>702</td>\n",
       "    </tr>\n",
       "    <tr>\n",
       "      <th>RESOLVED_WORKSFORME</th>\n",
       "      <td>4730</td>\n",
       "      <td>4730</td>\n",
       "      <td>4730</td>\n",
       "      <td>4730</td>\n",
       "    </tr>\n",
       "    <tr>\n",
       "      <th>VERIFIED_DUPLICATE</th>\n",
       "      <td>1048</td>\n",
       "      <td>1048</td>\n",
       "      <td>1048</td>\n",
       "      <td>1048</td>\n",
       "    </tr>\n",
       "    <tr>\n",
       "      <th>VERIFIED_EXPIRED</th>\n",
       "      <td>2</td>\n",
       "      <td>2</td>\n",
       "      <td>2</td>\n",
       "      <td>2</td>\n",
       "    </tr>\n",
       "    <tr>\n",
       "      <th>VERIFIED_FIXED</th>\n",
       "      <td>691</td>\n",
       "      <td>691</td>\n",
       "      <td>691</td>\n",
       "      <td>691</td>\n",
       "    </tr>\n",
       "    <tr>\n",
       "      <th>VERIFIED_INCOMPLETE</th>\n",
       "      <td>23</td>\n",
       "      <td>23</td>\n",
       "      <td>23</td>\n",
       "      <td>23</td>\n",
       "    </tr>\n",
       "    <tr>\n",
       "      <th>VERIFIED_INVALID</th>\n",
       "      <td>286</td>\n",
       "      <td>286</td>\n",
       "      <td>286</td>\n",
       "      <td>286</td>\n",
       "    </tr>\n",
       "    <tr>\n",
       "      <th>VERIFIED_WONTFIX</th>\n",
       "      <td>28</td>\n",
       "      <td>28</td>\n",
       "      <td>28</td>\n",
       "      <td>28</td>\n",
       "    </tr>\n",
       "    <tr>\n",
       "      <th>VERIFIED_WORKSFORME</th>\n",
       "      <td>185</td>\n",
       "      <td>185</td>\n",
       "      <td>185</td>\n",
       "      <td>185</td>\n",
       "    </tr>\n",
       "  </tbody>\n",
       "</table>\n",
       "</div>"
      ],
      "text/plain": [
       "                     Content  polarity  subjectivity  len_text\n",
       "StatusResolution                                              \n",
       "RESOLVED_DUPLICATE     11384     11384         11384     11384\n",
       "RESOLVED_EXPIRED        1405      1405          1405      1405\n",
       "RESOLVED_FIXED          4982      4982          4982      4982\n",
       "RESOLVED_INCOMPLETE     3705      3705          3705      3705\n",
       "RESOLVED_INVALID        3262      3262          3262      3262\n",
       "RESOLVED_WONTFIX         702       702           702       702\n",
       "RESOLVED_WORKSFORME     4730      4730          4730      4730\n",
       "VERIFIED_DUPLICATE      1048      1048          1048      1048\n",
       "VERIFIED_EXPIRED           2         2             2         2\n",
       "VERIFIED_FIXED           691       691           691       691\n",
       "VERIFIED_INCOMPLETE       23        23            23        23\n",
       "VERIFIED_INVALID         286       286           286       286\n",
       "VERIFIED_WONTFIX          28        28            28        28\n",
       "VERIFIED_WORKSFORME      185       185           185       185"
      ]
     },
     "execution_count": 118,
     "metadata": {},
     "output_type": "execute_result"
    }
   ],
   "source": [
    "df.groupby('StatusResolution').count()  # imbalanced"
   ]
  },
  {
   "cell_type": "code",
   "execution_count": 35,
   "metadata": {
    "ExecuteTime": {
     "end_time": "2020-12-28T17:01:17.239594Z",
     "start_time": "2020-12-28T17:01:17.174765Z"
    },
    "collapsed": true
   },
   "outputs": [
    {
     "ename": "KeyError",
     "evalue": "'Status'",
     "output_type": "error",
     "traceback": [
      "\u001b[1;31m---------------------------------------------------------------------------\u001b[0m",
      "\u001b[1;31mKeyError\u001b[0m                                  Traceback (most recent call last)",
      "\u001b[1;32m~\\Anaconda3\\lib\\site-packages\\pandas\\core\\indexes\\base.py\u001b[0m in \u001b[0;36mget_loc\u001b[1;34m(self, key, method, tolerance)\u001b[0m\n\u001b[0;32m   2656\u001b[0m             \u001b[1;32mtry\u001b[0m\u001b[1;33m:\u001b[0m\u001b[1;33m\u001b[0m\u001b[1;33m\u001b[0m\u001b[0m\n\u001b[1;32m-> 2657\u001b[1;33m                 \u001b[1;32mreturn\u001b[0m \u001b[0mself\u001b[0m\u001b[1;33m.\u001b[0m\u001b[0m_engine\u001b[0m\u001b[1;33m.\u001b[0m\u001b[0mget_loc\u001b[0m\u001b[1;33m(\u001b[0m\u001b[0mkey\u001b[0m\u001b[1;33m)\u001b[0m\u001b[1;33m\u001b[0m\u001b[1;33m\u001b[0m\u001b[0m\n\u001b[0m\u001b[0;32m   2658\u001b[0m             \u001b[1;32mexcept\u001b[0m \u001b[0mKeyError\u001b[0m\u001b[1;33m:\u001b[0m\u001b[1;33m\u001b[0m\u001b[1;33m\u001b[0m\u001b[0m\n",
      "\u001b[1;32mpandas/_libs/index.pyx\u001b[0m in \u001b[0;36mpandas._libs.index.IndexEngine.get_loc\u001b[1;34m()\u001b[0m\n",
      "\u001b[1;32mpandas/_libs/index.pyx\u001b[0m in \u001b[0;36mpandas._libs.index.IndexEngine.get_loc\u001b[1;34m()\u001b[0m\n",
      "\u001b[1;32mpandas/_libs/hashtable_class_helper.pxi\u001b[0m in \u001b[0;36mpandas._libs.hashtable.PyObjectHashTable.get_item\u001b[1;34m()\u001b[0m\n",
      "\u001b[1;32mpandas/_libs/hashtable_class_helper.pxi\u001b[0m in \u001b[0;36mpandas._libs.hashtable.PyObjectHashTable.get_item\u001b[1;34m()\u001b[0m\n",
      "\u001b[1;31mKeyError\u001b[0m: 'Status'",
      "\nDuring handling of the above exception, another exception occurred:\n",
      "\u001b[1;31mKeyError\u001b[0m                                  Traceback (most recent call last)",
      "\u001b[1;32m<ipython-input-35-8e18a3c3bae0>\u001b[0m in \u001b[0;36m<module>\u001b[1;34m\u001b[0m\n\u001b[1;32m----> 1\u001b[1;33m \u001b[0mdf\u001b[0m\u001b[1;33m[\u001b[0m\u001b[1;34m'Status'\u001b[0m\u001b[1;33m]\u001b[0m\u001b[1;33m.\u001b[0m\u001b[0mvalue_counts\u001b[0m\u001b[1;33m(\u001b[0m\u001b[1;33m)\u001b[0m\u001b[1;33m\u001b[0m\u001b[1;33m\u001b[0m\u001b[0m\n\u001b[0m",
      "\u001b[1;32m~\\Anaconda3\\lib\\site-packages\\pandas\\core\\frame.py\u001b[0m in \u001b[0;36m__getitem__\u001b[1;34m(self, key)\u001b[0m\n\u001b[0;32m   2925\u001b[0m             \u001b[1;32mif\u001b[0m \u001b[0mself\u001b[0m\u001b[1;33m.\u001b[0m\u001b[0mcolumns\u001b[0m\u001b[1;33m.\u001b[0m\u001b[0mnlevels\u001b[0m \u001b[1;33m>\u001b[0m \u001b[1;36m1\u001b[0m\u001b[1;33m:\u001b[0m\u001b[1;33m\u001b[0m\u001b[1;33m\u001b[0m\u001b[0m\n\u001b[0;32m   2926\u001b[0m                 \u001b[1;32mreturn\u001b[0m \u001b[0mself\u001b[0m\u001b[1;33m.\u001b[0m\u001b[0m_getitem_multilevel\u001b[0m\u001b[1;33m(\u001b[0m\u001b[0mkey\u001b[0m\u001b[1;33m)\u001b[0m\u001b[1;33m\u001b[0m\u001b[1;33m\u001b[0m\u001b[0m\n\u001b[1;32m-> 2927\u001b[1;33m             \u001b[0mindexer\u001b[0m \u001b[1;33m=\u001b[0m \u001b[0mself\u001b[0m\u001b[1;33m.\u001b[0m\u001b[0mcolumns\u001b[0m\u001b[1;33m.\u001b[0m\u001b[0mget_loc\u001b[0m\u001b[1;33m(\u001b[0m\u001b[0mkey\u001b[0m\u001b[1;33m)\u001b[0m\u001b[1;33m\u001b[0m\u001b[1;33m\u001b[0m\u001b[0m\n\u001b[0m\u001b[0;32m   2928\u001b[0m             \u001b[1;32mif\u001b[0m \u001b[0mis_integer\u001b[0m\u001b[1;33m(\u001b[0m\u001b[0mindexer\u001b[0m\u001b[1;33m)\u001b[0m\u001b[1;33m:\u001b[0m\u001b[1;33m\u001b[0m\u001b[1;33m\u001b[0m\u001b[0m\n\u001b[0;32m   2929\u001b[0m                 \u001b[0mindexer\u001b[0m \u001b[1;33m=\u001b[0m \u001b[1;33m[\u001b[0m\u001b[0mindexer\u001b[0m\u001b[1;33m]\u001b[0m\u001b[1;33m\u001b[0m\u001b[1;33m\u001b[0m\u001b[0m\n",
      "\u001b[1;32m~\\Anaconda3\\lib\\site-packages\\pandas\\core\\indexes\\base.py\u001b[0m in \u001b[0;36mget_loc\u001b[1;34m(self, key, method, tolerance)\u001b[0m\n\u001b[0;32m   2657\u001b[0m                 \u001b[1;32mreturn\u001b[0m \u001b[0mself\u001b[0m\u001b[1;33m.\u001b[0m\u001b[0m_engine\u001b[0m\u001b[1;33m.\u001b[0m\u001b[0mget_loc\u001b[0m\u001b[1;33m(\u001b[0m\u001b[0mkey\u001b[0m\u001b[1;33m)\u001b[0m\u001b[1;33m\u001b[0m\u001b[1;33m\u001b[0m\u001b[0m\n\u001b[0;32m   2658\u001b[0m             \u001b[1;32mexcept\u001b[0m \u001b[0mKeyError\u001b[0m\u001b[1;33m:\u001b[0m\u001b[1;33m\u001b[0m\u001b[1;33m\u001b[0m\u001b[0m\n\u001b[1;32m-> 2659\u001b[1;33m                 \u001b[1;32mreturn\u001b[0m \u001b[0mself\u001b[0m\u001b[1;33m.\u001b[0m\u001b[0m_engine\u001b[0m\u001b[1;33m.\u001b[0m\u001b[0mget_loc\u001b[0m\u001b[1;33m(\u001b[0m\u001b[0mself\u001b[0m\u001b[1;33m.\u001b[0m\u001b[0m_maybe_cast_indexer\u001b[0m\u001b[1;33m(\u001b[0m\u001b[0mkey\u001b[0m\u001b[1;33m)\u001b[0m\u001b[1;33m)\u001b[0m\u001b[1;33m\u001b[0m\u001b[1;33m\u001b[0m\u001b[0m\n\u001b[0m\u001b[0;32m   2660\u001b[0m         \u001b[0mindexer\u001b[0m \u001b[1;33m=\u001b[0m \u001b[0mself\u001b[0m\u001b[1;33m.\u001b[0m\u001b[0mget_indexer\u001b[0m\u001b[1;33m(\u001b[0m\u001b[1;33m[\u001b[0m\u001b[0mkey\u001b[0m\u001b[1;33m]\u001b[0m\u001b[1;33m,\u001b[0m \u001b[0mmethod\u001b[0m\u001b[1;33m=\u001b[0m\u001b[0mmethod\u001b[0m\u001b[1;33m,\u001b[0m \u001b[0mtolerance\u001b[0m\u001b[1;33m=\u001b[0m\u001b[0mtolerance\u001b[0m\u001b[1;33m)\u001b[0m\u001b[1;33m\u001b[0m\u001b[1;33m\u001b[0m\u001b[0m\n\u001b[0;32m   2661\u001b[0m         \u001b[1;32mif\u001b[0m \u001b[0mindexer\u001b[0m\u001b[1;33m.\u001b[0m\u001b[0mndim\u001b[0m \u001b[1;33m>\u001b[0m \u001b[1;36m1\u001b[0m \u001b[1;32mor\u001b[0m \u001b[0mindexer\u001b[0m\u001b[1;33m.\u001b[0m\u001b[0msize\u001b[0m \u001b[1;33m>\u001b[0m \u001b[1;36m1\u001b[0m\u001b[1;33m:\u001b[0m\u001b[1;33m\u001b[0m\u001b[1;33m\u001b[0m\u001b[0m\n",
      "\u001b[1;32mpandas/_libs/index.pyx\u001b[0m in \u001b[0;36mpandas._libs.index.IndexEngine.get_loc\u001b[1;34m()\u001b[0m\n",
      "\u001b[1;32mpandas/_libs/index.pyx\u001b[0m in \u001b[0;36mpandas._libs.index.IndexEngine.get_loc\u001b[1;34m()\u001b[0m\n",
      "\u001b[1;32mpandas/_libs/hashtable_class_helper.pxi\u001b[0m in \u001b[0;36mpandas._libs.hashtable.PyObjectHashTable.get_item\u001b[1;34m()\u001b[0m\n",
      "\u001b[1;32mpandas/_libs/hashtable_class_helper.pxi\u001b[0m in \u001b[0;36mpandas._libs.hashtable.PyObjectHashTable.get_item\u001b[1;34m()\u001b[0m\n",
      "\u001b[1;31mKeyError\u001b[0m: 'Status'"
     ]
    }
   ],
   "source": [
    "# df['Status'].value_counts()"
   ]
  },
  {
   "cell_type": "code",
   "execution_count": 119,
   "metadata": {
    "ExecuteTime": {
     "end_time": "2020-12-28T20:32:39.303560Z",
     "start_time": "2020-12-28T20:32:39.299565Z"
    }
   },
   "outputs": [
    {
     "data": {
      "text/plain": [
       "TfidfVectorizer(analyzer='word', binary=False, decode_error='strict',\n",
       "        dtype=<class 'numpy.float64'>, encoding='latin-1', input='content',\n",
       "        lowercase=True, max_df=1.0, max_features=None, min_df=5,\n",
       "        ngram_range=(1, 2), norm='l2', preprocessor=None, smooth_idf=True,\n",
       "        stop_words='english', strip_accents=None, sublinear_tf=True,\n",
       "        token_pattern='(?u)\\\\b\\\\w\\\\w+\\\\b', tokenizer=None, use_idf=True,\n",
       "        vocabulary=None)"
      ]
     },
     "execution_count": 119,
     "metadata": {},
     "output_type": "execute_result"
    }
   ],
   "source": [
    "tfidf = TfidfVectorizer(sublinear_tf=True, min_df=5, norm='l2', \n",
    "                        encoding='latin-1', ngram_range=(1,2),\n",
    "                       stop_words='english')\n",
    "tfidf"
   ]
  },
  {
   "cell_type": "code",
   "execution_count": 120,
   "metadata": {
    "ExecuteTime": {
     "end_time": "2020-12-28T20:32:41.025848Z",
     "start_time": "2020-12-28T20:32:41.017847Z"
    }
   },
   "outputs": [
    {
     "data": {
      "text/plain": [
       "32433"
      ]
     },
     "execution_count": 120,
     "metadata": {},
     "output_type": "execute_result"
    }
   ],
   "source": [
    "df.Content.count()  # 32501 features"
   ]
  },
  {
   "cell_type": "code",
   "execution_count": 121,
   "metadata": {
    "ExecuteTime": {
     "end_time": "2020-12-28T20:32:46.382701Z",
     "start_time": "2020-12-28T20:32:41.794450Z"
    },
    "collapsed": true
   },
   "outputs": [
    {
     "ename": "KeyboardInterrupt",
     "evalue": "",
     "output_type": "error",
     "traceback": [
      "\u001b[1;31m---------------------------------------------------------------------------\u001b[0m",
      "\u001b[1;31mKeyboardInterrupt\u001b[0m                         Traceback (most recent call last)",
      "\u001b[1;32m<ipython-input-121-f9e8c6deb864>\u001b[0m in \u001b[0;36m<module>\u001b[1;34m\u001b[0m\n\u001b[0;32m      1\u001b[0m \u001b[1;31m# display the feature\u001b[0m\u001b[1;33m\u001b[0m\u001b[1;33m\u001b[0m\u001b[1;33m\u001b[0m\u001b[0m\n\u001b[1;32m----> 2\u001b[1;33m \u001b[0mfeatures\u001b[0m \u001b[1;33m=\u001b[0m \u001b[0mtfidf\u001b[0m\u001b[1;33m.\u001b[0m\u001b[0mfit_transform\u001b[0m\u001b[1;33m(\u001b[0m\u001b[0mdf\u001b[0m\u001b[1;33m.\u001b[0m\u001b[0mContent\u001b[0m\u001b[1;33m)\u001b[0m\u001b[1;33m\u001b[0m\u001b[1;33m\u001b[0m\u001b[0m\n\u001b[0m\u001b[0;32m      3\u001b[0m \u001b[0mfeatures\u001b[0m\u001b[1;33m.\u001b[0m\u001b[0mshape\u001b[0m\u001b[1;33m\u001b[0m\u001b[1;33m\u001b[0m\u001b[0m\n\u001b[0;32m      4\u001b[0m \u001b[1;31m# before: (32501, 74110)\u001b[0m\u001b[1;33m\u001b[0m\u001b[1;33m\u001b[0m\u001b[1;33m\u001b[0m\u001b[0m\n\u001b[0;32m      5\u001b[0m \u001b[1;31m# after removing duplicate: (32433, 73863)\u001b[0m\u001b[1;33m\u001b[0m\u001b[1;33m\u001b[0m\u001b[1;33m\u001b[0m\u001b[0m\n",
      "\u001b[1;32m~\\Anaconda3\\lib\\site-packages\\sklearn\\feature_extraction\\text.py\u001b[0m in \u001b[0;36mfit_transform\u001b[1;34m(self, raw_documents, y)\u001b[0m\n\u001b[0;32m   1611\u001b[0m         \"\"\"\n\u001b[0;32m   1612\u001b[0m         \u001b[0mself\u001b[0m\u001b[1;33m.\u001b[0m\u001b[0m_check_params\u001b[0m\u001b[1;33m(\u001b[0m\u001b[1;33m)\u001b[0m\u001b[1;33m\u001b[0m\u001b[1;33m\u001b[0m\u001b[0m\n\u001b[1;32m-> 1613\u001b[1;33m         \u001b[0mX\u001b[0m \u001b[1;33m=\u001b[0m \u001b[0msuper\u001b[0m\u001b[1;33m(\u001b[0m\u001b[0mTfidfVectorizer\u001b[0m\u001b[1;33m,\u001b[0m \u001b[0mself\u001b[0m\u001b[1;33m)\u001b[0m\u001b[1;33m.\u001b[0m\u001b[0mfit_transform\u001b[0m\u001b[1;33m(\u001b[0m\u001b[0mraw_documents\u001b[0m\u001b[1;33m)\u001b[0m\u001b[1;33m\u001b[0m\u001b[1;33m\u001b[0m\u001b[0m\n\u001b[0m\u001b[0;32m   1614\u001b[0m         \u001b[0mself\u001b[0m\u001b[1;33m.\u001b[0m\u001b[0m_tfidf\u001b[0m\u001b[1;33m.\u001b[0m\u001b[0mfit\u001b[0m\u001b[1;33m(\u001b[0m\u001b[0mX\u001b[0m\u001b[1;33m)\u001b[0m\u001b[1;33m\u001b[0m\u001b[1;33m\u001b[0m\u001b[0m\n\u001b[0;32m   1615\u001b[0m         \u001b[1;31m# X is already a transformed view of raw_documents so\u001b[0m\u001b[1;33m\u001b[0m\u001b[1;33m\u001b[0m\u001b[1;33m\u001b[0m\u001b[0m\n",
      "\u001b[1;32m~\\Anaconda3\\lib\\site-packages\\sklearn\\feature_extraction\\text.py\u001b[0m in \u001b[0;36mfit_transform\u001b[1;34m(self, raw_documents, y)\u001b[0m\n\u001b[0;32m   1029\u001b[0m \u001b[1;33m\u001b[0m\u001b[0m\n\u001b[0;32m   1030\u001b[0m         vocabulary, X = self._count_vocab(raw_documents,\n\u001b[1;32m-> 1031\u001b[1;33m                                           self.fixed_vocabulary_)\n\u001b[0m\u001b[0;32m   1032\u001b[0m \u001b[1;33m\u001b[0m\u001b[0m\n\u001b[0;32m   1033\u001b[0m         \u001b[1;32mif\u001b[0m \u001b[0mself\u001b[0m\u001b[1;33m.\u001b[0m\u001b[0mbinary\u001b[0m\u001b[1;33m:\u001b[0m\u001b[1;33m\u001b[0m\u001b[1;33m\u001b[0m\u001b[0m\n",
      "\u001b[1;32m~\\Anaconda3\\lib\\site-packages\\sklearn\\feature_extraction\\text.py\u001b[0m in \u001b[0;36m_count_vocab\u001b[1;34m(self, raw_documents, fixed_vocab)\u001b[0m\n\u001b[0;32m    954\u001b[0m             \u001b[0mj_indices\u001b[0m\u001b[1;33m.\u001b[0m\u001b[0mextend\u001b[0m\u001b[1;33m(\u001b[0m\u001b[0mfeature_counter\u001b[0m\u001b[1;33m.\u001b[0m\u001b[0mkeys\u001b[0m\u001b[1;33m(\u001b[0m\u001b[1;33m)\u001b[0m\u001b[1;33m)\u001b[0m\u001b[1;33m\u001b[0m\u001b[1;33m\u001b[0m\u001b[0m\n\u001b[0;32m    955\u001b[0m             \u001b[0mvalues\u001b[0m\u001b[1;33m.\u001b[0m\u001b[0mextend\u001b[0m\u001b[1;33m(\u001b[0m\u001b[0mfeature_counter\u001b[0m\u001b[1;33m.\u001b[0m\u001b[0mvalues\u001b[0m\u001b[1;33m(\u001b[0m\u001b[1;33m)\u001b[0m\u001b[1;33m)\u001b[0m\u001b[1;33m\u001b[0m\u001b[1;33m\u001b[0m\u001b[0m\n\u001b[1;32m--> 956\u001b[1;33m             \u001b[0mindptr\u001b[0m\u001b[1;33m.\u001b[0m\u001b[0mappend\u001b[0m\u001b[1;33m(\u001b[0m\u001b[0mlen\u001b[0m\u001b[1;33m(\u001b[0m\u001b[0mj_indices\u001b[0m\u001b[1;33m)\u001b[0m\u001b[1;33m)\u001b[0m\u001b[1;33m\u001b[0m\u001b[1;33m\u001b[0m\u001b[0m\n\u001b[0m\u001b[0;32m    957\u001b[0m \u001b[1;33m\u001b[0m\u001b[0m\n\u001b[0;32m    958\u001b[0m         \u001b[1;32mif\u001b[0m \u001b[1;32mnot\u001b[0m \u001b[0mfixed_vocab\u001b[0m\u001b[1;33m:\u001b[0m\u001b[1;33m\u001b[0m\u001b[1;33m\u001b[0m\u001b[0m\n",
      "\u001b[1;31mKeyboardInterrupt\u001b[0m: "
     ]
    }
   ],
   "source": [
    "# display the feature\n",
    "features = tfidf.fit_transform(df.Content)\n",
    "features.shape  \n",
    "# before: (32501, 74110)\n",
    "# after removing duplicate: (32433, 73863)"
   ]
  },
  {
   "cell_type": "code",
   "execution_count": 42,
   "metadata": {
    "ExecuteTime": {
     "end_time": "2020-12-28T17:03:09.009237Z",
     "start_time": "2020-12-28T17:03:09.007222Z"
    }
   },
   "outputs": [],
   "source": [
    "# labels = df.Status\n",
    "labels = df.StatusResolution"
   ]
  },
  {
   "cell_type": "code",
   "execution_count": 43,
   "metadata": {
    "ExecuteTime": {
     "end_time": "2020-12-28T17:03:10.203289Z",
     "start_time": "2020-12-28T17:03:10.199299Z"
    }
   },
   "outputs": [
    {
     "data": {
      "text/plain": [
       "32433"
      ]
     },
     "execution_count": 43,
     "metadata": {},
     "output_type": "execute_result"
    }
   ],
   "source": [
    "len(labels)"
   ]
  },
  {
   "cell_type": "code",
   "execution_count": 44,
   "metadata": {
    "ExecuteTime": {
     "end_time": "2020-12-28T17:03:16.282103Z",
     "start_time": "2020-12-28T17:03:16.247196Z"
    }
   },
   "outputs": [],
   "source": [
    "#  Train test splitting\n",
    "# X_train, X_test, y_train, y_test = train_test_split(df['Content'], df['Status'], stratify=labels, test_size=0.1)\n",
    "\n",
    "# x_train, x_test, y_train, y_test = train_test_split(X, Y, test_size=0.2,\n",
    "#                                                     random_state=seed, stratify=y)\n",
    "\n",
    "X_train, X_test, y_train, y_test = train_test_split(df['Content'], df['StatusResolution'], stratify=labels, test_size=0.1)"
   ]
  },
  {
   "cell_type": "code",
   "execution_count": 45,
   "metadata": {
    "ExecuteTime": {
     "end_time": "2020-12-28T17:03:17.842399Z",
     "start_time": "2020-12-28T17:03:17.838380Z"
    }
   },
   "outputs": [
    {
     "data": {
      "text/plain": [
       "((29189,), (3244,), (29189,), (3244,))"
      ]
     },
     "execution_count": 45,
     "metadata": {},
     "output_type": "execute_result"
    }
   ],
   "source": [
    "X_train.shape, X_test.shape, y_train.shape, y_test.shape"
   ]
  },
  {
   "cell_type": "code",
   "execution_count": 46,
   "metadata": {
    "ExecuteTime": {
     "end_time": "2020-12-28T17:03:22.537569Z",
     "start_time": "2020-12-28T17:03:22.534578Z"
    }
   },
   "outputs": [],
   "source": [
    "count_vect = CountVectorizer()"
   ]
  },
  {
   "cell_type": "code",
   "execution_count": 177,
   "metadata": {
    "ExecuteTime": {
     "end_time": "2020-12-26T23:40:55.726308Z",
     "start_time": "2020-12-26T23:40:52.862936Z"
    }
   },
   "outputs": [],
   "source": [
    "# chuyen X_train : count vectorize sang tfidf vectorize\n",
    "X_train_counts = count_vect.fit_transform(X_train)\n",
    "tfidf_transformer = TfidfTransformer()\n",
    "X_train_tfidf = tfidf_transformer.fit_transform(X_train_counts)"
   ]
  },
  {
   "cell_type": "code",
   "execution_count": 178,
   "metadata": {
    "ExecuteTime": {
     "end_time": "2020-12-26T23:40:55.881892Z",
     "start_time": "2020-12-26T23:40:55.727276Z"
    }
   },
   "outputs": [
    {
     "data": {
      "text/plain": [
       "MultinomialNB(alpha=1.0, class_prior=None, fit_prior=True)"
      ]
     },
     "execution_count": 178,
     "metadata": {},
     "output_type": "execute_result"
    }
   ],
   "source": [
    "# training a model\n",
    "clf = MultinomialNB().fit(X_train_tfidf, y_train)\n",
    "clf"
   ]
  },
  {
   "cell_type": "code",
   "execution_count": 179,
   "metadata": {
    "ExecuteTime": {
     "end_time": "2020-12-26T23:40:56.274220Z",
     "start_time": "2020-12-26T23:40:56.264247Z"
    }
   },
   "outputs": [
    {
     "name": "stdout",
     "output_type": "stream",
     "text": [
      "['RESOLVED_DUPLICATE']\n"
     ]
    }
   ],
   "source": [
    "# Evaluation\n",
    "# sent = [\"This company refuses to provide me verification and validation of debt per my right under the FDCPA. I do not believe this debt is mine.\"]\n",
    "# sent = ['Newsgroup postings dont linkify newsgroup head...']\n",
    "sent = ['implement mail back and forward there is now U...\t']\n",
    "print(clf.predict(count_vect.transform(sent)))"
   ]
  },
  {
   "cell_type": "code",
   "execution_count": 180,
   "metadata": {
    "ExecuteTime": {
     "end_time": "2020-12-26T23:41:04.582031Z",
     "start_time": "2020-12-26T23:41:04.246778Z"
    }
   },
   "outputs": [],
   "source": [
    "# chuyen X_test : count vectorize sang tfidf vectorize\n",
    "X_test_counts = count_vect.fit_transform(X_test)\n",
    "tfidf_transformer = TfidfTransformer()\n",
    "X_test_tfidf = tfidf_transformer.fit_transform(X_test_counts)"
   ]
  },
  {
   "cell_type": "code",
   "execution_count": 47,
   "metadata": {
    "ExecuteTime": {
     "end_time": "2020-12-28T17:03:33.816712Z",
     "start_time": "2020-12-28T17:03:31.477781Z"
    }
   },
   "outputs": [],
   "source": [
    "# splitting train, test from features and labels\n",
    "model = LinearSVC()\n",
    "X_train, X_test, y_train, y_test, indices_train, indices_test = train_test_split(features, labels, \n",
    "                                                                                 df.index, test_size=0.33, \n",
    "                                                                                 random_state=0, stratify=labels)\n",
    "model.fit(X_train, y_train)\n",
    "y_pred = model.predict(X_test)"
   ]
  },
  {
   "cell_type": "code",
   "execution_count": 48,
   "metadata": {
    "ExecuteTime": {
     "end_time": "2020-12-28T17:03:35.224628Z",
     "start_time": "2020-12-28T17:03:35.190724Z"
    }
   },
   "outputs": [
    {
     "name": "stdout",
     "output_type": "stream",
     "text": [
      "[[2608   71  268  258  160    6  361   17    0    7    0    0    0    1]\n",
      " [ 229   87   17   32   24    0   72    3    0    0    0    0    0    0]\n",
      " [ 433   14  986   35   40    5  118    1    0   12    0    0    0    0]\n",
      " [ 533   17   29  329  120    1  190    1    0    1    1    1    0    0]\n",
      " [ 522   19  109  169  138    2  107    6    0    0    0    4    0    0]\n",
      " [ 123    6   51    6   19    5   21    0    0    1    0    0    0    0]\n",
      " [ 756   45  164  188  111    1  285    2    0    8    1    0    0    0]\n",
      " [ 221    5   26   12   14    2   36   27    0    3    0    0    0    0]\n",
      " [   1    0    0    0    0    0    0    0    0    0    0    0    0    0]\n",
      " [  70    2  100    3   13    1   33    3    0    3    0    0    0    0]\n",
      " [   3    0    0    2    1    0    1    0    0    0    0    0    0    0]\n",
      " [  45    6    6   12   15    0    7    1    0    0    0    2    0    0]\n",
      " [   5    0    1    0    1    0    2    0    0    0    0    0    0    0]\n",
      " [  30    4    8    2    6    0   10    1    0    0    0    0    0    0]]\n"
     ]
    }
   ],
   "source": [
    "conf_mat = confusion_matrix(y_test, y_pred)\n",
    "print(conf_mat)"
   ]
  },
  {
   "cell_type": "code",
   "execution_count": 184,
   "metadata": {
    "ExecuteTime": {
     "end_time": "2020-12-26T23:43:09.312622Z",
     "start_time": "2020-12-26T23:41:25.854289Z"
    },
    "collapsed": true
   },
   "outputs": [
    {
     "ename": "KeyboardInterrupt",
     "evalue": "",
     "output_type": "error",
     "traceback": [
      "\u001b[1;31m---------------------------------------------------------------------------\u001b[0m",
      "\u001b[1;31mKeyboardInterrupt\u001b[0m                         Traceback (most recent call last)",
      "\u001b[1;32m<ipython-input-184-af5cb572d1ca>\u001b[0m in \u001b[0;36m<module>\u001b[1;34m\u001b[0m\n\u001b[0;32m      3\u001b[0m \u001b[1;33m\u001b[0m\u001b[0m\n\u001b[0;32m      4\u001b[0m sns.heatmap(conf_mat, annot=True, fmt='d',\n\u001b[1;32m----> 5\u001b[1;33m             xticklabels=df.Status.values, yticklabels=df.Status.values)\n\u001b[0m\u001b[0;32m      6\u001b[0m \u001b[0mplt\u001b[0m\u001b[1;33m.\u001b[0m\u001b[0mylabel\u001b[0m\u001b[1;33m(\u001b[0m\u001b[1;34m'Actual'\u001b[0m\u001b[1;33m)\u001b[0m\u001b[1;33m\u001b[0m\u001b[1;33m\u001b[0m\u001b[0m\n\u001b[0;32m      7\u001b[0m \u001b[0mplt\u001b[0m\u001b[1;33m.\u001b[0m\u001b[0mxlabel\u001b[0m\u001b[1;33m(\u001b[0m\u001b[1;34m'Predicted'\u001b[0m\u001b[1;33m)\u001b[0m\u001b[1;33m\u001b[0m\u001b[1;33m\u001b[0m\u001b[0m\n",
      "\u001b[1;32m~\\Anaconda3\\lib\\site-packages\\seaborn\\matrix.py\u001b[0m in \u001b[0;36mheatmap\u001b[1;34m(data, vmin, vmax, cmap, center, robust, annot, fmt, annot_kws, linewidths, linecolor, cbar, cbar_kws, cbar_ax, square, xticklabels, yticklabels, mask, ax, **kwargs)\u001b[0m\n\u001b[0;32m    526\u001b[0m     \u001b[1;32mif\u001b[0m \u001b[0msquare\u001b[0m\u001b[1;33m:\u001b[0m\u001b[1;33m\u001b[0m\u001b[1;33m\u001b[0m\u001b[0m\n\u001b[0;32m    527\u001b[0m         \u001b[0max\u001b[0m\u001b[1;33m.\u001b[0m\u001b[0mset_aspect\u001b[0m\u001b[1;33m(\u001b[0m\u001b[1;34m\"equal\"\u001b[0m\u001b[1;33m)\u001b[0m\u001b[1;33m\u001b[0m\u001b[1;33m\u001b[0m\u001b[0m\n\u001b[1;32m--> 528\u001b[1;33m     \u001b[0mplotter\u001b[0m\u001b[1;33m.\u001b[0m\u001b[0mplot\u001b[0m\u001b[1;33m(\u001b[0m\u001b[0max\u001b[0m\u001b[1;33m,\u001b[0m \u001b[0mcbar_ax\u001b[0m\u001b[1;33m,\u001b[0m \u001b[0mkwargs\u001b[0m\u001b[1;33m)\u001b[0m\u001b[1;33m\u001b[0m\u001b[1;33m\u001b[0m\u001b[0m\n\u001b[0m\u001b[0;32m    529\u001b[0m     \u001b[1;32mreturn\u001b[0m \u001b[0max\u001b[0m\u001b[1;33m\u001b[0m\u001b[1;33m\u001b[0m\u001b[0m\n\u001b[0;32m    530\u001b[0m \u001b[1;33m\u001b[0m\u001b[0m\n",
      "\u001b[1;32m~\\Anaconda3\\lib\\site-packages\\seaborn\\matrix.py\u001b[0m in \u001b[0;36mplot\u001b[1;34m(self, ax, cax, kws)\u001b[0m\n\u001b[0;32m    310\u001b[0m             \u001b[0myticks\u001b[0m\u001b[1;33m,\u001b[0m \u001b[0myticklabels\u001b[0m \u001b[1;33m=\u001b[0m \u001b[0mself\u001b[0m\u001b[1;33m.\u001b[0m\u001b[0myticks\u001b[0m\u001b[1;33m,\u001b[0m \u001b[0mself\u001b[0m\u001b[1;33m.\u001b[0m\u001b[0myticklabels\u001b[0m\u001b[1;33m\u001b[0m\u001b[1;33m\u001b[0m\u001b[0m\n\u001b[0;32m    311\u001b[0m \u001b[1;33m\u001b[0m\u001b[0m\n\u001b[1;32m--> 312\u001b[1;33m         \u001b[0max\u001b[0m\u001b[1;33m.\u001b[0m\u001b[0mset\u001b[0m\u001b[1;33m(\u001b[0m\u001b[0mxticks\u001b[0m\u001b[1;33m=\u001b[0m\u001b[0mxticks\u001b[0m\u001b[1;33m,\u001b[0m \u001b[0myticks\u001b[0m\u001b[1;33m=\u001b[0m\u001b[0myticks\u001b[0m\u001b[1;33m)\u001b[0m\u001b[1;33m\u001b[0m\u001b[1;33m\u001b[0m\u001b[0m\n\u001b[0m\u001b[0;32m    313\u001b[0m         \u001b[0mxtl\u001b[0m \u001b[1;33m=\u001b[0m \u001b[0max\u001b[0m\u001b[1;33m.\u001b[0m\u001b[0mset_xticklabels\u001b[0m\u001b[1;33m(\u001b[0m\u001b[0mxticklabels\u001b[0m\u001b[1;33m)\u001b[0m\u001b[1;33m\u001b[0m\u001b[1;33m\u001b[0m\u001b[0m\n\u001b[0;32m    314\u001b[0m         \u001b[0mytl\u001b[0m \u001b[1;33m=\u001b[0m \u001b[0max\u001b[0m\u001b[1;33m.\u001b[0m\u001b[0mset_yticklabels\u001b[0m\u001b[1;33m(\u001b[0m\u001b[0myticklabels\u001b[0m\u001b[1;33m,\u001b[0m \u001b[0mrotation\u001b[0m\u001b[1;33m=\u001b[0m\u001b[1;34m\"vertical\"\u001b[0m\u001b[1;33m)\u001b[0m\u001b[1;33m\u001b[0m\u001b[1;33m\u001b[0m\u001b[0m\n",
      "\u001b[1;32m~\\Anaconda3\\lib\\site-packages\\matplotlib\\artist.py\u001b[0m in \u001b[0;36mset\u001b[1;34m(self, **kwargs)\u001b[0m\n\u001b[0;32m   1013\u001b[0m                    key=lambda x: (self._prop_order.get(x[0], 0), x[0])))\n\u001b[0;32m   1014\u001b[0m \u001b[1;33m\u001b[0m\u001b[0m\n\u001b[1;32m-> 1015\u001b[1;33m         \u001b[1;32mreturn\u001b[0m \u001b[0mself\u001b[0m\u001b[1;33m.\u001b[0m\u001b[0mupdate\u001b[0m\u001b[1;33m(\u001b[0m\u001b[0mprops\u001b[0m\u001b[1;33m)\u001b[0m\u001b[1;33m\u001b[0m\u001b[1;33m\u001b[0m\u001b[0m\n\u001b[0m\u001b[0;32m   1016\u001b[0m \u001b[1;33m\u001b[0m\u001b[0m\n\u001b[0;32m   1017\u001b[0m     \u001b[1;32mdef\u001b[0m \u001b[0mfindobj\u001b[0m\u001b[1;33m(\u001b[0m\u001b[0mself\u001b[0m\u001b[1;33m,\u001b[0m \u001b[0mmatch\u001b[0m\u001b[1;33m=\u001b[0m\u001b[1;32mNone\u001b[0m\u001b[1;33m,\u001b[0m \u001b[0minclude_self\u001b[0m\u001b[1;33m=\u001b[0m\u001b[1;32mTrue\u001b[0m\u001b[1;33m)\u001b[0m\u001b[1;33m:\u001b[0m\u001b[1;33m\u001b[0m\u001b[1;33m\u001b[0m\u001b[0m\n",
      "\u001b[1;32m~\\Anaconda3\\lib\\site-packages\\matplotlib\\artist.py\u001b[0m in \u001b[0;36mupdate\u001b[1;34m(self, props)\u001b[0m\n\u001b[0;32m    914\u001b[0m \u001b[1;33m\u001b[0m\u001b[0m\n\u001b[0;32m    915\u001b[0m         \u001b[1;32mwith\u001b[0m \u001b[0mcbook\u001b[0m\u001b[1;33m.\u001b[0m\u001b[0m_setattr_cm\u001b[0m\u001b[1;33m(\u001b[0m\u001b[0mself\u001b[0m\u001b[1;33m,\u001b[0m \u001b[0meventson\u001b[0m\u001b[1;33m=\u001b[0m\u001b[1;32mFalse\u001b[0m\u001b[1;33m)\u001b[0m\u001b[1;33m:\u001b[0m\u001b[1;33m\u001b[0m\u001b[1;33m\u001b[0m\u001b[0m\n\u001b[1;32m--> 916\u001b[1;33m             \u001b[0mret\u001b[0m \u001b[1;33m=\u001b[0m \u001b[1;33m[\u001b[0m\u001b[0m_update_property\u001b[0m\u001b[1;33m(\u001b[0m\u001b[0mself\u001b[0m\u001b[1;33m,\u001b[0m \u001b[0mk\u001b[0m\u001b[1;33m,\u001b[0m \u001b[0mv\u001b[0m\u001b[1;33m)\u001b[0m \u001b[1;32mfor\u001b[0m \u001b[0mk\u001b[0m\u001b[1;33m,\u001b[0m \u001b[0mv\u001b[0m \u001b[1;32min\u001b[0m \u001b[0mprops\u001b[0m\u001b[1;33m.\u001b[0m\u001b[0mitems\u001b[0m\u001b[1;33m(\u001b[0m\u001b[1;33m)\u001b[0m\u001b[1;33m]\u001b[0m\u001b[1;33m\u001b[0m\u001b[1;33m\u001b[0m\u001b[0m\n\u001b[0m\u001b[0;32m    917\u001b[0m \u001b[1;33m\u001b[0m\u001b[0m\n\u001b[0;32m    918\u001b[0m         \u001b[1;32mif\u001b[0m \u001b[0mlen\u001b[0m\u001b[1;33m(\u001b[0m\u001b[0mret\u001b[0m\u001b[1;33m)\u001b[0m\u001b[1;33m:\u001b[0m\u001b[1;33m\u001b[0m\u001b[1;33m\u001b[0m\u001b[0m\n",
      "\u001b[1;32m~\\Anaconda3\\lib\\site-packages\\matplotlib\\artist.py\u001b[0m in \u001b[0;36m<listcomp>\u001b[1;34m(.0)\u001b[0m\n\u001b[0;32m    914\u001b[0m \u001b[1;33m\u001b[0m\u001b[0m\n\u001b[0;32m    915\u001b[0m         \u001b[1;32mwith\u001b[0m \u001b[0mcbook\u001b[0m\u001b[1;33m.\u001b[0m\u001b[0m_setattr_cm\u001b[0m\u001b[1;33m(\u001b[0m\u001b[0mself\u001b[0m\u001b[1;33m,\u001b[0m \u001b[0meventson\u001b[0m\u001b[1;33m=\u001b[0m\u001b[1;32mFalse\u001b[0m\u001b[1;33m)\u001b[0m\u001b[1;33m:\u001b[0m\u001b[1;33m\u001b[0m\u001b[1;33m\u001b[0m\u001b[0m\n\u001b[1;32m--> 916\u001b[1;33m             \u001b[0mret\u001b[0m \u001b[1;33m=\u001b[0m \u001b[1;33m[\u001b[0m\u001b[0m_update_property\u001b[0m\u001b[1;33m(\u001b[0m\u001b[0mself\u001b[0m\u001b[1;33m,\u001b[0m \u001b[0mk\u001b[0m\u001b[1;33m,\u001b[0m \u001b[0mv\u001b[0m\u001b[1;33m)\u001b[0m \u001b[1;32mfor\u001b[0m \u001b[0mk\u001b[0m\u001b[1;33m,\u001b[0m \u001b[0mv\u001b[0m \u001b[1;32min\u001b[0m \u001b[0mprops\u001b[0m\u001b[1;33m.\u001b[0m\u001b[0mitems\u001b[0m\u001b[1;33m(\u001b[0m\u001b[1;33m)\u001b[0m\u001b[1;33m]\u001b[0m\u001b[1;33m\u001b[0m\u001b[1;33m\u001b[0m\u001b[0m\n\u001b[0m\u001b[0;32m    917\u001b[0m \u001b[1;33m\u001b[0m\u001b[0m\n\u001b[0;32m    918\u001b[0m         \u001b[1;32mif\u001b[0m \u001b[0mlen\u001b[0m\u001b[1;33m(\u001b[0m\u001b[0mret\u001b[0m\u001b[1;33m)\u001b[0m\u001b[1;33m:\u001b[0m\u001b[1;33m\u001b[0m\u001b[1;33m\u001b[0m\u001b[0m\n",
      "\u001b[1;32m~\\Anaconda3\\lib\\site-packages\\matplotlib\\artist.py\u001b[0m in \u001b[0;36m_update_property\u001b[1;34m(self, k, v)\u001b[0m\n\u001b[0;32m    911\u001b[0m                 \u001b[1;32mif\u001b[0m \u001b[1;32mnot\u001b[0m \u001b[0mcallable\u001b[0m\u001b[1;33m(\u001b[0m\u001b[0mfunc\u001b[0m\u001b[1;33m)\u001b[0m\u001b[1;33m:\u001b[0m\u001b[1;33m\u001b[0m\u001b[1;33m\u001b[0m\u001b[0m\n\u001b[0;32m    912\u001b[0m                     \u001b[1;32mraise\u001b[0m \u001b[0mAttributeError\u001b[0m\u001b[1;33m(\u001b[0m\u001b[1;34m'Unknown property %s'\u001b[0m \u001b[1;33m%\u001b[0m \u001b[0mk\u001b[0m\u001b[1;33m)\u001b[0m\u001b[1;33m\u001b[0m\u001b[1;33m\u001b[0m\u001b[0m\n\u001b[1;32m--> 913\u001b[1;33m                 \u001b[1;32mreturn\u001b[0m \u001b[0mfunc\u001b[0m\u001b[1;33m(\u001b[0m\u001b[0mv\u001b[0m\u001b[1;33m)\u001b[0m\u001b[1;33m\u001b[0m\u001b[1;33m\u001b[0m\u001b[0m\n\u001b[0m\u001b[0;32m    914\u001b[0m \u001b[1;33m\u001b[0m\u001b[0m\n\u001b[0;32m    915\u001b[0m         \u001b[1;32mwith\u001b[0m \u001b[0mcbook\u001b[0m\u001b[1;33m.\u001b[0m\u001b[0m_setattr_cm\u001b[0m\u001b[1;33m(\u001b[0m\u001b[0mself\u001b[0m\u001b[1;33m,\u001b[0m \u001b[0meventson\u001b[0m\u001b[1;33m=\u001b[0m\u001b[1;32mFalse\u001b[0m\u001b[1;33m)\u001b[0m\u001b[1;33m:\u001b[0m\u001b[1;33m\u001b[0m\u001b[1;33m\u001b[0m\u001b[0m\n",
      "\u001b[1;32m~\\Anaconda3\\lib\\site-packages\\matplotlib\\axes\\_base.py\u001b[0m in \u001b[0;36mset_yticks\u001b[1;34m(self, ticks, minor)\u001b[0m\n\u001b[0;32m   3724\u001b[0m             \u001b[0mDefault\u001b[0m \u001b[1;32mis\u001b[0m\u001b[0;31m \u001b[0m\u001b[0;31m`\u001b[0m\u001b[0;31m`\u001b[0m\u001b[1;32mFalse\u001b[0m\u001b[0;31m`\u001b[0m\u001b[0;31m`\u001b[0m\u001b[1;33m.\u001b[0m\u001b[1;33m\u001b[0m\u001b[1;33m\u001b[0m\u001b[0m\n\u001b[0;32m   3725\u001b[0m         \"\"\"\n\u001b[1;32m-> 3726\u001b[1;33m         \u001b[0mret\u001b[0m \u001b[1;33m=\u001b[0m \u001b[0mself\u001b[0m\u001b[1;33m.\u001b[0m\u001b[0myaxis\u001b[0m\u001b[1;33m.\u001b[0m\u001b[0mset_ticks\u001b[0m\u001b[1;33m(\u001b[0m\u001b[0mticks\u001b[0m\u001b[1;33m,\u001b[0m \u001b[0mminor\u001b[0m\u001b[1;33m=\u001b[0m\u001b[0mminor\u001b[0m\u001b[1;33m)\u001b[0m\u001b[1;33m\u001b[0m\u001b[1;33m\u001b[0m\u001b[0m\n\u001b[0m\u001b[0;32m   3727\u001b[0m         \u001b[1;32mreturn\u001b[0m \u001b[0mret\u001b[0m\u001b[1;33m\u001b[0m\u001b[1;33m\u001b[0m\u001b[0m\n\u001b[0;32m   3728\u001b[0m \u001b[1;33m\u001b[0m\u001b[0m\n",
      "\u001b[1;32m~\\Anaconda3\\lib\\site-packages\\matplotlib\\axis.py\u001b[0m in \u001b[0;36mset_ticks\u001b[1;34m(self, ticks, minor)\u001b[0m\n\u001b[0;32m   1714\u001b[0m         \u001b[1;32melse\u001b[0m\u001b[1;33m:\u001b[0m\u001b[1;33m\u001b[0m\u001b[1;33m\u001b[0m\u001b[0m\n\u001b[0;32m   1715\u001b[0m             \u001b[0mself\u001b[0m\u001b[1;33m.\u001b[0m\u001b[0mset_major_locator\u001b[0m\u001b[1;33m(\u001b[0m\u001b[0mmticker\u001b[0m\u001b[1;33m.\u001b[0m\u001b[0mFixedLocator\u001b[0m\u001b[1;33m(\u001b[0m\u001b[0mticks\u001b[0m\u001b[1;33m)\u001b[0m\u001b[1;33m)\u001b[0m\u001b[1;33m\u001b[0m\u001b[1;33m\u001b[0m\u001b[0m\n\u001b[1;32m-> 1716\u001b[1;33m             \u001b[1;32mreturn\u001b[0m \u001b[0mself\u001b[0m\u001b[1;33m.\u001b[0m\u001b[0mget_major_ticks\u001b[0m\u001b[1;33m(\u001b[0m\u001b[0mlen\u001b[0m\u001b[1;33m(\u001b[0m\u001b[0mticks\u001b[0m\u001b[1;33m)\u001b[0m\u001b[1;33m)\u001b[0m\u001b[1;33m\u001b[0m\u001b[1;33m\u001b[0m\u001b[0m\n\u001b[0m\u001b[0;32m   1717\u001b[0m \u001b[1;33m\u001b[0m\u001b[0m\n\u001b[0;32m   1718\u001b[0m     \u001b[1;32mdef\u001b[0m \u001b[0m_get_tick_boxes_siblings\u001b[0m\u001b[1;33m(\u001b[0m\u001b[0mself\u001b[0m\u001b[1;33m,\u001b[0m \u001b[0mxdir\u001b[0m\u001b[1;33m,\u001b[0m \u001b[0mrenderer\u001b[0m\u001b[1;33m)\u001b[0m\u001b[1;33m:\u001b[0m\u001b[1;33m\u001b[0m\u001b[1;33m\u001b[0m\u001b[0m\n",
      "\u001b[1;32m~\\Anaconda3\\lib\\site-packages\\matplotlib\\axis.py\u001b[0m in \u001b[0;36mget_major_ticks\u001b[1;34m(self, numticks)\u001b[0m\n\u001b[0;32m   1393\u001b[0m         \u001b[1;32mwhile\u001b[0m \u001b[0mlen\u001b[0m\u001b[1;33m(\u001b[0m\u001b[0mself\u001b[0m\u001b[1;33m.\u001b[0m\u001b[0mmajorTicks\u001b[0m\u001b[1;33m)\u001b[0m \u001b[1;33m<\u001b[0m \u001b[0mnumticks\u001b[0m\u001b[1;33m:\u001b[0m\u001b[1;33m\u001b[0m\u001b[1;33m\u001b[0m\u001b[0m\n\u001b[0;32m   1394\u001b[0m             \u001b[1;31m# update the new tick label properties from the old\u001b[0m\u001b[1;33m\u001b[0m\u001b[1;33m\u001b[0m\u001b[1;33m\u001b[0m\u001b[0m\n\u001b[1;32m-> 1395\u001b[1;33m             \u001b[0mtick\u001b[0m \u001b[1;33m=\u001b[0m \u001b[0mself\u001b[0m\u001b[1;33m.\u001b[0m\u001b[0m_get_tick\u001b[0m\u001b[1;33m(\u001b[0m\u001b[0mmajor\u001b[0m\u001b[1;33m=\u001b[0m\u001b[1;32mTrue\u001b[0m\u001b[1;33m)\u001b[0m\u001b[1;33m\u001b[0m\u001b[1;33m\u001b[0m\u001b[0m\n\u001b[0m\u001b[0;32m   1396\u001b[0m             \u001b[0mself\u001b[0m\u001b[1;33m.\u001b[0m\u001b[0mmajorTicks\u001b[0m\u001b[1;33m.\u001b[0m\u001b[0mappend\u001b[0m\u001b[1;33m(\u001b[0m\u001b[0mtick\u001b[0m\u001b[1;33m)\u001b[0m\u001b[1;33m\u001b[0m\u001b[1;33m\u001b[0m\u001b[0m\n\u001b[0;32m   1397\u001b[0m             \u001b[1;32mif\u001b[0m \u001b[0mself\u001b[0m\u001b[1;33m.\u001b[0m\u001b[0m_gridOnMajor\u001b[0m\u001b[1;33m:\u001b[0m\u001b[1;33m\u001b[0m\u001b[1;33m\u001b[0m\u001b[0m\n",
      "\u001b[1;32m~\\Anaconda3\\lib\\site-packages\\matplotlib\\axis.py\u001b[0m in \u001b[0;36m_get_tick\u001b[1;34m(self, major)\u001b[0m\n\u001b[0;32m   2192\u001b[0m         \u001b[1;32melse\u001b[0m\u001b[1;33m:\u001b[0m\u001b[1;33m\u001b[0m\u001b[1;33m\u001b[0m\u001b[0m\n\u001b[0;32m   2193\u001b[0m             \u001b[0mtick_kw\u001b[0m \u001b[1;33m=\u001b[0m \u001b[0mself\u001b[0m\u001b[1;33m.\u001b[0m\u001b[0m_minor_tick_kw\u001b[0m\u001b[1;33m\u001b[0m\u001b[1;33m\u001b[0m\u001b[0m\n\u001b[1;32m-> 2194\u001b[1;33m         \u001b[1;32mreturn\u001b[0m \u001b[0mYTick\u001b[0m\u001b[1;33m(\u001b[0m\u001b[0mself\u001b[0m\u001b[1;33m.\u001b[0m\u001b[0maxes\u001b[0m\u001b[1;33m,\u001b[0m \u001b[1;36m0\u001b[0m\u001b[1;33m,\u001b[0m \u001b[1;34m''\u001b[0m\u001b[1;33m,\u001b[0m \u001b[0mmajor\u001b[0m\u001b[1;33m=\u001b[0m\u001b[0mmajor\u001b[0m\u001b[1;33m,\u001b[0m \u001b[1;33m**\u001b[0m\u001b[0mtick_kw\u001b[0m\u001b[1;33m)\u001b[0m\u001b[1;33m\u001b[0m\u001b[1;33m\u001b[0m\u001b[0m\n\u001b[0m\u001b[0;32m   2195\u001b[0m \u001b[1;33m\u001b[0m\u001b[0m\n\u001b[0;32m   2196\u001b[0m     \u001b[1;32mdef\u001b[0m \u001b[0m_get_label\u001b[0m\u001b[1;33m(\u001b[0m\u001b[0mself\u001b[0m\u001b[1;33m)\u001b[0m\u001b[1;33m:\u001b[0m\u001b[1;33m\u001b[0m\u001b[1;33m\u001b[0m\u001b[0m\n",
      "\u001b[1;32m~\\Anaconda3\\lib\\site-packages\\matplotlib\\axis.py\u001b[0m in \u001b[0;36m__init__\u001b[1;34m(self, axes, loc, label, size, width, color, tickdir, pad, labelsize, labelcolor, zorder, gridOn, tick1On, tick2On, label1On, label2On, major, labelrotation, grid_color, grid_linestyle, grid_linewidth, grid_alpha, **kw)\u001b[0m\n\u001b[0;32m    176\u001b[0m         \u001b[0mself\u001b[0m\u001b[1;33m.\u001b[0m\u001b[0mgridline\u001b[0m \u001b[1;33m=\u001b[0m \u001b[0mself\u001b[0m\u001b[1;33m.\u001b[0m\u001b[0m_get_gridline\u001b[0m\u001b[1;33m(\u001b[0m\u001b[1;33m)\u001b[0m\u001b[1;33m\u001b[0m\u001b[1;33m\u001b[0m\u001b[0m\n\u001b[0;32m    177\u001b[0m \u001b[1;33m\u001b[0m\u001b[0m\n\u001b[1;32m--> 178\u001b[1;33m         \u001b[0mself\u001b[0m\u001b[1;33m.\u001b[0m\u001b[0mlabel1\u001b[0m \u001b[1;33m=\u001b[0m \u001b[0mself\u001b[0m\u001b[1;33m.\u001b[0m\u001b[0m_get_text1\u001b[0m\u001b[1;33m(\u001b[0m\u001b[1;33m)\u001b[0m\u001b[1;33m\u001b[0m\u001b[1;33m\u001b[0m\u001b[0m\n\u001b[0m\u001b[0;32m    179\u001b[0m         \u001b[0mself\u001b[0m\u001b[1;33m.\u001b[0m\u001b[0mlabel\u001b[0m \u001b[1;33m=\u001b[0m \u001b[0mself\u001b[0m\u001b[1;33m.\u001b[0m\u001b[0mlabel1\u001b[0m  \u001b[1;31m# legacy name\u001b[0m\u001b[1;33m\u001b[0m\u001b[1;33m\u001b[0m\u001b[0m\n\u001b[0;32m    180\u001b[0m         \u001b[0mself\u001b[0m\u001b[1;33m.\u001b[0m\u001b[0mlabel2\u001b[0m \u001b[1;33m=\u001b[0m \u001b[0mself\u001b[0m\u001b[1;33m.\u001b[0m\u001b[0m_get_text2\u001b[0m\u001b[1;33m(\u001b[0m\u001b[1;33m)\u001b[0m\u001b[1;33m\u001b[0m\u001b[1;33m\u001b[0m\u001b[0m\n",
      "\u001b[1;32m~\\Anaconda3\\lib\\site-packages\\matplotlib\\axis.py\u001b[0m in \u001b[0;36m_get_text1\u001b[1;34m(self)\u001b[0m\n\u001b[0;32m    562\u001b[0m             \u001b[0mcolor\u001b[0m\u001b[1;33m=\u001b[0m\u001b[0mself\u001b[0m\u001b[1;33m.\u001b[0m\u001b[0m_labelcolor\u001b[0m\u001b[1;33m,\u001b[0m\u001b[1;33m\u001b[0m\u001b[1;33m\u001b[0m\u001b[0m\n\u001b[0;32m    563\u001b[0m             \u001b[0mverticalalignment\u001b[0m\u001b[1;33m=\u001b[0m\u001b[0mvert\u001b[0m\u001b[1;33m,\u001b[0m\u001b[1;33m\u001b[0m\u001b[1;33m\u001b[0m\u001b[0m\n\u001b[1;32m--> 564\u001b[1;33m             \u001b[0mhorizontalalignment\u001b[0m\u001b[1;33m=\u001b[0m\u001b[0mhoriz\u001b[0m\u001b[1;33m,\u001b[0m\u001b[1;33m\u001b[0m\u001b[1;33m\u001b[0m\u001b[0m\n\u001b[0m\u001b[0;32m    565\u001b[0m             )\n\u001b[0;32m    566\u001b[0m         \u001b[0mt\u001b[0m\u001b[1;33m.\u001b[0m\u001b[0mset_transform\u001b[0m\u001b[1;33m(\u001b[0m\u001b[0mtrans\u001b[0m\u001b[1;33m)\u001b[0m\u001b[1;33m\u001b[0m\u001b[1;33m\u001b[0m\u001b[0m\n",
      "\u001b[1;32m~\\Anaconda3\\lib\\site-packages\\matplotlib\\text.py\u001b[0m in \u001b[0;36m__init__\u001b[1;34m(self, x, y, text, color, verticalalignment, horizontalalignment, multialignment, fontproperties, rotation, linespacing, rotation_mode, usetex, wrap, **kwargs)\u001b[0m\n\u001b[0;32m    176\u001b[0m         \u001b[0mself\u001b[0m\u001b[1;33m.\u001b[0m\u001b[0m_linespacing\u001b[0m \u001b[1;33m=\u001b[0m \u001b[0mlinespacing\u001b[0m\u001b[1;33m\u001b[0m\u001b[1;33m\u001b[0m\u001b[0m\n\u001b[0;32m    177\u001b[0m         \u001b[0mself\u001b[0m\u001b[1;33m.\u001b[0m\u001b[0mset_rotation_mode\u001b[0m\u001b[1;33m(\u001b[0m\u001b[0mrotation_mode\u001b[0m\u001b[1;33m)\u001b[0m\u001b[1;33m\u001b[0m\u001b[1;33m\u001b[0m\u001b[0m\n\u001b[1;32m--> 178\u001b[1;33m         \u001b[0mself\u001b[0m\u001b[1;33m.\u001b[0m\u001b[0mupdate\u001b[0m\u001b[1;33m(\u001b[0m\u001b[0mkwargs\u001b[0m\u001b[1;33m)\u001b[0m\u001b[1;33m\u001b[0m\u001b[1;33m\u001b[0m\u001b[0m\n\u001b[0m\u001b[0;32m    179\u001b[0m \u001b[1;33m\u001b[0m\u001b[0m\n\u001b[0;32m    180\u001b[0m     \u001b[1;32mdef\u001b[0m \u001b[0mupdate\u001b[0m\u001b[1;33m(\u001b[0m\u001b[0mself\u001b[0m\u001b[1;33m,\u001b[0m \u001b[0mkwargs\u001b[0m\u001b[1;33m)\u001b[0m\u001b[1;33m:\u001b[0m\u001b[1;33m\u001b[0m\u001b[1;33m\u001b[0m\u001b[0m\n",
      "\u001b[1;32m~\\Anaconda3\\lib\\site-packages\\matplotlib\\text.py\u001b[0m in \u001b[0;36mupdate\u001b[1;34m(self, kwargs)\u001b[0m\n\u001b[0;32m    185\u001b[0m         \u001b[0msentinel\u001b[0m \u001b[1;33m=\u001b[0m \u001b[0mobject\u001b[0m\u001b[1;33m(\u001b[0m\u001b[1;33m)\u001b[0m  \u001b[1;31m# bbox can be None, so use another sentinel.\u001b[0m\u001b[1;33m\u001b[0m\u001b[1;33m\u001b[0m\u001b[0m\n\u001b[0;32m    186\u001b[0m         \u001b[0mbbox\u001b[0m \u001b[1;33m=\u001b[0m \u001b[0mkwargs\u001b[0m\u001b[1;33m.\u001b[0m\u001b[0mpop\u001b[0m\u001b[1;33m(\u001b[0m\u001b[1;34m\"bbox\"\u001b[0m\u001b[1;33m,\u001b[0m \u001b[0msentinel\u001b[0m\u001b[1;33m)\u001b[0m\u001b[1;33m\u001b[0m\u001b[1;33m\u001b[0m\u001b[0m\n\u001b[1;32m--> 187\u001b[1;33m         \u001b[0msuper\u001b[0m\u001b[1;33m(\u001b[0m\u001b[1;33m)\u001b[0m\u001b[1;33m.\u001b[0m\u001b[0mupdate\u001b[0m\u001b[1;33m(\u001b[0m\u001b[0mkwargs\u001b[0m\u001b[1;33m)\u001b[0m\u001b[1;33m\u001b[0m\u001b[1;33m\u001b[0m\u001b[0m\n\u001b[0m\u001b[0;32m    188\u001b[0m         \u001b[1;32mif\u001b[0m \u001b[0mbbox\u001b[0m \u001b[1;32mis\u001b[0m \u001b[1;32mnot\u001b[0m \u001b[0msentinel\u001b[0m\u001b[1;33m:\u001b[0m\u001b[1;33m\u001b[0m\u001b[1;33m\u001b[0m\u001b[0m\n\u001b[0;32m    189\u001b[0m             \u001b[0mself\u001b[0m\u001b[1;33m.\u001b[0m\u001b[0mset_bbox\u001b[0m\u001b[1;33m(\u001b[0m\u001b[0mbbox\u001b[0m\u001b[1;33m)\u001b[0m\u001b[1;33m\u001b[0m\u001b[1;33m\u001b[0m\u001b[0m\n",
      "\u001b[1;32m~\\Anaconda3\\lib\\site-packages\\matplotlib\\artist.py\u001b[0m in \u001b[0;36mupdate\u001b[1;34m(self, props)\u001b[0m\n\u001b[0;32m    913\u001b[0m                 \u001b[1;32mreturn\u001b[0m \u001b[0mfunc\u001b[0m\u001b[1;33m(\u001b[0m\u001b[0mv\u001b[0m\u001b[1;33m)\u001b[0m\u001b[1;33m\u001b[0m\u001b[1;33m\u001b[0m\u001b[0m\n\u001b[0;32m    914\u001b[0m \u001b[1;33m\u001b[0m\u001b[0m\n\u001b[1;32m--> 915\u001b[1;33m         \u001b[1;32mwith\u001b[0m \u001b[0mcbook\u001b[0m\u001b[1;33m.\u001b[0m\u001b[0m_setattr_cm\u001b[0m\u001b[1;33m(\u001b[0m\u001b[0mself\u001b[0m\u001b[1;33m,\u001b[0m \u001b[0meventson\u001b[0m\u001b[1;33m=\u001b[0m\u001b[1;32mFalse\u001b[0m\u001b[1;33m)\u001b[0m\u001b[1;33m:\u001b[0m\u001b[1;33m\u001b[0m\u001b[1;33m\u001b[0m\u001b[0m\n\u001b[0m\u001b[0;32m    916\u001b[0m             \u001b[0mret\u001b[0m \u001b[1;33m=\u001b[0m \u001b[1;33m[\u001b[0m\u001b[0m_update_property\u001b[0m\u001b[1;33m(\u001b[0m\u001b[0mself\u001b[0m\u001b[1;33m,\u001b[0m \u001b[0mk\u001b[0m\u001b[1;33m,\u001b[0m \u001b[0mv\u001b[0m\u001b[1;33m)\u001b[0m \u001b[1;32mfor\u001b[0m \u001b[0mk\u001b[0m\u001b[1;33m,\u001b[0m \u001b[0mv\u001b[0m \u001b[1;32min\u001b[0m \u001b[0mprops\u001b[0m\u001b[1;33m.\u001b[0m\u001b[0mitems\u001b[0m\u001b[1;33m(\u001b[0m\u001b[1;33m)\u001b[0m\u001b[1;33m]\u001b[0m\u001b[1;33m\u001b[0m\u001b[1;33m\u001b[0m\u001b[0m\n\u001b[0;32m    917\u001b[0m \u001b[1;33m\u001b[0m\u001b[0m\n",
      "\u001b[1;32m~\\Anaconda3\\lib\\contextlib.py\u001b[0m in \u001b[0;36mhelper\u001b[1;34m(*args, **kwds)\u001b[0m\n\u001b[0;32m    157\u001b[0m     \u001b[1;33m@\u001b[0m\u001b[0mwraps\u001b[0m\u001b[1;33m(\u001b[0m\u001b[0mfunc\u001b[0m\u001b[1;33m)\u001b[0m\u001b[1;33m\u001b[0m\u001b[1;33m\u001b[0m\u001b[0m\n\u001b[0;32m    158\u001b[0m     \u001b[1;32mdef\u001b[0m \u001b[0mhelper\u001b[0m\u001b[1;33m(\u001b[0m\u001b[1;33m*\u001b[0m\u001b[0margs\u001b[0m\u001b[1;33m,\u001b[0m \u001b[1;33m**\u001b[0m\u001b[0mkwds\u001b[0m\u001b[1;33m)\u001b[0m\u001b[1;33m:\u001b[0m\u001b[1;33m\u001b[0m\u001b[1;33m\u001b[0m\u001b[0m\n\u001b[1;32m--> 159\u001b[1;33m         \u001b[1;32mreturn\u001b[0m \u001b[0m_GeneratorContextManager\u001b[0m\u001b[1;33m(\u001b[0m\u001b[0mfunc\u001b[0m\u001b[1;33m,\u001b[0m \u001b[0margs\u001b[0m\u001b[1;33m,\u001b[0m \u001b[0mkwds\u001b[0m\u001b[1;33m)\u001b[0m\u001b[1;33m\u001b[0m\u001b[1;33m\u001b[0m\u001b[0m\n\u001b[0m\u001b[0;32m    160\u001b[0m     \u001b[1;32mreturn\u001b[0m \u001b[0mhelper\u001b[0m\u001b[1;33m\u001b[0m\u001b[1;33m\u001b[0m\u001b[0m\n\u001b[0;32m    161\u001b[0m \u001b[1;33m\u001b[0m\u001b[0m\n",
      "\u001b[1;31mKeyboardInterrupt\u001b[0m: "
     ]
    },
    {
     "name": "stdout",
     "output_type": "stream",
     "text": [
      "Error in callback <function flush_figures at 0x000002115BD8EAE8> (for post_execute):\n"
     ]
    },
    {
     "ename": "KeyboardInterrupt",
     "evalue": "",
     "output_type": "error",
     "traceback": [
      "\u001b[1;31m---------------------------------------------------------------------------\u001b[0m",
      "\u001b[1;31mKeyboardInterrupt\u001b[0m                         Traceback (most recent call last)",
      "\u001b[1;32m~\\Anaconda3\\lib\\site-packages\\ipykernel\\pylab\\backend_inline.py\u001b[0m in \u001b[0;36mflush_figures\u001b[1;34m()\u001b[0m\n\u001b[0;32m    115\u001b[0m         \u001b[1;31m# ignore the tracking, just draw and close all figures\u001b[0m\u001b[1;33m\u001b[0m\u001b[1;33m\u001b[0m\u001b[1;33m\u001b[0m\u001b[0m\n\u001b[0;32m    116\u001b[0m         \u001b[1;32mtry\u001b[0m\u001b[1;33m:\u001b[0m\u001b[1;33m\u001b[0m\u001b[1;33m\u001b[0m\u001b[0m\n\u001b[1;32m--> 117\u001b[1;33m             \u001b[1;32mreturn\u001b[0m \u001b[0mshow\u001b[0m\u001b[1;33m(\u001b[0m\u001b[1;32mTrue\u001b[0m\u001b[1;33m)\u001b[0m\u001b[1;33m\u001b[0m\u001b[1;33m\u001b[0m\u001b[0m\n\u001b[0m\u001b[0;32m    118\u001b[0m         \u001b[1;32mexcept\u001b[0m \u001b[0mException\u001b[0m \u001b[1;32mas\u001b[0m \u001b[0me\u001b[0m\u001b[1;33m:\u001b[0m\u001b[1;33m\u001b[0m\u001b[1;33m\u001b[0m\u001b[0m\n\u001b[0;32m    119\u001b[0m             \u001b[1;31m# safely show traceback if in IPython, else raise\u001b[0m\u001b[1;33m\u001b[0m\u001b[1;33m\u001b[0m\u001b[1;33m\u001b[0m\u001b[0m\n",
      "\u001b[1;32m~\\Anaconda3\\lib\\site-packages\\ipykernel\\pylab\\backend_inline.py\u001b[0m in \u001b[0;36mshow\u001b[1;34m(close, block)\u001b[0m\n\u001b[0;32m     37\u001b[0m             display(\n\u001b[0;32m     38\u001b[0m                 \u001b[0mfigure_manager\u001b[0m\u001b[1;33m.\u001b[0m\u001b[0mcanvas\u001b[0m\u001b[1;33m.\u001b[0m\u001b[0mfigure\u001b[0m\u001b[1;33m,\u001b[0m\u001b[1;33m\u001b[0m\u001b[1;33m\u001b[0m\u001b[0m\n\u001b[1;32m---> 39\u001b[1;33m                 \u001b[0mmetadata\u001b[0m\u001b[1;33m=\u001b[0m\u001b[0m_fetch_figure_metadata\u001b[0m\u001b[1;33m(\u001b[0m\u001b[0mfigure_manager\u001b[0m\u001b[1;33m.\u001b[0m\u001b[0mcanvas\u001b[0m\u001b[1;33m.\u001b[0m\u001b[0mfigure\u001b[0m\u001b[1;33m)\u001b[0m\u001b[1;33m\u001b[0m\u001b[1;33m\u001b[0m\u001b[0m\n\u001b[0m\u001b[0;32m     40\u001b[0m             )\n\u001b[0;32m     41\u001b[0m     \u001b[1;32mfinally\u001b[0m\u001b[1;33m:\u001b[0m\u001b[1;33m\u001b[0m\u001b[1;33m\u001b[0m\u001b[0m\n",
      "\u001b[1;32m~\\Anaconda3\\lib\\site-packages\\IPython\\core\\display.py\u001b[0m in \u001b[0;36mdisplay\u001b[1;34m(include, exclude, metadata, transient, display_id, *objs, **kwargs)\u001b[0m\n\u001b[0;32m    302\u001b[0m             \u001b[0mpublish_display_data\u001b[0m\u001b[1;33m(\u001b[0m\u001b[0mdata\u001b[0m\u001b[1;33m=\u001b[0m\u001b[0mobj\u001b[0m\u001b[1;33m,\u001b[0m \u001b[0mmetadata\u001b[0m\u001b[1;33m=\u001b[0m\u001b[0mmetadata\u001b[0m\u001b[1;33m,\u001b[0m \u001b[1;33m**\u001b[0m\u001b[0mkwargs\u001b[0m\u001b[1;33m)\u001b[0m\u001b[1;33m\u001b[0m\u001b[1;33m\u001b[0m\u001b[0m\n\u001b[0;32m    303\u001b[0m         \u001b[1;32melse\u001b[0m\u001b[1;33m:\u001b[0m\u001b[1;33m\u001b[0m\u001b[1;33m\u001b[0m\u001b[0m\n\u001b[1;32m--> 304\u001b[1;33m             \u001b[0mformat_dict\u001b[0m\u001b[1;33m,\u001b[0m \u001b[0mmd_dict\u001b[0m \u001b[1;33m=\u001b[0m \u001b[0mformat\u001b[0m\u001b[1;33m(\u001b[0m\u001b[0mobj\u001b[0m\u001b[1;33m,\u001b[0m \u001b[0minclude\u001b[0m\u001b[1;33m=\u001b[0m\u001b[0minclude\u001b[0m\u001b[1;33m,\u001b[0m \u001b[0mexclude\u001b[0m\u001b[1;33m=\u001b[0m\u001b[0mexclude\u001b[0m\u001b[1;33m)\u001b[0m\u001b[1;33m\u001b[0m\u001b[1;33m\u001b[0m\u001b[0m\n\u001b[0m\u001b[0;32m    305\u001b[0m             \u001b[1;32mif\u001b[0m \u001b[1;32mnot\u001b[0m \u001b[0mformat_dict\u001b[0m\u001b[1;33m:\u001b[0m\u001b[1;33m\u001b[0m\u001b[1;33m\u001b[0m\u001b[0m\n\u001b[0;32m    306\u001b[0m                 \u001b[1;31m# nothing to display (e.g. _ipython_display_ took over)\u001b[0m\u001b[1;33m\u001b[0m\u001b[1;33m\u001b[0m\u001b[1;33m\u001b[0m\u001b[0m\n",
      "\u001b[1;32m~\\Anaconda3\\lib\\site-packages\\IPython\\core\\formatters.py\u001b[0m in \u001b[0;36mformat\u001b[1;34m(self, obj, include, exclude)\u001b[0m\n\u001b[0;32m    178\u001b[0m             \u001b[0mmd\u001b[0m \u001b[1;33m=\u001b[0m \u001b[1;32mNone\u001b[0m\u001b[1;33m\u001b[0m\u001b[1;33m\u001b[0m\u001b[0m\n\u001b[0;32m    179\u001b[0m             \u001b[1;32mtry\u001b[0m\u001b[1;33m:\u001b[0m\u001b[1;33m\u001b[0m\u001b[1;33m\u001b[0m\u001b[0m\n\u001b[1;32m--> 180\u001b[1;33m                 \u001b[0mdata\u001b[0m \u001b[1;33m=\u001b[0m \u001b[0mformatter\u001b[0m\u001b[1;33m(\u001b[0m\u001b[0mobj\u001b[0m\u001b[1;33m)\u001b[0m\u001b[1;33m\u001b[0m\u001b[1;33m\u001b[0m\u001b[0m\n\u001b[0m\u001b[0;32m    181\u001b[0m             \u001b[1;32mexcept\u001b[0m\u001b[1;33m:\u001b[0m\u001b[1;33m\u001b[0m\u001b[1;33m\u001b[0m\u001b[0m\n\u001b[0;32m    182\u001b[0m                 \u001b[1;31m# FIXME: log the exception\u001b[0m\u001b[1;33m\u001b[0m\u001b[1;33m\u001b[0m\u001b[1;33m\u001b[0m\u001b[0m\n",
      "\u001b[1;32m<C:\\Users\\letan\\Anaconda3\\lib\\site-packages\\decorator.py:decorator-gen-9>\u001b[0m in \u001b[0;36m__call__\u001b[1;34m(self, obj)\u001b[0m\n",
      "\u001b[1;32m~\\Anaconda3\\lib\\site-packages\\IPython\\core\\formatters.py\u001b[0m in \u001b[0;36mcatch_format_error\u001b[1;34m(method, self, *args, **kwargs)\u001b[0m\n\u001b[0;32m    222\u001b[0m     \u001b[1;34m\"\"\"show traceback on failed format call\"\"\"\u001b[0m\u001b[1;33m\u001b[0m\u001b[1;33m\u001b[0m\u001b[0m\n\u001b[0;32m    223\u001b[0m     \u001b[1;32mtry\u001b[0m\u001b[1;33m:\u001b[0m\u001b[1;33m\u001b[0m\u001b[1;33m\u001b[0m\u001b[0m\n\u001b[1;32m--> 224\u001b[1;33m         \u001b[0mr\u001b[0m \u001b[1;33m=\u001b[0m \u001b[0mmethod\u001b[0m\u001b[1;33m(\u001b[0m\u001b[0mself\u001b[0m\u001b[1;33m,\u001b[0m \u001b[1;33m*\u001b[0m\u001b[0margs\u001b[0m\u001b[1;33m,\u001b[0m \u001b[1;33m**\u001b[0m\u001b[0mkwargs\u001b[0m\u001b[1;33m)\u001b[0m\u001b[1;33m\u001b[0m\u001b[1;33m\u001b[0m\u001b[0m\n\u001b[0m\u001b[0;32m    225\u001b[0m     \u001b[1;32mexcept\u001b[0m \u001b[0mNotImplementedError\u001b[0m\u001b[1;33m:\u001b[0m\u001b[1;33m\u001b[0m\u001b[1;33m\u001b[0m\u001b[0m\n\u001b[0;32m    226\u001b[0m         \u001b[1;31m# don't warn on NotImplementedErrors\u001b[0m\u001b[1;33m\u001b[0m\u001b[1;33m\u001b[0m\u001b[1;33m\u001b[0m\u001b[0m\n",
      "\u001b[1;32m~\\Anaconda3\\lib\\site-packages\\IPython\\core\\formatters.py\u001b[0m in \u001b[0;36m__call__\u001b[1;34m(self, obj)\u001b[0m\n\u001b[0;32m    339\u001b[0m                 \u001b[1;32mpass\u001b[0m\u001b[1;33m\u001b[0m\u001b[1;33m\u001b[0m\u001b[0m\n\u001b[0;32m    340\u001b[0m             \u001b[1;32melse\u001b[0m\u001b[1;33m:\u001b[0m\u001b[1;33m\u001b[0m\u001b[1;33m\u001b[0m\u001b[0m\n\u001b[1;32m--> 341\u001b[1;33m                 \u001b[1;32mreturn\u001b[0m \u001b[0mprinter\u001b[0m\u001b[1;33m(\u001b[0m\u001b[0mobj\u001b[0m\u001b[1;33m)\u001b[0m\u001b[1;33m\u001b[0m\u001b[1;33m\u001b[0m\u001b[0m\n\u001b[0m\u001b[0;32m    342\u001b[0m             \u001b[1;31m# Finally look for special method names\u001b[0m\u001b[1;33m\u001b[0m\u001b[1;33m\u001b[0m\u001b[1;33m\u001b[0m\u001b[0m\n\u001b[0;32m    343\u001b[0m             \u001b[0mmethod\u001b[0m \u001b[1;33m=\u001b[0m \u001b[0mget_real_method\u001b[0m\u001b[1;33m(\u001b[0m\u001b[0mobj\u001b[0m\u001b[1;33m,\u001b[0m \u001b[0mself\u001b[0m\u001b[1;33m.\u001b[0m\u001b[0mprint_method\u001b[0m\u001b[1;33m)\u001b[0m\u001b[1;33m\u001b[0m\u001b[1;33m\u001b[0m\u001b[0m\n",
      "\u001b[1;32m~\\Anaconda3\\lib\\site-packages\\IPython\\core\\pylabtools.py\u001b[0m in \u001b[0;36m<lambda>\u001b[1;34m(fig)\u001b[0m\n\u001b[0;32m    242\u001b[0m \u001b[1;33m\u001b[0m\u001b[0m\n\u001b[0;32m    243\u001b[0m     \u001b[1;32mif\u001b[0m \u001b[1;34m'png'\u001b[0m \u001b[1;32min\u001b[0m \u001b[0mformats\u001b[0m\u001b[1;33m:\u001b[0m\u001b[1;33m\u001b[0m\u001b[1;33m\u001b[0m\u001b[0m\n\u001b[1;32m--> 244\u001b[1;33m         \u001b[0mpng_formatter\u001b[0m\u001b[1;33m.\u001b[0m\u001b[0mfor_type\u001b[0m\u001b[1;33m(\u001b[0m\u001b[0mFigure\u001b[0m\u001b[1;33m,\u001b[0m \u001b[1;32mlambda\u001b[0m \u001b[0mfig\u001b[0m\u001b[1;33m:\u001b[0m \u001b[0mprint_figure\u001b[0m\u001b[1;33m(\u001b[0m\u001b[0mfig\u001b[0m\u001b[1;33m,\u001b[0m \u001b[1;34m'png'\u001b[0m\u001b[1;33m,\u001b[0m \u001b[1;33m**\u001b[0m\u001b[0mkwargs\u001b[0m\u001b[1;33m)\u001b[0m\u001b[1;33m)\u001b[0m\u001b[1;33m\u001b[0m\u001b[1;33m\u001b[0m\u001b[0m\n\u001b[0m\u001b[0;32m    245\u001b[0m     \u001b[1;32mif\u001b[0m \u001b[1;34m'retina'\u001b[0m \u001b[1;32min\u001b[0m \u001b[0mformats\u001b[0m \u001b[1;32mor\u001b[0m \u001b[1;34m'png2x'\u001b[0m \u001b[1;32min\u001b[0m \u001b[0mformats\u001b[0m\u001b[1;33m:\u001b[0m\u001b[1;33m\u001b[0m\u001b[1;33m\u001b[0m\u001b[0m\n\u001b[0;32m    246\u001b[0m         \u001b[0mpng_formatter\u001b[0m\u001b[1;33m.\u001b[0m\u001b[0mfor_type\u001b[0m\u001b[1;33m(\u001b[0m\u001b[0mFigure\u001b[0m\u001b[1;33m,\u001b[0m \u001b[1;32mlambda\u001b[0m \u001b[0mfig\u001b[0m\u001b[1;33m:\u001b[0m \u001b[0mretina_figure\u001b[0m\u001b[1;33m(\u001b[0m\u001b[0mfig\u001b[0m\u001b[1;33m,\u001b[0m \u001b[1;33m**\u001b[0m\u001b[0mkwargs\u001b[0m\u001b[1;33m)\u001b[0m\u001b[1;33m)\u001b[0m\u001b[1;33m\u001b[0m\u001b[1;33m\u001b[0m\u001b[0m\n",
      "\u001b[1;32m~\\Anaconda3\\lib\\site-packages\\IPython\\core\\pylabtools.py\u001b[0m in \u001b[0;36mprint_figure\u001b[1;34m(fig, fmt, bbox_inches, **kwargs)\u001b[0m\n\u001b[0;32m    126\u001b[0m \u001b[1;33m\u001b[0m\u001b[0m\n\u001b[0;32m    127\u001b[0m     \u001b[0mbytes_io\u001b[0m \u001b[1;33m=\u001b[0m \u001b[0mBytesIO\u001b[0m\u001b[1;33m(\u001b[0m\u001b[1;33m)\u001b[0m\u001b[1;33m\u001b[0m\u001b[1;33m\u001b[0m\u001b[0m\n\u001b[1;32m--> 128\u001b[1;33m     \u001b[0mfig\u001b[0m\u001b[1;33m.\u001b[0m\u001b[0mcanvas\u001b[0m\u001b[1;33m.\u001b[0m\u001b[0mprint_figure\u001b[0m\u001b[1;33m(\u001b[0m\u001b[0mbytes_io\u001b[0m\u001b[1;33m,\u001b[0m \u001b[1;33m**\u001b[0m\u001b[0mkw\u001b[0m\u001b[1;33m)\u001b[0m\u001b[1;33m\u001b[0m\u001b[1;33m\u001b[0m\u001b[0m\n\u001b[0m\u001b[0;32m    129\u001b[0m     \u001b[0mdata\u001b[0m \u001b[1;33m=\u001b[0m \u001b[0mbytes_io\u001b[0m\u001b[1;33m.\u001b[0m\u001b[0mgetvalue\u001b[0m\u001b[1;33m(\u001b[0m\u001b[1;33m)\u001b[0m\u001b[1;33m\u001b[0m\u001b[1;33m\u001b[0m\u001b[0m\n\u001b[0;32m    130\u001b[0m     \u001b[1;32mif\u001b[0m \u001b[0mfmt\u001b[0m \u001b[1;33m==\u001b[0m \u001b[1;34m'svg'\u001b[0m\u001b[1;33m:\u001b[0m\u001b[1;33m\u001b[0m\u001b[1;33m\u001b[0m\u001b[0m\n",
      "\u001b[1;32m~\\Anaconda3\\lib\\site-packages\\matplotlib\\backend_bases.py\u001b[0m in \u001b[0;36mprint_figure\u001b[1;34m(self, filename, dpi, facecolor, edgecolor, orientation, format, bbox_inches, **kwargs)\u001b[0m\n\u001b[0;32m   2051\u001b[0m                     \u001b[0mbbox_artists\u001b[0m \u001b[1;33m=\u001b[0m \u001b[0mkwargs\u001b[0m\u001b[1;33m.\u001b[0m\u001b[0mpop\u001b[0m\u001b[1;33m(\u001b[0m\u001b[1;34m\"bbox_extra_artists\"\u001b[0m\u001b[1;33m,\u001b[0m \u001b[1;32mNone\u001b[0m\u001b[1;33m)\u001b[0m\u001b[1;33m\u001b[0m\u001b[1;33m\u001b[0m\u001b[0m\n\u001b[0;32m   2052\u001b[0m                     bbox_inches = self.figure.get_tightbbox(renderer,\n\u001b[1;32m-> 2053\u001b[1;33m                             bbox_extra_artists=bbox_artists)\n\u001b[0m\u001b[0;32m   2054\u001b[0m                     \u001b[0mpad\u001b[0m \u001b[1;33m=\u001b[0m \u001b[0mkwargs\u001b[0m\u001b[1;33m.\u001b[0m\u001b[0mpop\u001b[0m\u001b[1;33m(\u001b[0m\u001b[1;34m\"pad_inches\"\u001b[0m\u001b[1;33m,\u001b[0m \u001b[1;32mNone\u001b[0m\u001b[1;33m)\u001b[0m\u001b[1;33m\u001b[0m\u001b[1;33m\u001b[0m\u001b[0m\n\u001b[0;32m   2055\u001b[0m                     \u001b[1;32mif\u001b[0m \u001b[0mpad\u001b[0m \u001b[1;32mis\u001b[0m \u001b[1;32mNone\u001b[0m\u001b[1;33m:\u001b[0m\u001b[1;33m\u001b[0m\u001b[1;33m\u001b[0m\u001b[0m\n",
      "\u001b[1;32m~\\Anaconda3\\lib\\site-packages\\matplotlib\\figure.py\u001b[0m in \u001b[0;36mget_tightbbox\u001b[1;34m(self, renderer, bbox_extra_artists)\u001b[0m\n\u001b[0;32m   2268\u001b[0m \u001b[1;33m\u001b[0m\u001b[0m\n\u001b[0;32m   2269\u001b[0m         \u001b[1;32mfor\u001b[0m \u001b[0ma\u001b[0m \u001b[1;32min\u001b[0m \u001b[0martists\u001b[0m\u001b[1;33m:\u001b[0m\u001b[1;33m\u001b[0m\u001b[1;33m\u001b[0m\u001b[0m\n\u001b[1;32m-> 2270\u001b[1;33m             \u001b[0mbbox\u001b[0m \u001b[1;33m=\u001b[0m \u001b[0ma\u001b[0m\u001b[1;33m.\u001b[0m\u001b[0mget_tightbbox\u001b[0m\u001b[1;33m(\u001b[0m\u001b[0mrenderer\u001b[0m\u001b[1;33m)\u001b[0m\u001b[1;33m\u001b[0m\u001b[1;33m\u001b[0m\u001b[0m\n\u001b[0m\u001b[0;32m   2271\u001b[0m             \u001b[1;32mif\u001b[0m \u001b[0mbbox\u001b[0m \u001b[1;32mis\u001b[0m \u001b[1;32mnot\u001b[0m \u001b[1;32mNone\u001b[0m \u001b[1;32mand\u001b[0m \u001b[1;33m(\u001b[0m\u001b[0mbbox\u001b[0m\u001b[1;33m.\u001b[0m\u001b[0mwidth\u001b[0m \u001b[1;33m!=\u001b[0m \u001b[1;36m0\u001b[0m \u001b[1;32mor\u001b[0m \u001b[0mbbox\u001b[0m\u001b[1;33m.\u001b[0m\u001b[0mheight\u001b[0m \u001b[1;33m!=\u001b[0m \u001b[1;36m0\u001b[0m\u001b[1;33m)\u001b[0m\u001b[1;33m:\u001b[0m\u001b[1;33m\u001b[0m\u001b[1;33m\u001b[0m\u001b[0m\n\u001b[0;32m   2272\u001b[0m                 \u001b[0mbb\u001b[0m\u001b[1;33m.\u001b[0m\u001b[0mappend\u001b[0m\u001b[1;33m(\u001b[0m\u001b[0mbbox\u001b[0m\u001b[1;33m)\u001b[0m\u001b[1;33m\u001b[0m\u001b[1;33m\u001b[0m\u001b[0m\n",
      "\u001b[1;32m~\\Anaconda3\\lib\\site-packages\\matplotlib\\axes\\_base.py\u001b[0m in \u001b[0;36mget_tightbbox\u001b[1;34m(self, renderer, call_axes_locator, bbox_extra_artists)\u001b[0m\n\u001b[0;32m   4385\u001b[0m             \u001b[0mbb\u001b[0m\u001b[1;33m.\u001b[0m\u001b[0mappend\u001b[0m\u001b[1;33m(\u001b[0m\u001b[0mself\u001b[0m\u001b[1;33m.\u001b[0m\u001b[0m_right_title\u001b[0m\u001b[1;33m.\u001b[0m\u001b[0mget_window_extent\u001b[0m\u001b[1;33m(\u001b[0m\u001b[0mrenderer\u001b[0m\u001b[1;33m)\u001b[0m\u001b[1;33m)\u001b[0m\u001b[1;33m\u001b[0m\u001b[1;33m\u001b[0m\u001b[0m\n\u001b[0;32m   4386\u001b[0m \u001b[1;33m\u001b[0m\u001b[0m\n\u001b[1;32m-> 4387\u001b[1;33m         \u001b[0mbb_yaxis\u001b[0m \u001b[1;33m=\u001b[0m \u001b[0mself\u001b[0m\u001b[1;33m.\u001b[0m\u001b[0myaxis\u001b[0m\u001b[1;33m.\u001b[0m\u001b[0mget_tightbbox\u001b[0m\u001b[1;33m(\u001b[0m\u001b[0mrenderer\u001b[0m\u001b[1;33m)\u001b[0m\u001b[1;33m\u001b[0m\u001b[1;33m\u001b[0m\u001b[0m\n\u001b[0m\u001b[0;32m   4388\u001b[0m         \u001b[1;32mif\u001b[0m \u001b[0mbb_yaxis\u001b[0m\u001b[1;33m:\u001b[0m\u001b[1;33m\u001b[0m\u001b[1;33m\u001b[0m\u001b[0m\n\u001b[0;32m   4389\u001b[0m             \u001b[0mbb\u001b[0m\u001b[1;33m.\u001b[0m\u001b[0mappend\u001b[0m\u001b[1;33m(\u001b[0m\u001b[0mbb_yaxis\u001b[0m\u001b[1;33m)\u001b[0m\u001b[1;33m\u001b[0m\u001b[1;33m\u001b[0m\u001b[0m\n",
      "\u001b[1;32m~\\Anaconda3\\lib\\site-packages\\matplotlib\\axis.py\u001b[0m in \u001b[0;36mget_tightbbox\u001b[1;34m(self, renderer)\u001b[0m\n\u001b[0;32m   1140\u001b[0m         \u001b[0mticks_to_draw\u001b[0m \u001b[1;33m=\u001b[0m \u001b[0mself\u001b[0m\u001b[1;33m.\u001b[0m\u001b[0m_update_ticks\u001b[0m\u001b[1;33m(\u001b[0m\u001b[0mrenderer\u001b[0m\u001b[1;33m)\u001b[0m\u001b[1;33m\u001b[0m\u001b[1;33m\u001b[0m\u001b[0m\n\u001b[0;32m   1141\u001b[0m \u001b[1;33m\u001b[0m\u001b[0m\n\u001b[1;32m-> 1142\u001b[1;33m         \u001b[0mself\u001b[0m\u001b[1;33m.\u001b[0m\u001b[0m_update_label_position\u001b[0m\u001b[1;33m(\u001b[0m\u001b[0mrenderer\u001b[0m\u001b[1;33m)\u001b[0m\u001b[1;33m\u001b[0m\u001b[1;33m\u001b[0m\u001b[0m\n\u001b[0m\u001b[0;32m   1143\u001b[0m \u001b[1;33m\u001b[0m\u001b[0m\n\u001b[0;32m   1144\u001b[0m         \u001b[1;31m# go back to just this axis's tick labels\u001b[0m\u001b[1;33m\u001b[0m\u001b[1;33m\u001b[0m\u001b[1;33m\u001b[0m\u001b[0m\n",
      "\u001b[1;32m~\\Anaconda3\\lib\\site-packages\\matplotlib\\axis.py\u001b[0m in \u001b[0;36m_update_label_position\u001b[1;34m(self, renderer)\u001b[0m\n\u001b[0;32m   2305\u001b[0m         \u001b[1;31m# get bounding boxes for this axis and any siblings\u001b[0m\u001b[1;33m\u001b[0m\u001b[1;33m\u001b[0m\u001b[1;33m\u001b[0m\u001b[0m\n\u001b[0;32m   2306\u001b[0m         \u001b[1;31m# that have been set by `fig.align_ylabels()`\u001b[0m\u001b[1;33m\u001b[0m\u001b[1;33m\u001b[0m\u001b[1;33m\u001b[0m\u001b[0m\n\u001b[1;32m-> 2307\u001b[1;33m         \u001b[0mbboxes\u001b[0m\u001b[1;33m,\u001b[0m \u001b[0mbboxes2\u001b[0m \u001b[1;33m=\u001b[0m \u001b[0mself\u001b[0m\u001b[1;33m.\u001b[0m\u001b[0m_get_tick_boxes_siblings\u001b[0m\u001b[1;33m(\u001b[0m\u001b[0mrenderer\u001b[0m\u001b[1;33m=\u001b[0m\u001b[0mrenderer\u001b[0m\u001b[1;33m)\u001b[0m\u001b[1;33m\u001b[0m\u001b[1;33m\u001b[0m\u001b[0m\n\u001b[0m\u001b[0;32m   2308\u001b[0m \u001b[1;33m\u001b[0m\u001b[0m\n\u001b[0;32m   2309\u001b[0m         \u001b[0mx\u001b[0m\u001b[1;33m,\u001b[0m \u001b[0my\u001b[0m \u001b[1;33m=\u001b[0m \u001b[0mself\u001b[0m\u001b[1;33m.\u001b[0m\u001b[0mlabel\u001b[0m\u001b[1;33m.\u001b[0m\u001b[0mget_position\u001b[0m\u001b[1;33m(\u001b[0m\u001b[1;33m)\u001b[0m\u001b[1;33m\u001b[0m\u001b[1;33m\u001b[0m\u001b[0m\n",
      "\u001b[1;32m~\\Anaconda3\\lib\\site-packages\\matplotlib\\axis.py\u001b[0m in \u001b[0;36m_get_tick_boxes_siblings\u001b[1;34m(self, renderer)\u001b[0m\n\u001b[0;32m   2290\u001b[0m         \u001b[1;32mfor\u001b[0m \u001b[0maxx\u001b[0m \u001b[1;32min\u001b[0m \u001b[0mgrp\u001b[0m\u001b[1;33m.\u001b[0m\u001b[0mget_siblings\u001b[0m\u001b[1;33m(\u001b[0m\u001b[0mself\u001b[0m\u001b[1;33m.\u001b[0m\u001b[0maxes\u001b[0m\u001b[1;33m)\u001b[0m\u001b[1;33m:\u001b[0m\u001b[1;33m\u001b[0m\u001b[1;33m\u001b[0m\u001b[0m\n\u001b[0;32m   2291\u001b[0m             \u001b[0mticks_to_draw\u001b[0m \u001b[1;33m=\u001b[0m \u001b[0maxx\u001b[0m\u001b[1;33m.\u001b[0m\u001b[0myaxis\u001b[0m\u001b[1;33m.\u001b[0m\u001b[0m_update_ticks\u001b[0m\u001b[1;33m(\u001b[0m\u001b[0mrenderer\u001b[0m\u001b[1;33m)\u001b[0m\u001b[1;33m\u001b[0m\u001b[1;33m\u001b[0m\u001b[0m\n\u001b[1;32m-> 2292\u001b[1;33m             \u001b[0mtlb\u001b[0m\u001b[1;33m,\u001b[0m \u001b[0mtlb2\u001b[0m \u001b[1;33m=\u001b[0m \u001b[0maxx\u001b[0m\u001b[1;33m.\u001b[0m\u001b[0myaxis\u001b[0m\u001b[1;33m.\u001b[0m\u001b[0m_get_tick_bboxes\u001b[0m\u001b[1;33m(\u001b[0m\u001b[0mticks_to_draw\u001b[0m\u001b[1;33m,\u001b[0m \u001b[0mrenderer\u001b[0m\u001b[1;33m)\u001b[0m\u001b[1;33m\u001b[0m\u001b[1;33m\u001b[0m\u001b[0m\n\u001b[0m\u001b[0;32m   2293\u001b[0m             \u001b[0mbboxes\u001b[0m\u001b[1;33m.\u001b[0m\u001b[0mextend\u001b[0m\u001b[1;33m(\u001b[0m\u001b[0mtlb\u001b[0m\u001b[1;33m)\u001b[0m\u001b[1;33m\u001b[0m\u001b[1;33m\u001b[0m\u001b[0m\n\u001b[0;32m   2294\u001b[0m             \u001b[0mbboxes2\u001b[0m\u001b[1;33m.\u001b[0m\u001b[0mextend\u001b[0m\u001b[1;33m(\u001b[0m\u001b[0mtlb2\u001b[0m\u001b[1;33m)\u001b[0m\u001b[1;33m\u001b[0m\u001b[1;33m\u001b[0m\u001b[0m\n",
      "\u001b[1;32m~\\Anaconda3\\lib\\site-packages\\matplotlib\\axis.py\u001b[0m in \u001b[0;36m_get_tick_bboxes\u001b[1;34m(self, ticks, renderer)\u001b[0m\n\u001b[0;32m   1123\u001b[0m         \u001b[1;32mfor\u001b[0m \u001b[0mtick\u001b[0m \u001b[1;32min\u001b[0m \u001b[0mticks\u001b[0m\u001b[1;33m:\u001b[0m\u001b[1;33m\u001b[0m\u001b[1;33m\u001b[0m\u001b[0m\n\u001b[0;32m   1124\u001b[0m             \u001b[1;32mif\u001b[0m \u001b[0mtick\u001b[0m\u001b[1;33m.\u001b[0m\u001b[0mlabel1On\u001b[0m \u001b[1;32mand\u001b[0m \u001b[0mtick\u001b[0m\u001b[1;33m.\u001b[0m\u001b[0mlabel1\u001b[0m\u001b[1;33m.\u001b[0m\u001b[0mget_visible\u001b[0m\u001b[1;33m(\u001b[0m\u001b[1;33m)\u001b[0m\u001b[1;33m:\u001b[0m\u001b[1;33m\u001b[0m\u001b[1;33m\u001b[0m\u001b[0m\n\u001b[1;32m-> 1125\u001b[1;33m                 \u001b[0mextent\u001b[0m \u001b[1;33m=\u001b[0m \u001b[0mtick\u001b[0m\u001b[1;33m.\u001b[0m\u001b[0mlabel1\u001b[0m\u001b[1;33m.\u001b[0m\u001b[0mget_window_extent\u001b[0m\u001b[1;33m(\u001b[0m\u001b[0mrenderer\u001b[0m\u001b[1;33m)\u001b[0m\u001b[1;33m\u001b[0m\u001b[1;33m\u001b[0m\u001b[0m\n\u001b[0m\u001b[0;32m   1126\u001b[0m                 \u001b[0mticklabelBoxes\u001b[0m\u001b[1;33m.\u001b[0m\u001b[0mappend\u001b[0m\u001b[1;33m(\u001b[0m\u001b[0mextent\u001b[0m\u001b[1;33m)\u001b[0m\u001b[1;33m\u001b[0m\u001b[1;33m\u001b[0m\u001b[0m\n\u001b[0;32m   1127\u001b[0m             \u001b[1;32mif\u001b[0m \u001b[0mtick\u001b[0m\u001b[1;33m.\u001b[0m\u001b[0mlabel2On\u001b[0m \u001b[1;32mand\u001b[0m \u001b[0mtick\u001b[0m\u001b[1;33m.\u001b[0m\u001b[0mlabel2\u001b[0m\u001b[1;33m.\u001b[0m\u001b[0mget_visible\u001b[0m\u001b[1;33m(\u001b[0m\u001b[1;33m)\u001b[0m\u001b[1;33m:\u001b[0m\u001b[1;33m\u001b[0m\u001b[1;33m\u001b[0m\u001b[0m\n",
      "\u001b[1;32m~\\Anaconda3\\lib\\site-packages\\matplotlib\\text.py\u001b[0m in \u001b[0;36mget_window_extent\u001b[1;34m(self, renderer, dpi)\u001b[0m\n\u001b[0;32m    928\u001b[0m             \u001b[1;32mraise\u001b[0m \u001b[0mRuntimeError\u001b[0m\u001b[1;33m(\u001b[0m\u001b[1;34m'Cannot get window extent w/o renderer'\u001b[0m\u001b[1;33m)\u001b[0m\u001b[1;33m\u001b[0m\u001b[1;33m\u001b[0m\u001b[0m\n\u001b[0;32m    929\u001b[0m \u001b[1;33m\u001b[0m\u001b[0m\n\u001b[1;32m--> 930\u001b[1;33m         \u001b[0mbbox\u001b[0m\u001b[1;33m,\u001b[0m \u001b[0minfo\u001b[0m\u001b[1;33m,\u001b[0m \u001b[0mdescent\u001b[0m \u001b[1;33m=\u001b[0m \u001b[0mself\u001b[0m\u001b[1;33m.\u001b[0m\u001b[0m_get_layout\u001b[0m\u001b[1;33m(\u001b[0m\u001b[0mself\u001b[0m\u001b[1;33m.\u001b[0m\u001b[0m_renderer\u001b[0m\u001b[1;33m)\u001b[0m\u001b[1;33m\u001b[0m\u001b[1;33m\u001b[0m\u001b[0m\n\u001b[0m\u001b[0;32m    931\u001b[0m         \u001b[0mx\u001b[0m\u001b[1;33m,\u001b[0m \u001b[0my\u001b[0m \u001b[1;33m=\u001b[0m \u001b[0mself\u001b[0m\u001b[1;33m.\u001b[0m\u001b[0mget_unitless_position\u001b[0m\u001b[1;33m(\u001b[0m\u001b[1;33m)\u001b[0m\u001b[1;33m\u001b[0m\u001b[1;33m\u001b[0m\u001b[0m\n\u001b[0;32m    932\u001b[0m         \u001b[0mx\u001b[0m\u001b[1;33m,\u001b[0m \u001b[0my\u001b[0m \u001b[1;33m=\u001b[0m \u001b[0mself\u001b[0m\u001b[1;33m.\u001b[0m\u001b[0mget_transform\u001b[0m\u001b[1;33m(\u001b[0m\u001b[1;33m)\u001b[0m\u001b[1;33m.\u001b[0m\u001b[0mtransform_point\u001b[0m\u001b[1;33m(\u001b[0m\u001b[1;33m(\u001b[0m\u001b[0mx\u001b[0m\u001b[1;33m,\u001b[0m \u001b[0my\u001b[0m\u001b[1;33m)\u001b[0m\u001b[1;33m)\u001b[0m\u001b[1;33m\u001b[0m\u001b[1;33m\u001b[0m\u001b[0m\n",
      "\u001b[1;32m~\\Anaconda3\\lib\\site-packages\\matplotlib\\text.py\u001b[0m in \u001b[0;36m_get_layout\u001b[1;34m(self, renderer)\u001b[0m\n\u001b[0;32m    362\u001b[0m         \u001b[1;31m# compute the bounds of the rotated box\u001b[0m\u001b[1;33m\u001b[0m\u001b[1;33m\u001b[0m\u001b[1;33m\u001b[0m\u001b[0m\n\u001b[0;32m    363\u001b[0m         \u001b[0mxmin\u001b[0m\u001b[1;33m,\u001b[0m \u001b[0mxmax\u001b[0m \u001b[1;33m=\u001b[0m \u001b[0mtxs\u001b[0m\u001b[1;33m.\u001b[0m\u001b[0mmin\u001b[0m\u001b[1;33m(\u001b[0m\u001b[1;33m)\u001b[0m\u001b[1;33m,\u001b[0m \u001b[0mtxs\u001b[0m\u001b[1;33m.\u001b[0m\u001b[0mmax\u001b[0m\u001b[1;33m(\u001b[0m\u001b[1;33m)\u001b[0m\u001b[1;33m\u001b[0m\u001b[1;33m\u001b[0m\u001b[0m\n\u001b[1;32m--> 364\u001b[1;33m         \u001b[0mymin\u001b[0m\u001b[1;33m,\u001b[0m \u001b[0mymax\u001b[0m \u001b[1;33m=\u001b[0m \u001b[0mtys\u001b[0m\u001b[1;33m.\u001b[0m\u001b[0mmin\u001b[0m\u001b[1;33m(\u001b[0m\u001b[1;33m)\u001b[0m\u001b[1;33m,\u001b[0m \u001b[0mtys\u001b[0m\u001b[1;33m.\u001b[0m\u001b[0mmax\u001b[0m\u001b[1;33m(\u001b[0m\u001b[1;33m)\u001b[0m\u001b[1;33m\u001b[0m\u001b[1;33m\u001b[0m\u001b[0m\n\u001b[0m\u001b[0;32m    365\u001b[0m         \u001b[0mwidth\u001b[0m \u001b[1;33m=\u001b[0m \u001b[0mxmax\u001b[0m \u001b[1;33m-\u001b[0m \u001b[0mxmin\u001b[0m\u001b[1;33m\u001b[0m\u001b[1;33m\u001b[0m\u001b[0m\n\u001b[0;32m    366\u001b[0m         \u001b[0mheight\u001b[0m \u001b[1;33m=\u001b[0m \u001b[0mymax\u001b[0m \u001b[1;33m-\u001b[0m \u001b[0mymin\u001b[0m\u001b[1;33m\u001b[0m\u001b[1;33m\u001b[0m\u001b[0m\n",
      "\u001b[1;32m~\\Anaconda3\\lib\\site-packages\\numpy\\core\\_methods.py\u001b[0m in \u001b[0;36m_amin\u001b[1;34m(a, axis, out, keepdims, initial)\u001b[0m\n\u001b[0;32m     30\u001b[0m def _amin(a, axis=None, out=None, keepdims=False,\n\u001b[0;32m     31\u001b[0m           initial=_NoValue):\n\u001b[1;32m---> 32\u001b[1;33m     \u001b[1;32mreturn\u001b[0m \u001b[0mumr_minimum\u001b[0m\u001b[1;33m(\u001b[0m\u001b[0ma\u001b[0m\u001b[1;33m,\u001b[0m \u001b[0maxis\u001b[0m\u001b[1;33m,\u001b[0m \u001b[1;32mNone\u001b[0m\u001b[1;33m,\u001b[0m \u001b[0mout\u001b[0m\u001b[1;33m,\u001b[0m \u001b[0mkeepdims\u001b[0m\u001b[1;33m,\u001b[0m \u001b[0minitial\u001b[0m\u001b[1;33m)\u001b[0m\u001b[1;33m\u001b[0m\u001b[1;33m\u001b[0m\u001b[0m\n\u001b[0m\u001b[0;32m     33\u001b[0m \u001b[1;33m\u001b[0m\u001b[0m\n\u001b[0;32m     34\u001b[0m def _sum(a, axis=None, dtype=None, out=None, keepdims=False,\n",
      "\u001b[1;31mKeyboardInterrupt\u001b[0m: "
     ]
    }
   ],
   "source": [
    "# heatmap\n",
    "# fig, ax = plt.subplots(figsize=(10,10))\n",
    "\n",
    "# sns.heatmap(conf_mat, annot=True, fmt='d', xticklabels=df.StatusResolution.values, yticklabels=df.StatusResolution.values)\n",
    "# plt.ylabel('Actual')\n",
    "# plt.xlabel('Predicted')\n",
    "# plt.show()"
   ]
  },
  {
   "cell_type": "code",
   "execution_count": 49,
   "metadata": {
    "ExecuteTime": {
     "end_time": "2020-12-28T17:03:40.996753Z",
     "start_time": "2020-12-28T17:03:40.860091Z"
    }
   },
   "outputs": [
    {
     "name": "stderr",
     "output_type": "stream",
     "text": [
      "C:\\Users\\letan\\Anaconda3\\lib\\site-packages\\sklearn\\metrics\\classification.py:1143: UndefinedMetricWarning: Precision and F-score are ill-defined and being set to 0.0 in labels with no predicted samples.\n",
      "  'precision', 'predicted', average, warn_for)\n",
      "C:\\Users\\letan\\Anaconda3\\lib\\site-packages\\sklearn\\metrics\\classification.py:1143: UndefinedMetricWarning: Precision and F-score are ill-defined and being set to 0.0 in labels with no predicted samples.\n",
      "  'precision', 'predicted', average, warn_for)\n",
      "C:\\Users\\letan\\Anaconda3\\lib\\site-packages\\sklearn\\metrics\\classification.py:1143: UndefinedMetricWarning: Precision and F-score are ill-defined and being set to 0.0 in labels with no predicted samples.\n",
      "  'precision', 'predicted', average, warn_for)\n"
     ]
    },
    {
     "name": "stdout",
     "output_type": "stream",
     "text": [
      "                     precision    recall  f1-score   support\n",
      "\n",
      "     RESOLVED_FIXED       0.47      0.69      0.56      3757\n",
      "   RESOLVED_WONTFIX       0.32      0.19      0.24       464\n",
      "RESOLVED_WORKSFORME       0.56      0.60      0.58      1644\n",
      "     VERIFIED_FIXED       0.31      0.27      0.29      1223\n",
      "   RESOLVED_INVALID       0.21      0.13      0.16      1076\n",
      " RESOLVED_DUPLICATE       0.22      0.02      0.04       232\n",
      "RESOLVED_INCOMPLETE       0.23      0.18      0.20      1561\n",
      "VERIFIED_WORKSFORME       0.44      0.08      0.13       346\n",
      " VERIFIED_DUPLICATE       0.00      0.00      0.00         1\n",
      "   VERIFIED_INVALID       0.09      0.01      0.02       228\n",
      "   RESOLVED_EXPIRED       0.00      0.00      0.00         7\n",
      "   VERIFIED_WONTFIX       0.29      0.02      0.04        94\n",
      "   VERIFIED_EXPIRED       0.00      0.00      0.00         9\n",
      "VERIFIED_INCOMPLETE       0.00      0.00      0.00        61\n",
      "\n",
      "          micro avg       0.42      0.42      0.42     10703\n",
      "          macro avg       0.22      0.16      0.16     10703\n",
      "       weighted avg       0.38      0.42      0.38     10703\n",
      "\n"
     ]
    }
   ],
   "source": [
    "# Display the classification report\n",
    "# print(metrics.classification_report(y_test, y_pred, target_names=df['Status'].unique()))\n",
    "print(metrics.classification_report(y_test, y_pred, target_names=df['StatusResolution'].unique()))"
   ]
  },
  {
   "cell_type": "code",
   "execution_count": 50,
   "metadata": {
    "ExecuteTime": {
     "end_time": "2020-12-28T17:03:47.918314Z",
     "start_time": "2020-12-28T17:03:47.782382Z"
    }
   },
   "outputs": [
    {
     "name": "stderr",
     "output_type": "stream",
     "text": [
      "C:\\Users\\letan\\Anaconda3\\lib\\site-packages\\sklearn\\metrics\\classification.py:1143: UndefinedMetricWarning: Precision and F-score are ill-defined and being set to 0.0 in labels with no predicted samples.\n",
      "  'precision', 'predicted', average, warn_for)\n",
      "C:\\Users\\letan\\Anaconda3\\lib\\site-packages\\sklearn\\metrics\\classification.py:1143: UndefinedMetricWarning: Precision and F-score are ill-defined and being set to 0.0 in labels with no predicted samples.\n",
      "  'precision', 'predicted', average, warn_for)\n",
      "C:\\Users\\letan\\Anaconda3\\lib\\site-packages\\sklearn\\metrics\\classification.py:1143: UndefinedMetricWarning: Precision and F-score are ill-defined and being set to 0.0 in labels with no predicted samples.\n",
      "  'precision', 'predicted', average, warn_for)\n"
     ]
    },
    {
     "name": "stdout",
     "output_type": "stream",
     "text": [
      "                     precision    recall  f1-score   support\n",
      "\n",
      "     RESOLVED_FIXED       0.47      0.69      0.56      3757\n",
      "   RESOLVED_WONTFIX       0.32      0.19      0.24       464\n",
      "RESOLVED_WORKSFORME       0.56      0.60      0.58      1644\n",
      "     VERIFIED_FIXED       0.31      0.27      0.29      1223\n",
      "   RESOLVED_INVALID       0.21      0.13      0.16      1076\n",
      " RESOLVED_DUPLICATE       0.22      0.02      0.04       232\n",
      "RESOLVED_INCOMPLETE       0.23      0.18      0.20      1561\n",
      "VERIFIED_WORKSFORME       0.44      0.08      0.13       346\n",
      " VERIFIED_DUPLICATE       0.00      0.00      0.00         1\n",
      "   VERIFIED_INVALID       0.09      0.01      0.02       228\n",
      "   RESOLVED_EXPIRED       0.00      0.00      0.00         7\n",
      "   VERIFIED_WONTFIX       0.29      0.02      0.04        94\n",
      "   VERIFIED_EXPIRED       0.00      0.00      0.00         9\n",
      "VERIFIED_INCOMPLETE       0.00      0.00      0.00        61\n",
      "\n",
      "          micro avg       0.42      0.42      0.42     10703\n",
      "          macro avg       0.22      0.16      0.16     10703\n",
      "       weighted avg       0.38      0.42      0.38     10703\n",
      "\n"
     ]
    }
   ],
   "source": [
    "print(metrics.classification_report(y_test, y_pred, target_names=df['StatusResolution'].unique()))"
   ]
  },
  {
   "cell_type": "code",
   "execution_count": 188,
   "metadata": {
    "ExecuteTime": {
     "end_time": "2020-12-26T23:44:16.908673Z",
     "start_time": "2020-12-26T23:44:16.894709Z"
    }
   },
   "outputs": [
    {
     "data": {
      "text/plain": [
       "0.41749021070296477"
      ]
     },
     "execution_count": 188,
     "metadata": {},
     "output_type": "execute_result"
    }
   ],
   "source": [
    "accuracy_score(y_test, y_pred)"
   ]
  },
  {
   "cell_type": "markdown",
   "metadata": {},
   "source": [
    "## Change other classifier"
   ]
  },
  {
   "cell_type": "code",
   "execution_count": 189,
   "metadata": {
    "ExecuteTime": {
     "end_time": "2020-12-26T23:44:28.789495Z",
     "start_time": "2020-12-26T23:44:21.966558Z"
    }
   },
   "outputs": [],
   "source": [
    "rfc = RandomForestClassifier(n_estimators=10).fit(X_train, y_train)"
   ]
  },
  {
   "cell_type": "code",
   "execution_count": 190,
   "metadata": {
    "ExecuteTime": {
     "end_time": "2020-12-26T23:44:29.612014Z",
     "start_time": "2020-12-26T23:44:29.607027Z"
    }
   },
   "outputs": [
    {
     "data": {
      "text/plain": [
       "RandomForestClassifier(bootstrap=True, class_weight=None, criterion='gini',\n",
       "            max_depth=None, max_features='auto', max_leaf_nodes=None,\n",
       "            min_impurity_decrease=0.0, min_impurity_split=None,\n",
       "            min_samples_leaf=1, min_samples_split=2,\n",
       "            min_weight_fraction_leaf=0.0, n_estimators=10, n_jobs=None,\n",
       "            oob_score=False, random_state=None, verbose=0,\n",
       "            warm_start=False)"
      ]
     },
     "execution_count": 190,
     "metadata": {},
     "output_type": "execute_result"
    }
   ],
   "source": [
    "rfc"
   ]
  },
  {
   "cell_type": "code",
   "execution_count": 191,
   "metadata": {
    "ExecuteTime": {
     "end_time": "2020-12-26T23:44:31.151380Z",
     "start_time": "2020-12-26T23:44:31.014094Z"
    }
   },
   "outputs": [],
   "source": [
    "# predict on test set\n",
    "rfc_pred = rfc.predict(X_test)"
   ]
  },
  {
   "cell_type": "code",
   "execution_count": 192,
   "metadata": {
    "ExecuteTime": {
     "end_time": "2020-12-26T23:44:31.963323Z",
     "start_time": "2020-12-26T23:44:31.950357Z"
    }
   },
   "outputs": [
    {
     "data": {
      "text/plain": [
       "0.41749021070296477"
      ]
     },
     "execution_count": 192,
     "metadata": {},
     "output_type": "execute_result"
    }
   ],
   "source": [
    "accuracy_score(y_test, y_pred)"
   ]
  },
  {
   "cell_type": "code",
   "execution_count": 194,
   "metadata": {
    "ExecuteTime": {
     "end_time": "2020-12-26T23:44:39.481409Z",
     "start_time": "2020-12-26T23:44:39.350730Z"
    }
   },
   "outputs": [
    {
     "name": "stdout",
     "output_type": "stream",
     "text": [
      "                     precision    recall  f1-score   support\n",
      "\n",
      "     RESOLVED_FIXED       0.47      0.68      0.55      3778\n",
      "   RESOLVED_WONTFIX       0.34      0.20      0.25       464\n",
      "RESOLVED_WORKSFORME       0.55      0.62      0.58      1644\n",
      "     VERIFIED_FIXED       0.32      0.28      0.30      1223\n",
      "   RESOLVED_INVALID       0.23      0.13      0.16      1076\n",
      " RESOLVED_DUPLICATE       0.23      0.03      0.05       232\n",
      "RESOLVED_INCOMPLETE       0.22      0.18      0.20      1561\n",
      "VERIFIED_WORKSFORME       0.37      0.05      0.10       347\n",
      " VERIFIED_DUPLICATE       0.00      0.00      0.00         1\n",
      "   VERIFIED_INVALID       0.17      0.03      0.05       228\n",
      "   RESOLVED_EXPIRED       0.00      0.00      0.00         7\n",
      "   VERIFIED_WONTFIX       0.56      0.09      0.16        95\n",
      "   VERIFIED_EXPIRED       0.00      0.00      0.00         9\n",
      "VERIFIED_INCOMPLETE       0.00      0.00      0.00        61\n",
      "\n",
      "          micro avg       0.42      0.42      0.42     10726\n",
      "          macro avg       0.25      0.16      0.17     10726\n",
      "       weighted avg       0.38      0.42      0.38     10726\n",
      "\n"
     ]
    }
   ],
   "source": [
    "print(metrics.classification_report(y_test, y_pred, target_names=df['StatusResolution'].unique()))"
   ]
  },
  {
   "cell_type": "markdown",
   "metadata": {},
   "source": [
    "## downsampling-oversampling method"
   ]
  },
  {
   "cell_type": "code",
   "execution_count": 111,
   "metadata": {
    "ExecuteTime": {
     "end_time": "2020-12-26T20:49:18.817107Z",
     "start_time": "2020-12-26T20:49:18.809128Z"
    }
   },
   "outputs": [],
   "source": [
    "# setting up testing and training sets\n",
    "X_train, X_test, y_train, y_test = train_test_split(df['Content'], df['Status'], test_size=0.1, random_state=27)\n",
    "# X_train, X_test, y_train, y_test = train_test_split(features, labels, test_size=0.1, random_state=27)"
   ]
  },
  {
   "cell_type": "code",
   "execution_count": 112,
   "metadata": {
    "ExecuteTime": {
     "end_time": "2020-12-26T20:49:20.799605Z",
     "start_time": "2020-12-26T20:49:20.793621Z"
    }
   },
   "outputs": [],
   "source": [
    "# concatenate our training data back together\n",
    "X = pd.concat([X_train, y_train], axis=1)"
   ]
  },
  {
   "cell_type": "code",
   "execution_count": 89,
   "metadata": {
    "ExecuteTime": {
     "end_time": "2020-12-26T20:41:40.195780Z",
     "start_time": "2020-12-26T20:41:40.186804Z"
    }
   },
   "outputs": [],
   "source": [
    "# separate minority and majority classes\n",
    "verified = X[X.Status=='VERIFIED']\n",
    "resolved = X[X.Status=='RESOLVED']\n",
    "\n",
    "# RESOLVED    30234\n",
    "# VERIFIED     2267"
   ]
  },
  {
   "cell_type": "code",
   "execution_count": 92,
   "metadata": {
    "ExecuteTime": {
     "end_time": "2020-12-26T20:44:24.422533Z",
     "start_time": "2020-12-26T20:44:24.418541Z"
    }
   },
   "outputs": [],
   "source": [
    "# upsampling minority\n",
    "verified_upsampled = resample(verified, replace=True, n_samples=len(resolved), random_state=27)"
   ]
  },
  {
   "cell_type": "code",
   "execution_count": 94,
   "metadata": {
    "ExecuteTime": {
     "end_time": "2020-12-26T20:44:47.527450Z",
     "start_time": "2020-12-26T20:44:47.522463Z"
    }
   },
   "outputs": [
    {
     "data": {
      "text/plain": [
       "(27219, 2031, 27219)"
      ]
     },
     "execution_count": 94,
     "metadata": {},
     "output_type": "execute_result"
    }
   ],
   "source": [
    "len(verified_upsampled), len(verified), len(resolved)"
   ]
  },
  {
   "cell_type": "code",
   "execution_count": 95,
   "metadata": {
    "ExecuteTime": {
     "end_time": "2020-12-26T20:45:29.584495Z",
     "start_time": "2020-12-26T20:45:29.578500Z"
    }
   },
   "outputs": [],
   "source": [
    "# combine both majority and upsampled minority\n",
    "upsampled = pd.concat([resolved, verified_upsampled])"
   ]
  },
  {
   "cell_type": "code",
   "execution_count": 99,
   "metadata": {
    "ExecuteTime": {
     "end_time": "2020-12-26T20:46:05.315524Z",
     "start_time": "2020-12-26T20:46:05.305551Z"
    }
   },
   "outputs": [
    {
     "data": {
      "text/plain": [
       "VERIFIED    27219\n",
       "RESOLVED    27219\n",
       "Name: Status, dtype: int64"
      ]
     },
     "execution_count": 99,
     "metadata": {},
     "output_type": "execute_result"
    }
   ],
   "source": [
    "upsampled.Status.value_counts()"
   ]
  },
  {
   "cell_type": "code",
   "execution_count": 102,
   "metadata": {
    "ExecuteTime": {
     "end_time": "2020-12-26T20:47:09.031484Z",
     "start_time": "2020-12-26T20:47:09.027496Z"
    }
   },
   "outputs": [],
   "source": [
    "y_train = upsampled.Status\n",
    "X_train = upsampled.drop('Status', axis=1)"
   ]
  },
  {
   "cell_type": "code",
   "execution_count": 115,
   "metadata": {
    "ExecuteTime": {
     "end_time": "2020-12-26T20:54:11.661553Z",
     "start_time": "2020-12-26T20:54:11.657530Z"
    }
   },
   "outputs": [
    {
     "data": {
      "text/plain": [
       "((29250,), (29250,))"
      ]
     },
     "execution_count": 115,
     "metadata": {},
     "output_type": "execute_result"
    }
   ],
   "source": [
    "X_train.shape, y_train.shape"
   ]
  },
  {
   "cell_type": "code",
   "execution_count": 113,
   "metadata": {
    "ExecuteTime": {
     "end_time": "2020-12-26T20:52:53.970884Z",
     "start_time": "2020-12-26T20:52:46.786300Z"
    }
   },
   "outputs": [
    {
     "data": {
      "text/plain": [
       "(29250, 67550)"
      ]
     },
     "execution_count": 113,
     "metadata": {},
     "output_type": "execute_result"
    }
   ],
   "source": [
    "# display the feature\n",
    "features = tfidf.fit_transform(X_train)\n",
    "features.shape  # (32501, 74110)"
   ]
  },
  {
   "cell_type": "code",
   "execution_count": 121,
   "metadata": {
    "ExecuteTime": {
     "end_time": "2020-12-26T20:56:46.351171Z",
     "start_time": "2020-12-26T20:56:46.081715Z"
    }
   },
   "outputs": [],
   "source": [
    "model = LinearSVC()\n",
    "X_train, X_test, y_train, y_test = train_test_split(features, y_train, test_size=0.33, \n",
    "                                                    random_state=0, stratify=y_train)\n",
    "model.fit(X_train, y_train)\n",
    "y_pred = model.predict(X_test)"
   ]
  },
  {
   "cell_type": "code",
   "execution_count": 122,
   "metadata": {
    "ExecuteTime": {
     "end_time": "2020-12-26T20:57:02.591483Z",
     "start_time": "2020-12-26T20:57:02.561542Z"
    }
   },
   "outputs": [
    {
     "data": {
      "text/plain": [
       "array([[8971,   12],\n",
       "       [ 654,   16]], dtype=int64)"
      ]
     },
     "execution_count": 122,
     "metadata": {},
     "output_type": "execute_result"
    }
   ],
   "source": [
    "confusion_matrix(y_test, y_pred)"
   ]
  },
  {
   "cell_type": "code",
   "execution_count": 124,
   "metadata": {
    "ExecuteTime": {
     "end_time": "2020-12-26T20:57:25.025646Z",
     "start_time": "2020-12-26T20:57:24.913916Z"
    }
   },
   "outputs": [
    {
     "name": "stdout",
     "output_type": "stream",
     "text": [
      "              precision    recall  f1-score   support\n",
      "\n",
      "    RESOLVED       0.93      1.00      0.96      8983\n",
      "    VERIFIED       0.57      0.02      0.05       670\n",
      "\n",
      "   micro avg       0.93      0.93      0.93      9653\n",
      "   macro avg       0.75      0.51      0.51      9653\n",
      "weighted avg       0.91      0.93      0.90      9653\n",
      "\n"
     ]
    }
   ],
   "source": [
    "print(classification_report(y_test, y_pred))"
   ]
  },
  {
   "cell_type": "code",
   "execution_count": 125,
   "metadata": {
    "ExecuteTime": {
     "end_time": "2020-12-26T20:57:30.897259Z",
     "start_time": "2020-12-26T20:57:30.881317Z"
    }
   },
   "outputs": [
    {
     "data": {
      "text/plain": [
       "0.9310059049000311"
      ]
     },
     "execution_count": 125,
     "metadata": {},
     "output_type": "execute_result"
    }
   ],
   "source": [
    "accuracy_score(y_test, y_pred)"
   ]
  },
  {
   "cell_type": "markdown",
   "metadata": {},
   "source": [
    "## Generate synthetic samples"
   ]
  },
  {
   "cell_type": "code",
   "execution_count": 195,
   "metadata": {
    "ExecuteTime": {
     "end_time": "2020-12-26T23:44:53.433218Z",
     "start_time": "2020-12-26T23:44:53.429229Z"
    }
   },
   "outputs": [],
   "source": [
    "from imblearn.over_sampling import SMOTE"
   ]
  },
  {
   "cell_type": "code",
   "execution_count": 196,
   "metadata": {
    "ExecuteTime": {
     "end_time": "2020-12-26T23:45:02.696986Z",
     "start_time": "2020-12-26T23:45:02.687013Z"
    }
   },
   "outputs": [],
   "source": [
    "# X_train, X_test, y_train, y_test = train_test_split(df['Content'], df['Status'], test_size=0.1, random_state=27)\n",
    "# X_train, X_test, y_train, y_test = train_test_split(features, labels, test_size=0.1, random_state=27)\n",
    "\n",
    "X_train, X_test, y_train, y_test = train_test_split(df['Content'], df['StatusResolution'], test_size=0.1, random_state=27)"
   ]
  },
  {
   "cell_type": "code",
   "execution_count": 197,
   "metadata": {
    "ExecuteTime": {
     "end_time": "2020-12-26T23:45:12.092498Z",
     "start_time": "2020-12-26T23:45:04.894667Z"
    }
   },
   "outputs": [
    {
     "data": {
      "text/plain": [
       "(29250, 67550)"
      ]
     },
     "execution_count": 197,
     "metadata": {},
     "output_type": "execute_result"
    }
   ],
   "source": [
    "# display the feature\n",
    "features = tfidf.fit_transform(X_train)\n",
    "features.shape  # (32501, 74110)"
   ]
  },
  {
   "cell_type": "code",
   "execution_count": 198,
   "metadata": {
    "ExecuteTime": {
     "end_time": "2020-12-26T23:45:15.665419Z",
     "start_time": "2020-12-26T23:45:15.662427Z"
    }
   },
   "outputs": [],
   "source": [
    "sm = SMOTE(random_state=27, ratio=1.0)"
   ]
  },
  {
   "cell_type": "code",
   "execution_count": 199,
   "metadata": {
    "ExecuteTime": {
     "end_time": "2020-12-26T23:45:18.198634Z",
     "start_time": "2020-12-26T23:45:18.118847Z"
    },
    "collapsed": true
   },
   "outputs": [
    {
     "ename": "ValueError",
     "evalue": "\"sampling_strategy\" can be a float only when the type of target is binary. For multi-class, use a dict.",
     "output_type": "error",
     "traceback": [
      "\u001b[1;31m---------------------------------------------------------------------------\u001b[0m",
      "\u001b[1;31mValueError\u001b[0m                                Traceback (most recent call last)",
      "\u001b[1;32m<ipython-input-199-cbe21d4522a8>\u001b[0m in \u001b[0;36m<module>\u001b[1;34m\u001b[0m\n\u001b[1;32m----> 1\u001b[1;33m \u001b[0mX_train\u001b[0m\u001b[1;33m,\u001b[0m \u001b[0my_train\u001b[0m \u001b[1;33m=\u001b[0m \u001b[0msm\u001b[0m\u001b[1;33m.\u001b[0m\u001b[0mfit_sample\u001b[0m\u001b[1;33m(\u001b[0m\u001b[0mfeatures\u001b[0m\u001b[1;33m,\u001b[0m \u001b[0my_train\u001b[0m\u001b[1;33m)\u001b[0m\u001b[1;33m\u001b[0m\u001b[1;33m\u001b[0m\u001b[0m\n\u001b[0m",
      "\u001b[1;32m~\\Anaconda3\\lib\\site-packages\\imblearn\\base.py\u001b[0m in \u001b[0;36mfit_resample\u001b[1;34m(self, X, y)\u001b[0m\n\u001b[0;32m     80\u001b[0m \u001b[1;33m\u001b[0m\u001b[0m\n\u001b[0;32m     81\u001b[0m         self.sampling_strategy_ = check_sampling_strategy(\n\u001b[1;32m---> 82\u001b[1;33m             self.sampling_strategy, y, self._sampling_type)\n\u001b[0m\u001b[0;32m     83\u001b[0m \u001b[1;33m\u001b[0m\u001b[0m\n\u001b[0;32m     84\u001b[0m         \u001b[0moutput\u001b[0m \u001b[1;33m=\u001b[0m \u001b[0mself\u001b[0m\u001b[1;33m.\u001b[0m\u001b[0m_fit_resample\u001b[0m\u001b[1;33m(\u001b[0m\u001b[0mX\u001b[0m\u001b[1;33m,\u001b[0m \u001b[0my\u001b[0m\u001b[1;33m)\u001b[0m\u001b[1;33m\u001b[0m\u001b[1;33m\u001b[0m\u001b[0m\n",
      "\u001b[1;32m~\\Anaconda3\\lib\\site-packages\\imblearn\\utils\\_validation.py\u001b[0m in \u001b[0;36mcheck_sampling_strategy\u001b[1;34m(sampling_strategy, y, sampling_type, **kwargs)\u001b[0m\n\u001b[0;32m    462\u001b[0m                 .format(sampling_strategy))\n\u001b[0;32m    463\u001b[0m         return OrderedDict(sorted(\n\u001b[1;32m--> 464\u001b[1;33m             \u001b[0m_sampling_strategy_float\u001b[0m\u001b[1;33m(\u001b[0m\u001b[0msampling_strategy\u001b[0m\u001b[1;33m,\u001b[0m \u001b[0my\u001b[0m\u001b[1;33m,\u001b[0m \u001b[0msampling_type\u001b[0m\u001b[1;33m)\u001b[0m\u001b[1;33m\u001b[0m\u001b[1;33m\u001b[0m\u001b[0m\n\u001b[0m\u001b[0;32m    465\u001b[0m             .items()))\n\u001b[0;32m    466\u001b[0m     \u001b[1;32melif\u001b[0m \u001b[0mcallable\u001b[0m\u001b[1;33m(\u001b[0m\u001b[0msampling_strategy\u001b[0m\u001b[1;33m)\u001b[0m\u001b[1;33m:\u001b[0m\u001b[1;33m\u001b[0m\u001b[1;33m\u001b[0m\u001b[0m\n",
      "\u001b[1;32m~\\Anaconda3\\lib\\site-packages\\imblearn\\utils\\_validation.py\u001b[0m in \u001b[0;36m_sampling_strategy_float\u001b[1;34m(sampling_strategy, y, sampling_type)\u001b[0m\n\u001b[0;32m    307\u001b[0m     \u001b[1;32mif\u001b[0m \u001b[0mtype_y\u001b[0m \u001b[1;33m!=\u001b[0m \u001b[1;34m'binary'\u001b[0m\u001b[1;33m:\u001b[0m\u001b[1;33m\u001b[0m\u001b[1;33m\u001b[0m\u001b[0m\n\u001b[0;32m    308\u001b[0m         raise ValueError(\n\u001b[1;32m--> 309\u001b[1;33m             \u001b[1;34m'\"sampling_strategy\" can be a float only when the type '\u001b[0m\u001b[1;33m\u001b[0m\u001b[1;33m\u001b[0m\u001b[0m\n\u001b[0m\u001b[0;32m    310\u001b[0m             'of target is binary. For multi-class, use a dict.')\n\u001b[0;32m    311\u001b[0m     \u001b[0mtarget_stats\u001b[0m \u001b[1;33m=\u001b[0m \u001b[0m_count_class_sample\u001b[0m\u001b[1;33m(\u001b[0m\u001b[0my\u001b[0m\u001b[1;33m)\u001b[0m\u001b[1;33m\u001b[0m\u001b[1;33m\u001b[0m\u001b[0m\n",
      "\u001b[1;31mValueError\u001b[0m: \"sampling_strategy\" can be a float only when the type of target is binary. For multi-class, use a dict."
     ]
    }
   ],
   "source": [
    "X_train, y_train = sm.fit_sample(features, y_train)\n",
    "\n",
    "# ValueError: \"sampling_strategy\" can be a float only when the type of target is binary. For multi-class, use a dict.\n",
    "\n",
    "# Nhan xet: Ap dung cho binary classification only !!!"
   ]
  },
  {
   "cell_type": "code",
   "execution_count": 149,
   "metadata": {
    "ExecuteTime": {
     "end_time": "2020-12-26T21:08:49.371489Z",
     "start_time": "2020-12-26T21:08:48.569471Z"
    }
   },
   "outputs": [],
   "source": [
    "model = LinearSVC()\n",
    "X_train, X_test, y_train, y_test = train_test_split(X_train, y_train, test_size=0.33, \n",
    "                                                    random_state=0, stratify=y_train)\n",
    "model.fit(X_train, y_train)\n",
    "y_pred = model.predict(X_test)"
   ]
  },
  {
   "cell_type": "code",
   "execution_count": 150,
   "metadata": {
    "ExecuteTime": {
     "end_time": "2020-12-26T21:09:08.911898Z",
     "start_time": "2020-12-26T21:09:08.858025Z"
    }
   },
   "outputs": [
    {
     "data": {
      "text/plain": [
       "array([[8487,  496],\n",
       "       [  11, 8971]], dtype=int64)"
      ]
     },
     "execution_count": 150,
     "metadata": {},
     "output_type": "execute_result"
    }
   ],
   "source": [
    "confusion_matrix(y_test, y_pred)"
   ]
  },
  {
   "cell_type": "code",
   "execution_count": 151,
   "metadata": {
    "ExecuteTime": {
     "end_time": "2020-12-26T21:09:11.331186Z",
     "start_time": "2020-12-26T21:09:11.112791Z"
    }
   },
   "outputs": [
    {
     "name": "stdout",
     "output_type": "stream",
     "text": [
      "              precision    recall  f1-score   support\n",
      "\n",
      "    RESOLVED       1.00      0.94      0.97      8983\n",
      "    VERIFIED       0.95      1.00      0.97      8982\n",
      "\n",
      "   micro avg       0.97      0.97      0.97     17965\n",
      "   macro avg       0.97      0.97      0.97     17965\n",
      "weighted avg       0.97      0.97      0.97     17965\n",
      "\n"
     ]
    }
   ],
   "source": [
    "print(classification_report(y_test, y_pred))"
   ]
  },
  {
   "cell_type": "code",
   "execution_count": 152,
   "metadata": {
    "ExecuteTime": {
     "end_time": "2020-12-26T21:09:15.170529Z",
     "start_time": "2020-12-26T21:09:15.144598Z"
    }
   },
   "outputs": [
    {
     "data": {
      "text/plain": [
       "0.9717784581129975"
      ]
     },
     "execution_count": 152,
     "metadata": {},
     "output_type": "execute_result"
    }
   ],
   "source": [
    "accuracy_score(y_test, y_pred)"
   ]
  },
  {
   "cell_type": "markdown",
   "metadata": {},
   "source": [
    "# Deep learning training"
   ]
  },
  {
   "cell_type": "code",
   "execution_count": 122,
   "metadata": {
    "ExecuteTime": {
     "end_time": "2020-12-28T20:33:09.685757Z",
     "start_time": "2020-12-28T20:33:09.682764Z"
    }
   },
   "outputs": [],
   "source": [
    "# get data, labels\n",
    "X = df['Content']\n",
    "y = df['StatusResolution']"
   ]
  },
  {
   "cell_type": "code",
   "execution_count": 123,
   "metadata": {
    "ExecuteTime": {
     "end_time": "2020-12-28T20:33:10.369328Z",
     "start_time": "2020-12-28T20:33:10.363347Z"
    },
    "collapsed": true
   },
   "outputs": [
    {
     "data": {
      "text/plain": [
       "{'a',\n",
       " 'about',\n",
       " 'above',\n",
       " 'after',\n",
       " 'again',\n",
       " 'against',\n",
       " 'ain',\n",
       " 'all',\n",
       " 'am',\n",
       " 'an',\n",
       " 'and',\n",
       " 'any',\n",
       " 'are',\n",
       " 'aren',\n",
       " \"aren't\",\n",
       " 'as',\n",
       " 'at',\n",
       " 'be',\n",
       " 'because',\n",
       " 'been',\n",
       " 'before',\n",
       " 'being',\n",
       " 'below',\n",
       " 'between',\n",
       " 'both',\n",
       " 'but',\n",
       " 'by',\n",
       " 'can',\n",
       " 'couldn',\n",
       " \"couldn't\",\n",
       " 'd',\n",
       " 'did',\n",
       " 'didn',\n",
       " \"didn't\",\n",
       " 'do',\n",
       " 'does',\n",
       " 'doesn',\n",
       " \"doesn't\",\n",
       " 'doing',\n",
       " 'don',\n",
       " \"don't\",\n",
       " 'down',\n",
       " 'during',\n",
       " 'each',\n",
       " 'few',\n",
       " 'for',\n",
       " 'from',\n",
       " 'further',\n",
       " 'had',\n",
       " 'hadn',\n",
       " \"hadn't\",\n",
       " 'has',\n",
       " 'hasn',\n",
       " \"hasn't\",\n",
       " 'have',\n",
       " 'haven',\n",
       " \"haven't\",\n",
       " 'having',\n",
       " 'he',\n",
       " 'her',\n",
       " 'here',\n",
       " 'hers',\n",
       " 'herself',\n",
       " 'him',\n",
       " 'himself',\n",
       " 'his',\n",
       " 'how',\n",
       " 'i',\n",
       " 'if',\n",
       " 'in',\n",
       " 'into',\n",
       " 'is',\n",
       " 'isn',\n",
       " \"isn't\",\n",
       " 'it',\n",
       " \"it's\",\n",
       " 'its',\n",
       " 'itself',\n",
       " 'just',\n",
       " 'll',\n",
       " 'm',\n",
       " 'ma',\n",
       " 'me',\n",
       " 'mightn',\n",
       " \"mightn't\",\n",
       " 'more',\n",
       " 'most',\n",
       " 'mustn',\n",
       " \"mustn't\",\n",
       " 'my',\n",
       " 'myself',\n",
       " 'needn',\n",
       " \"needn't\",\n",
       " 'no',\n",
       " 'nor',\n",
       " 'not',\n",
       " 'now',\n",
       " 'o',\n",
       " 'of',\n",
       " 'off',\n",
       " 'on',\n",
       " 'once',\n",
       " 'only',\n",
       " 'or',\n",
       " 'other',\n",
       " 'our',\n",
       " 'ours',\n",
       " 'ourselves',\n",
       " 'out',\n",
       " 'over',\n",
       " 'own',\n",
       " 're',\n",
       " 's',\n",
       " 'same',\n",
       " 'shan',\n",
       " \"shan't\",\n",
       " 'she',\n",
       " \"she's\",\n",
       " 'should',\n",
       " \"should've\",\n",
       " 'shouldn',\n",
       " \"shouldn't\",\n",
       " 'so',\n",
       " 'some',\n",
       " 'such',\n",
       " 't',\n",
       " 'than',\n",
       " 'that',\n",
       " \"that'll\",\n",
       " 'the',\n",
       " 'their',\n",
       " 'theirs',\n",
       " 'them',\n",
       " 'themselves',\n",
       " 'then',\n",
       " 'there',\n",
       " 'these',\n",
       " 'they',\n",
       " 'this',\n",
       " 'those',\n",
       " 'through',\n",
       " 'to',\n",
       " 'too',\n",
       " 'under',\n",
       " 'until',\n",
       " 'up',\n",
       " 've',\n",
       " 'very',\n",
       " 'was',\n",
       " 'wasn',\n",
       " \"wasn't\",\n",
       " 'we',\n",
       " 'were',\n",
       " 'weren',\n",
       " \"weren't\",\n",
       " 'what',\n",
       " 'when',\n",
       " 'where',\n",
       " 'which',\n",
       " 'while',\n",
       " 'who',\n",
       " 'whom',\n",
       " 'why',\n",
       " 'will',\n",
       " 'with',\n",
       " 'won',\n",
       " \"won't\",\n",
       " 'wouldn',\n",
       " \"wouldn't\",\n",
       " 'y',\n",
       " 'you',\n",
       " \"you'd\",\n",
       " \"you'll\",\n",
       " \"you're\",\n",
       " \"you've\",\n",
       " 'your',\n",
       " 'yours',\n",
       " 'yourself',\n",
       " 'yourselves'}"
      ]
     },
     "execution_count": 123,
     "metadata": {},
     "output_type": "execute_result"
    }
   ],
   "source": [
    "stop_words = set(stopwords.words('english'))\n",
    "stop_words"
   ]
  },
  {
   "cell_type": "markdown",
   "metadata": {},
   "source": [
    "{'a',\n",
    " 'about',\n",
    " 'above',\n",
    " 'after',\n",
    " 'again',\n",
    " 'against',\n",
    " 'ain',\n",
    " 'all',\n",
    " 'am',\n",
    " 'an',\n",
    " 'and',"
   ]
  },
  {
   "cell_type": "code",
   "execution_count": 124,
   "metadata": {
    "ExecuteTime": {
     "end_time": "2020-12-28T20:33:11.397581Z",
     "start_time": "2020-12-28T20:33:11.394588Z"
    }
   },
   "outputs": [],
   "source": [
    "wn = WordNetLemmatizer() # wordNet lemmatizer"
   ]
  },
  {
   "cell_type": "code",
   "execution_count": 125,
   "metadata": {
    "ExecuteTime": {
     "end_time": "2020-12-28T20:33:12.534452Z",
     "start_time": "2020-12-28T20:33:12.530439Z"
    }
   },
   "outputs": [
    {
     "data": {
      "text/plain": [
       "(32433, 32433)"
      ]
     },
     "execution_count": 125,
     "metadata": {},
     "output_type": "execute_result"
    }
   ],
   "source": [
    "len(X), len(y)"
   ]
  },
  {
   "cell_type": "code",
   "execution_count": 126,
   "metadata": {
    "ExecuteTime": {
     "end_time": "2020-12-28T20:33:12.929017Z",
     "start_time": "2020-12-28T20:33:12.922027Z"
    }
   },
   "outputs": [],
   "source": [
    "# encode the labels = classes\n",
    "encoder = LabelEncoder()\n",
    "\n",
    "y = encoder.fit_transform(y)"
   ]
  },
  {
   "cell_type": "code",
   "execution_count": 127,
   "metadata": {
    "ExecuteTime": {
     "end_time": "2020-12-28T20:33:14.215584Z",
     "start_time": "2020-12-28T20:33:14.210614Z"
    }
   },
   "outputs": [
    {
     "data": {
      "text/plain": [
       "array(['RESOLVED_DUPLICATE', 'RESOLVED_EXPIRED', 'RESOLVED_FIXED',\n",
       "       'RESOLVED_INCOMPLETE', 'RESOLVED_INVALID', 'RESOLVED_WONTFIX',\n",
       "       'RESOLVED_WORKSFORME', 'VERIFIED_DUPLICATE', 'VERIFIED_EXPIRED',\n",
       "       'VERIFIED_FIXED', 'VERIFIED_INCOMPLETE', 'VERIFIED_INVALID',\n",
       "       'VERIFIED_WONTFIX', 'VERIFIED_WORKSFORME'], dtype=object)"
      ]
     },
     "execution_count": 127,
     "metadata": {},
     "output_type": "execute_result"
    }
   ],
   "source": [
    "encoder.classes_"
   ]
  },
  {
   "cell_type": "code",
   "execution_count": 128,
   "metadata": {
    "ExecuteTime": {
     "end_time": "2020-12-28T20:33:17.304164Z",
     "start_time": "2020-12-28T20:33:17.298148Z"
    }
   },
   "outputs": [
    {
     "data": {
      "text/plain": [
       "14"
      ]
     },
     "execution_count": 128,
     "metadata": {},
     "output_type": "execute_result"
    }
   ],
   "source": [
    "Y = np_utils.to_categorical(y)\n",
    "len(Y[0]) # 14 classes"
   ]
  },
  {
   "cell_type": "code",
   "execution_count": 30,
   "metadata": {
    "ExecuteTime": {
     "end_time": "2020-12-28T19:03:27.957039Z",
     "start_time": "2020-12-28T19:03:27.951073Z"
    }
   },
   "outputs": [
    {
     "data": {
      "text/plain": [
       "0    Newsgroup postings dont linkify newsgroup head...\n",
       "1    mail conduit for the palm devices At present; ...\n",
       "Name: Content, dtype: object"
      ]
     },
     "execution_count": 30,
     "metadata": {},
     "output_type": "execute_result"
    }
   ],
   "source": [
    "X[:2]"
   ]
  },
  {
   "cell_type": "code",
   "execution_count": 129,
   "metadata": {
    "ExecuteTime": {
     "end_time": "2020-12-28T20:33:20.135214Z",
     "start_time": "2020-12-28T20:33:20.130200Z"
    }
   },
   "outputs": [],
   "source": [
    "# create the tf-idf vector\n",
    "vectorizer = TfidfVectorizer(min_df =3, max_df=0.2, max_features=None, \n",
    "                    strip_accents='unicode', analyzer='word',token_pattern=r'\\w{1,}',\n",
    "                    ngram_range=(1, 10), use_idf=1,smooth_idf=1,sublinear_tf=1,\n",
    "                    stop_words = None, preprocessor=clean_txt)"
   ]
  },
  {
   "cell_type": "markdown",
   "metadata": {},
   "source": [
    "## Split train-test datasets"
   ]
  },
  {
   "cell_type": "code",
   "execution_count": 130,
   "metadata": {
    "ExecuteTime": {
     "end_time": "2020-12-28T20:33:27.621251Z",
     "start_time": "2020-12-28T20:33:27.603299Z"
    }
   },
   "outputs": [],
   "source": [
    "seed = 40\n",
    "\n",
    "x_train, x_test, y_train, y_test = train_test_split(X, Y, test_size=0.2, random_state=seed, stratify=y)"
   ]
  },
  {
   "cell_type": "code",
   "execution_count": 131,
   "metadata": {
    "ExecuteTime": {
     "end_time": "2020-12-28T20:33:28.894494Z",
     "start_time": "2020-12-28T20:33:28.891472Z"
    }
   },
   "outputs": [
    {
     "data": {
      "text/plain": [
       "((25946,), (25946, 14), (6487,), (6487, 14))"
      ]
     },
     "execution_count": 131,
     "metadata": {},
     "output_type": "execute_result"
    }
   ],
   "source": [
    "x_train.shape, y_train.shape, x_test.shape, y_test.shape"
   ]
  },
  {
   "cell_type": "code",
   "execution_count": 132,
   "metadata": {
    "ExecuteTime": {
     "end_time": "2020-12-28T20:34:58.643471Z",
     "start_time": "2020-12-28T20:33:33.123452Z"
    }
   },
   "outputs": [
    {
     "data": {
      "text/plain": [
       "TfidfVectorizer(analyzer='word', binary=False, decode_error='strict',\n",
       "        dtype=<class 'numpy.float64'>, encoding='utf-8', input='content',\n",
       "        lowercase=True, max_df=0.2, max_features=None, min_df=3,\n",
       "        ngram_range=(1, 10), norm='l2',\n",
       "        preprocessor=<function clean_txt at 0x0000024548CB9400>,\n",
       "        smooth_idf=1, stop_words=None, strip_accents='unicode',\n",
       "        sublinear_tf=1, token_pattern='\\\\w{1,}', tokenizer=None, use_idf=1,\n",
       "        vocabulary=None)"
      ]
     },
     "execution_count": 132,
     "metadata": {},
     "output_type": "execute_result"
    }
   ],
   "source": [
    "vectorizer.fit(x_train)"
   ]
  },
  {
   "cell_type": "code",
   "execution_count": 133,
   "metadata": {
    "ExecuteTime": {
     "end_time": "2020-12-28T20:34:58.994533Z",
     "start_time": "2020-12-28T20:34:58.645438Z"
    }
   },
   "outputs": [],
   "source": [
    "# Convert text to sequence\n",
    "word2idx = {word: idx for idx, word in enumerate(vectorizer.get_feature_names())}\n",
    "tokenize = vectorizer.build_tokenizer()\n",
    "preprocess = vectorizer.build_preprocessor()\n",
    "\n",
    "def to_sequence(tokenizer, preprocessor, index, text):\n",
    "    words = tokenizer(preprocessor(text))\n",
    "    #print('\\nwords = {}, length of tokenized words = {}'.format(words, len(words)))\n",
    "    indexes = [index[word] for word in words if word in index]\n",
    "    #print('\\nindexes = {}, length of indexes = {}'.format(indexes, len(indexes)))\n",
    "    return indexes"
   ]
  },
  {
   "cell_type": "code",
   "execution_count": 134,
   "metadata": {
    "ExecuteTime": {
     "end_time": "2020-12-28T20:35:25.582563Z",
     "start_time": "2020-12-28T20:34:58.995501Z"
    }
   },
   "outputs": [],
   "source": [
    "X_train_sequences = [to_sequence(tokenize, preprocess, word2idx, x) for x in x_train]"
   ]
  },
  {
   "cell_type": "markdown",
   "metadata": {},
   "source": [
    "words = ['provide', 'additional', 'information', 'xpi', 'file', 'determine', 'application', 'load', 'user', 'agent', 'mozilla', 'windows', 'windows', 'gecko', 'firefox', 'build', 'identifier', 'mozilla', 'windows', 'windows', 'gecko', 'firefox', 'currently', 'instructions', 'way', 'file', 'could', 'open', 'correct', 'application', 'installation', 'process', 'would', 'much', 'simpler', 'instructions', 'page', 'proper', 'procedure', 'text', 'install', 'still', 'lead', 'user', 'click', 'rather', 'right', 'click', 'transparent', 'process', 'would', 'likely', 'appeal', 'two', 'recommendations', 'mime', 'type', 'extensions', 'application', 'xpinstall', 'thunderbird', 'see', 'bug', 'use', 'xpi', 'aware', 'install', 'tool', 'would', 'open', 'xpi', 'file', 'cause', 'instal', 'correct', 'application', 'assume', 'file', 'provide', 'enough', 'information', 'determine', 'application', 'use', 'reproducible', 'always', 'step', 'reproduce', 'visit', 'url', 'use', 'fire', 'fox', 'reference', 'thunderbird', 'xpi', 'extensions', 'click', 'install', 'link', 'actual', 'result', 'software', 'install', 'dialog', 'appear', 'allow', 'user', 'click', 'install', 'appear', 'install', 'extension', 'dialog', 'appear', 'tell', 'user', 'extension', 'compatible', 'firefox', 'expect', 'result', 'correctly', 'instal', 'extension', 'right', 'application', 'thunderbird', 'provide', 'list', 'instal', 'applications', 'could', 'install', 'extension', 'allow', 'user', 'install', 'allow', 'user', 'browse', 'installers', 'within', 'appropriate', 'application', 'successfully', 'install', 'bug', 'provide', 'information', 'error', 'message', 'guide', 'user', 'towards', 'determine', 'correct', 'application', 'procedure', 'change', 'install', 'link', 'save', 'extension', 'link', 'extensions', 'website', 'browser', 'compatible', 'xpi', 'file', 'allow', 'user', 'click', 'two', 'time', 'successive', 'button', 'call', 'install', 'inform', 'user', 'extension', 'cant', 'instal', 'use', 'thunderbird', 'firefox'], length of tokenized words = 188\n",
    "\n",
    "indexes = [196152, 6722, 120343, 283964, 84913, 60585, 17038, 137720, 56102, 122152, 271668, 84913, 52480, 51985, 17038, 121648, 194064, 281461, 165283, 227241, 122152, 183968, 195693, 194039, 242917, 121391, 236531, 128524, 197642, 211543, 254059, 194064, 281461, 133811, 15447, 256181, 199880, 156460, 256534, 81522, 17038, 284002, 28010, 283964, 21958, 121391, 252825, 281461, 283964, 84913, 34504, 121140, 51985, 17038, 19095, 84913, 196152, 74659, 120343, 60585, 17038, 270603, 260515, 88528, 97026, 200139, 283964, 81522, 121391, 135093, 228952, 121391, 60912, 15448, 11036, 121391, 15448, 121391, 81398, 60912, 15448, 241902, 81398, 45179, 52170, 121140, 81398, 211543, 17038, 196152, 136759, 121140, 17335, 52480, 121391, 81398, 11036, 121391, 11036, 27740, 121785, 279479, 17970, 17038, 238455, 121391, 28010, 196152, 120343, 75646, 107825, 253749, 60585, 51985, 17038, 194039, 35616, 121391, 135093, 213454, 81398, 135093, 81522, 272188, 27786, 45179, 283964, 84913, 11036, 256181, 251443, 238503, 32188, 33015, 121391, 120335, 81398, 33525, 121140], length of indexes = 139"
   ]
  },
  {
   "cell_type": "code",
   "execution_count": 135,
   "metadata": {
    "ExecuteTime": {
     "end_time": "2020-12-28T20:35:25.855060Z",
     "start_time": "2020-12-28T20:35:25.584560Z"
    }
   },
   "outputs": [
    {
     "data": {
      "text/plain": [
       "285064"
      ]
     },
     "execution_count": 135,
     "metadata": {},
     "output_type": "execute_result"
    }
   ],
   "source": [
    "len(vectorizer.get_feature_names())  # total of nb_features = 285064"
   ]
  },
  {
   "cell_type": "code",
   "execution_count": 136,
   "metadata": {
    "ExecuteTime": {
     "end_time": "2020-12-28T20:35:25.862039Z",
     "start_time": "2020-12-28T20:35:25.856055Z"
    }
   },
   "outputs": [
    {
     "data": {
      "text/plain": [
       "2835"
      ]
     },
     "execution_count": 136,
     "metadata": {},
     "output_type": "execute_result"
    }
   ],
   "source": [
    "max([len(s) for s in X_train_sequences])   # max sequence length = 2835"
   ]
  },
  {
   "cell_type": "code",
   "execution_count": 137,
   "metadata": {
    "ExecuteTime": {
     "end_time": "2020-12-28T20:35:26.073529Z",
     "start_time": "2020-12-28T20:35:25.863036Z"
    }
   },
   "outputs": [
    {
     "data": {
      "text/plain": [
       "Text(0, 0.5, '#examples')"
      ]
     },
     "execution_count": 137,
     "metadata": {},
     "output_type": "execute_result"
    },
    {
     "data": {
      "image/png": "[encoded data removed]",
      "text/plain": [
       "<Figure size 1008x432 with 1 Axes>"
      ]
     },
     "metadata": {
      "needs_background": "light"
     },
     "output_type": "display_data"
    }
   ],
   "source": [
    "# import matplotlib.pyplot as plt\n",
    "plt.figure(figsize=(14,6))\n",
    "plt.hist([len(s) for s in X_train_sequences], bins=50)\n",
    "plt.title(\"Statistics of the corpus source\")\n",
    "plt.xlabel('length of sentences')\n",
    "plt.ylabel('#examples')\n",
    "#plt.show()"
   ]
  },
  {
   "cell_type": "code",
   "execution_count": 138,
   "metadata": {
    "ExecuteTime": {
     "end_time": "2020-12-28T20:35:37.393203Z",
     "start_time": "2020-12-28T20:35:37.002250Z"
    }
   },
   "outputs": [
    {
     "name": "stdout",
     "output_type": "stream",
     "text": [
      "[ 60912  15448 241902  81398  45179  52170 121140  81398 211543  17038\n",
      " 196152 136759 121140  17335  52480 121391  81398  11036 121391  11036\n",
      "  27740 121785 279479  17970  17038 238455 121391  28010 196152 120343\n",
      "  75646 107825 253749  60585  51985  17038 194039  35616 121391 135093\n",
      " 213454  81398 135093  81522 272188  27786  45179 283964  84913  11036\n",
      " 256181 251443 238503  32188  33015 121391 120335  81398  33525 121140] 60\n"
     ]
    }
   ],
   "source": [
    "# Compute the max length of text\n",
    "MAX_SEQ_LEN = 60\n",
    "\n",
    "N_FEATURES = len(vectorizer.get_feature_names()) # total of nb_features = 285064\n",
    "\n",
    "# pad sequences of the training dataset\n",
    "X_train_sequences = pad_sequences(X_train_sequences, maxlen=MAX_SEQ_LEN, value=N_FEATURES)\n",
    "\n",
    "print(X_train_sequences[0], len(X_train_sequences[0]))  # 60 indexes"
   ]
  },
  {
   "cell_type": "code",
   "execution_count": 139,
   "metadata": {
    "ExecuteTime": {
     "end_time": "2020-12-28T20:35:47.644452Z",
     "start_time": "2020-12-28T20:35:39.562042Z"
    }
   },
   "outputs": [],
   "source": [
    "# pad sequences of the testing dataset\n",
    "X_test_sequences = [to_sequence(tokenize, preprocess, word2idx, x) for x in x_test]\n",
    "X_test_sequences = pad_sequences(X_test_sequences, maxlen=MAX_SEQ_LEN, value=N_FEATURES)"
   ]
  },
  {
   "cell_type": "markdown",
   "metadata": {},
   "source": [
    "Make the embedding with spacy "
   ]
  },
  {
   "cell_type": "code",
   "execution_count": 140,
   "metadata": {
    "ExecuteTime": {
     "end_time": "2020-12-28T20:36:15.874126Z",
     "start_time": "2020-12-28T20:35:47.645422Z"
    }
   },
   "outputs": [
    {
     "name": "stdout",
     "output_type": "stream",
     "text": [
      "EMBEDDING_LEN =  300\n"
     ]
    }
   ],
   "source": [
    "# Embeddings\n",
    "EMBEDDING_LEN = 300\n",
    "\n",
    "embedding_index = np.zeros((len(vectorizer.get_feature_names()) + 1, EMBEDDING_LEN))\n",
    "\n",
    "for word, idx in word2idx.items():\n",
    "    try:\n",
    "        embedding = nlp.vocab[word].vector\n",
    "        embedding_index[idx] = embedding\n",
    "    except:\n",
    "        pass\n",
    "    \n",
    "print(\"EMBEDDING_LEN = \", EMBEDDING_LEN)"
   ]
  },
  {
   "cell_type": "code",
   "execution_count": 141,
   "metadata": {
    "ExecuteTime": {
     "end_time": "2020-12-28T20:36:15.880110Z",
     "start_time": "2020-12-28T20:36:15.875124Z"
    }
   },
   "outputs": [
    {
     "name": "stdout",
     "output_type": "stream",
     "text": [
      "\n",
      "Length of embedding index = 285065 vectors found\n"
     ]
    }
   ],
   "source": [
    "print(\"\\nLength of embedding index = {} vectors found\".format(len(embedding_index)))\n",
    "# Length of embedding index = 285065 vectors found\n",
    "\n",
    "# total of nb_features = 285064"
   ]
  },
  {
   "cell_type": "code",
   "execution_count": 51,
   "metadata": {
    "ExecuteTime": {
     "end_time": "2020-12-28T19:15:00.541665Z",
     "start_time": "2020-12-28T19:15:00.534702Z"
    },
    "scrolled": true
   },
   "outputs": [
    {
     "data": {
      "text/plain": [
       "(array([-1.03670001e-01, -9.90099981e-02, -8.29549972e-03, -4.36530001e-02,\n",
       "         3.86209995e-01,  2.07190007e-01,  5.31940022e-03, -2.12950006e-01,\n",
       "         1.25159994e-01,  2.61440009e-01, -3.98570001e-01,  1.76400006e-01,\n",
       "        -1.00280002e-01,  1.92120001e-01, -2.83479989e-01,  7.23100007e-02,\n",
       "        -3.43089998e-01,  8.05779994e-01, -5.89590013e-01,  5.73050022e-01,\n",
       "         4.21749987e-02,  2.75610000e-01, -5.62699974e-01, -4.88750011e-01,\n",
       "         3.57540011e-01, -6.52890027e-01, -2.20719993e-01, -1.51800007e-01,\n",
       "        -1.68280005e-01, -4.17189986e-01,  5.26219979e-03, -7.44469985e-02,\n",
       "         6.42900020e-02,  2.61680007e-01,  1.05710000e-01,  4.70140010e-01,\n",
       "         4.36949998e-01,  3.72359991e-01,  3.52590010e-02,  5.83750010e-01,\n",
       "         3.19189996e-01, -3.63809988e-02, -2.78109998e-01, -2.17820004e-01,\n",
       "        -1.34029999e-01,  1.53940003e-02, -3.23170006e-01,  1.19659998e-01,\n",
       "         3.42999995e-01,  1.71240002e-01, -2.82319993e-01,  2.07220003e-01,\n",
       "        -2.84779996e-01, -4.52969998e-01,  2.35489994e-01,  5.52969985e-04,\n",
       "         1.84819996e-01,  2.05650002e-01,  4.81359996e-02, -2.66130000e-01,\n",
       "        -1.15960002e-01, -1.72999993e-01, -1.85729995e-01, -4.54649981e-03,\n",
       "        -1.99599996e-01,  5.07300019e-01,  2.85499990e-01, -2.82770008e-01,\n",
       "        -9.85189974e-02, -1.77819997e-01,  1.47209996e-02, -8.64659995e-02,\n",
       "        -4.49730009e-01, -2.41349995e-01,  4.72299993e-01,  1.29810005e-01,\n",
       "        -1.82640001e-01, -3.07190001e-01, -2.64640003e-01, -7.56569982e-01,\n",
       "        -4.58059996e-01,  4.19990003e-01, -3.76709998e-01, -2.91319992e-02,\n",
       "         2.38240004e-01, -9.96249989e-02,  1.94720000e-01, -1.05840003e+00,\n",
       "         1.54269993e-01,  3.38779986e-01, -2.35550001e-01,  2.53300011e-01,\n",
       "         2.18050003e-01, -7.60720015e-01,  7.11669996e-02,  2.98130006e-01,\n",
       "         1.94810003e-01, -4.22729999e-01,  6.14689989e-03,  5.63150011e-02,\n",
       "         1.18680000e-01,  8.89509991e-02,  1.27690002e-01, -3.08169991e-01,\n",
       "         2.52029985e-01,  1.53750002e+00,  1.05549999e-01, -6.67710006e-01,\n",
       "        -3.34769994e-01,  4.43250000e-01,  5.01049995e-01, -5.65750003e-01,\n",
       "        -1.50089994e-01, -3.07920009e-01,  3.51590008e-01,  5.38909972e-01,\n",
       "         1.61599994e-01, -2.12490007e-01,  9.60099995e-02, -2.58639991e-01,\n",
       "         7.77859986e-01, -1.98789999e-01,  2.57649988e-01, -3.29039991e-01,\n",
       "        -5.53740025e-01,  1.08150005e+00,  1.52400002e-01,  1.84609994e-01,\n",
       "         3.68819982e-02,  1.53559998e-01, -7.31740007e-03,  3.10250014e-01,\n",
       "         2.59559989e-01, -4.92249988e-02,  2.63500005e-01,  4.03409988e-01,\n",
       "         1.40640005e-01, -7.25329995e-01, -2.89110005e-01,  8.61560032e-02,\n",
       "        -2.80589998e-01,  5.75209975e-01,  1.43640004e-02,  3.34329993e-01,\n",
       "        -5.36809981e-01,  4.51130003e-01, -1.65050000e-01,  3.51409987e-02,\n",
       "        -4.33429986e-01, -2.82669991e-01,  4.16289985e-01,  6.42560005e-01,\n",
       "         1.50839999e-01,  3.29549998e-01,  1.98080003e-01,  3.00619993e-02,\n",
       "         1.92110002e-01, -5.55079997e-01,  4.86629993e-01, -3.88019998e-03,\n",
       "         6.29369974e-01, -3.87710005e-01, -3.33559990e-01,  3.27430010e-01,\n",
       "        -7.56499991e-02,  4.60440010e-01,  1.43380001e-01, -6.26510009e-02,\n",
       "         1.80500001e-02,  2.70029992e-01, -1.00560002e-01, -3.03060003e-02,\n",
       "        -7.84479976e-02, -1.73209995e-01, -1.52759999e-01, -1.00890003e-01,\n",
       "         6.29179999e-02, -1.16169997e-01, -4.00680006e-01, -3.41919988e-01,\n",
       "        -5.57809994e-02, -4.14319992e-01, -3.71199995e-01, -4.05250005e-02,\n",
       "        -4.25180010e-02,  7.16650009e-01, -2.00240001e-01, -1.60009995e-01,\n",
       "         3.37400008e-04, -3.09570014e-01,  3.10360014e-01,  2.62419999e-01,\n",
       "        -1.45860001e-01, -3.33330005e-01,  4.00739998e-01, -3.97129990e-02,\n",
       "         5.04869998e-01, -3.53249997e-01, -1.12389997e-01, -5.20460010e-02,\n",
       "         2.74010003e-01,  3.38349998e-01,  3.03700000e-01,  4.23590004e-01,\n",
       "         1.79440007e-02, -1.45520002e-01,  6.37030005e-01, -1.77699998e-02,\n",
       "         1.05659999e-01, -1.60999998e-01, -6.90170005e-02,  1.18199997e-01,\n",
       "         3.90439987e-01,  2.71939993e-01,  1.05499998e-01, -3.06849986e-01,\n",
       "        -3.09370011e-01, -2.98420012e-01, -7.85170019e-01, -3.64589989e-01,\n",
       "         4.60830003e-01,  2.11579993e-01,  9.26569998e-02, -2.24910006e-01,\n",
       "        -3.06230009e-01,  3.17129999e-01, -4.43019986e-01, -3.25100005e-01,\n",
       "         1.32770002e-01,  2.16390006e-03, -5.39590009e-02, -5.33729970e-01,\n",
       "        -3.08629990e-01,  1.78529993e-01, -4.14929986e-02,  8.33259970e-02,\n",
       "         1.89510003e-01,  2.43129998e-01, -2.98280001e-01, -1.44590005e-01,\n",
       "         7.27640018e-02,  1.59899995e-01,  8.06020021e-01,  4.82639998e-01,\n",
       "        -1.16669998e-01,  2.02710003e-01, -1.79719999e-01,  7.34459981e-02,\n",
       "        -1.80669993e-01, -3.43809992e-01,  2.24509999e-01,  1.31479993e-01,\n",
       "        -2.66270012e-01,  1.40599996e-01, -6.02569997e-01,  3.45079988e-01,\n",
       "        -1.13119997e-01, -1.67339996e-01, -1.29260004e-01,  3.27280015e-01,\n",
       "        -1.88940004e-01, -1.24499999e-01, -3.59980017e-02, -3.47319990e-02,\n",
       "        -2.36540005e-01, -1.51400000e-01, -5.55690005e-02, -8.01879987e-02,\n",
       "         7.29260027e-01, -1.37860000e-01, -3.97080004e-01,  9.33739990e-02,\n",
       "         2.11170003e-01, -5.46329990e-02, -4.84329998e-01, -2.22499996e-01,\n",
       "         1.55780002e-01,  7.24390000e-02, -9.16280001e-02, -3.08970004e-01,\n",
       "         4.29459989e-01, -1.49639994e-01, -2.06169993e-01, -5.18739998e-01,\n",
       "         2.46590003e-01, -5.17840013e-02, -3.96620005e-01, -3.26860011e-01,\n",
       "         7.07729999e-03,  2.35129997e-01,  2.23250002e-01, -3.49660009e-01,\n",
       "        -9.38889980e-02, -6.05830014e-01,  4.69800010e-02, -6.03230000e-01,\n",
       "         5.03960013e-01, -2.06300005e-01,  2.81129986e-01, -2.04380006e-02]),\n",
       " 300)"
      ]
     },
     "execution_count": 51,
     "metadata": {},
     "output_type": "execute_result"
    }
   ],
   "source": [
    "embedding_index[0], len(embedding_index[0])"
   ]
  },
  {
   "cell_type": "markdown",
   "metadata": {},
   "source": [
    "## Simple LSMT"
   ]
  },
  {
   "cell_type": "code",
   "execution_count": 77,
   "metadata": {
    "ExecuteTime": {
     "end_time": "2020-12-28T19:43:14.054338Z",
     "start_time": "2020-12-28T19:43:12.724526Z"
    }
   },
   "outputs": [
    {
     "name": "stdout",
     "output_type": "stream",
     "text": [
      "_________________________________________________________________\n",
      "Layer (type)                 Output Shape              Param #   \n",
      "=================================================================\n",
      "embedding (Embedding)        (None, 60, 300)           85519500  \n",
      "_________________________________________________________________\n",
      "LSTM (LSTM)                  (None, 300)               721200    \n",
      "_________________________________________________________________\n",
      "fc_output (Dense)            (None, 14)                4214      \n",
      "=================================================================\n",
      "Total params: 86,244,914\n",
      "Trainable params: 725,414\n",
      "Non-trainable params: 85,519,500\n",
      "_________________________________________________________________\n",
      "None\n"
     ]
    }
   ],
   "source": [
    "# CACH 1 : with Sequential()\n",
    "model = Sequential()\n",
    "model.add(Embedding(input_dim=len(vectorizer.get_feature_names()) + 1,\n",
    "                   output_dim=EMBEDDING_LEN,\n",
    "                   weights=[embedding_index],\n",
    "                    input_length=MAX_SEQ_LEN,\n",
    "                    trainable=False, name='embedding'  # trainable=False or True\n",
    "                   ))\n",
    "model.add(LSTM(300, dropout=0.2, name='LSTM'))\n",
    "model.add(Dense(len(set(y)), activation='softmax', name='fc_output'))\n",
    "\n",
    "print(model.summary())"
   ]
  },
  {
   "cell_type": "code",
   "execution_count": 78,
   "metadata": {
    "ExecuteTime": {
     "end_time": "2020-12-28T17:13:56.540556Z",
     "start_time": "2020-12-28T17:13:56.502632Z"
    }
   },
   "outputs": [],
   "source": [
    "# compile the model\n",
    "model.compile(loss='categorical_crossentropy', optimizer='adam', metrics=['accuracy'])"
   ]
  },
  {
   "cell_type": "code",
   "execution_count": 79,
   "metadata": {
    "ExecuteTime": {
     "end_time": "2020-12-28T17:18:45.894582Z",
     "start_time": "2020-12-28T17:13:57.312520Z"
    },
    "scrolled": true
   },
   "outputs": [
    {
     "name": "stdout",
     "output_type": "stream",
     "text": [
      "WARNING:tensorflow:From C:\\Users\\letan\\Anaconda3\\lib\\site-packages\\tensorflow\\python\\ops\\math_ops.py:3066: to_int32 (from tensorflow.python.ops.math_ops) is deprecated and will be removed in a future version.\n",
      "Instructions for updating:\n",
      "Use tf.cast instead.\n",
      "Train on 23351 samples, validate on 2595 samples\n",
      "Epoch 1/20\n",
      " - 16s - loss: 1.8442 - acc: 0.3821 - val_loss: 1.7672 - val_acc: 0.4008\n",
      "Epoch 2/20\n",
      " - 14s - loss: 1.7553 - acc: 0.4100 - val_loss: 1.7361 - val_acc: 0.4154\n",
      "Epoch 3/20\n",
      " - 14s - loss: 1.7108 - acc: 0.4164 - val_loss: 1.7280 - val_acc: 0.4119\n",
      "Epoch 4/20\n",
      " - 14s - loss: 1.6707 - acc: 0.4285 - val_loss: 1.7029 - val_acc: 0.4293\n",
      "Epoch 5/20\n",
      " - 14s - loss: 1.6343 - acc: 0.4353 - val_loss: 1.7092 - val_acc: 0.4355\n",
      "Epoch 6/20\n",
      " - 14s - loss: 1.5911 - acc: 0.4514 - val_loss: 1.7039 - val_acc: 0.4277\n",
      "Epoch 7/20\n",
      " - 14s - loss: 1.5452 - acc: 0.4606 - val_loss: 1.7177 - val_acc: 0.4197\n",
      "Epoch 8/20\n",
      " - 14s - loss: 1.4822 - acc: 0.4804 - val_loss: 1.7515 - val_acc: 0.4158\n",
      "Epoch 9/20\n",
      " - 14s - loss: 1.4078 - acc: 0.5038 - val_loss: 1.7728 - val_acc: 0.4181\n",
      "Epoch 10/20\n",
      " - 14s - loss: 1.3216 - acc: 0.5344 - val_loss: 1.8345 - val_acc: 0.3973\n",
      "Epoch 11/20\n",
      " - 14s - loss: 1.2150 - acc: 0.5702 - val_loss: 1.8809 - val_acc: 0.3896\n",
      "Epoch 12/20\n",
      " - 14s - loss: 1.0888 - acc: 0.6207 - val_loss: 1.9848 - val_acc: 0.3715\n",
      "Epoch 13/20\n",
      " - 14s - loss: 0.9626 - acc: 0.6613 - val_loss: 2.1081 - val_acc: 0.3445\n",
      "Epoch 14/20\n",
      " - 14s - loss: 0.8384 - acc: 0.7118 - val_loss: 2.2098 - val_acc: 0.3507\n",
      "Epoch 15/20\n",
      " - 14s - loss: 0.7103 - acc: 0.7611 - val_loss: 2.3083 - val_acc: 0.3468\n",
      "Epoch 16/20\n",
      " - 14s - loss: 0.5981 - acc: 0.8019 - val_loss: 2.4707 - val_acc: 0.3360\n",
      "Epoch 17/20\n",
      " - 14s - loss: 0.4981 - acc: 0.8392 - val_loss: 2.6068 - val_acc: 0.3418\n",
      "Epoch 18/20\n",
      " - 14s - loss: 0.4131 - acc: 0.8687 - val_loss: 2.6621 - val_acc: 0.3283\n",
      "Epoch 19/20\n",
      " - 14s - loss: 0.3448 - acc: 0.8939 - val_loss: 2.8611 - val_acc: 0.3422\n",
      "Epoch 20/20\n",
      " - 15s - loss: 0.2978 - acc: 0.9108 - val_loss: 2.9505 - val_acc: 0.3399\n"
     ]
    }
   ],
   "source": [
    "# training the model\n",
    "history = model.fit(X_train_sequences, y_train, validation_split=0.1, epochs=20, batch_size=128, verbose=2)"
   ]
  },
  {
   "cell_type": "code",
   "execution_count": 58,
   "metadata": {
    "ExecuteTime": {
     "end_time": "2020-12-28T19:17:27.265478Z",
     "start_time": "2020-12-28T19:17:27.262460Z"
    }
   },
   "outputs": [],
   "source": [
    "path_model_keras = 'models/LSTM.model'"
   ]
  },
  {
   "cell_type": "code",
   "execution_count": 94,
   "metadata": {
    "ExecuteTime": {
     "end_time": "2020-12-28T18:53:55.817817Z",
     "start_time": "2020-12-28T18:53:26.536168Z"
    }
   },
   "outputs": [],
   "source": [
    "# save the model\n",
    "model.save(path_model_keras)"
   ]
  },
  {
   "cell_type": "code",
   "execution_count": 79,
   "metadata": {
    "ExecuteTime": {
     "end_time": "2020-12-28T19:43:52.563058Z",
     "start_time": "2020-12-28T19:43:50.038489Z"
    }
   },
   "outputs": [],
   "source": [
    "# reload the model\n",
    "from tensorflow import keras\n",
    "model = keras.models.load_model(path_model_keras)"
   ]
  },
  {
   "cell_type": "code",
   "execution_count": 78,
   "metadata": {
    "ExecuteTime": {
     "end_time": "2020-12-28T19:43:27.378319Z",
     "start_time": "2020-12-28T19:43:27.236196Z"
    }
   },
   "outputs": [],
   "source": [
    "# draw model \n",
    "plot_model(model, to_file='models/model_LSTM.png', show_shapes=True)"
   ]
  },
  {
   "cell_type": "markdown",
   "metadata": {},
   "source": [
    "### Evaluation"
   ]
  },
  {
   "cell_type": "code",
   "execution_count": 80,
   "metadata": {
    "ExecuteTime": {
     "end_time": "2020-12-28T19:44:06.456703Z",
     "start_time": "2020-12-28T19:43:57.492798Z"
    }
   },
   "outputs": [
    {
     "name": "stdout",
     "output_type": "stream",
     "text": [
      " - 9s - loss: 3.0056 - acc: 0.3415\n"
     ]
    }
   ],
   "source": [
    "# scores = model.evaluate(X_test_sequences, y_test, verbose=2)\n",
    "score, acc = model.evaluate(X_test_sequences, y_test, verbose=2)\n",
    "\n",
    "# print(\"Accuracy: %s\" % scores[1])\n",
    "\n",
    "# before: Accuracy: 0.3522534994799584\n",
    "# after: Accuracy: 0.341452135057686"
   ]
  },
  {
   "cell_type": "code",
   "execution_count": 87,
   "metadata": {
    "ExecuteTime": {
     "end_time": "2020-12-28T19:47:57.436003Z",
     "start_time": "2020-12-28T19:47:57.429021Z"
    }
   },
   "outputs": [
    {
     "name": "stdout",
     "output_type": "stream",
     "text": [
      "Accuracy: 0.34145212\n"
     ]
    },
    {
     "data": {
      "text/plain": [
       "[('LSTM Simple - Testing', 0.34145212)]"
      ]
     },
     "execution_count": 87,
     "metadata": {},
     "output_type": "execute_result"
    }
   ],
   "source": [
    "# for model comparaison\n",
    "list_result = []\n",
    "print(\"Accuracy:\", acc)  \n",
    "list_result.append((\"LSTM Simple - Testing\", acc))\n",
    "list_result"
   ]
  },
  {
   "cell_type": "code",
   "execution_count": 81,
   "metadata": {
    "ExecuteTime": {
     "end_time": "2020-12-28T19:44:14.571621Z",
     "start_time": "2020-12-28T19:44:14.564655Z"
    }
   },
   "outputs": [
    {
     "name": "stdout",
     "output_type": "stream",
     "text": [
      "Test set\n",
      "test loss score =  3.0055620054333496\n",
      "test accuracy =  0.34145212\n"
     ]
    }
   ],
   "source": [
    "print('Test set')\n",
    "print('test loss score = ', score)\n",
    "print('test accuracy = ', acc)"
   ]
  },
  {
   "cell_type": "code",
   "execution_count": 82,
   "metadata": {
    "ExecuteTime": {
     "end_time": "2020-12-28T19:44:49.335507Z",
     "start_time": "2020-12-28T19:44:17.885180Z"
    }
   },
   "outputs": [
    {
     "name": "stdout",
     "output_type": "stream",
     "text": [
      " - 31s - loss: 0.3819 - acc: 0.9220\n"
     ]
    }
   ],
   "source": [
    "score2, acc2 = model.evaluate(X_train_sequences, y_train, verbose=2)"
   ]
  },
  {
   "cell_type": "code",
   "execution_count": 88,
   "metadata": {
    "ExecuteTime": {
     "end_time": "2020-12-28T19:48:15.777582Z",
     "start_time": "2020-12-28T19:48:15.773593Z"
    }
   },
   "outputs": [
    {
     "data": {
      "text/plain": [
       "[('LSTM Simple - Testing', 0.34145212), ('LSTM Simple - Training', 0.9220304)]"
      ]
     },
     "execution_count": 88,
     "metadata": {},
     "output_type": "execute_result"
    }
   ],
   "source": [
    "# Training\n",
    "list_result.append((\"LSTM Simple - Training\", acc2))\n",
    "list_result"
   ]
  },
  {
   "cell_type": "code",
   "execution_count": 83,
   "metadata": {
    "ExecuteTime": {
     "end_time": "2020-12-28T19:44:49.344549Z",
     "start_time": "2020-12-28T19:44:49.336504Z"
    }
   },
   "outputs": [
    {
     "name": "stdout",
     "output_type": "stream",
     "text": [
      "Training set\n",
      "test loss score =  0.38190102062623776\n",
      "test accuracy =  0.9220304\n"
     ]
    }
   ],
   "source": [
    "print('Training set')\n",
    "print('test loss score = ', score2)\n",
    "print('test accuracy = ', acc2)"
   ]
  },
  {
   "cell_type": "markdown",
   "metadata": {},
   "source": [
    "### Draw graphic of performance"
   ]
  },
  {
   "cell_type": "code",
   "execution_count": 84,
   "metadata": {
    "ExecuteTime": {
     "end_time": "2020-12-28T19:44:57.919325Z",
     "start_time": "2020-12-28T19:44:57.902371Z"
    },
    "collapsed": true
   },
   "outputs": [
    {
     "ename": "NameError",
     "evalue": "name 'history' is not defined",
     "output_type": "error",
     "traceback": [
      "\u001b[1;31m---------------------------------------------------------------------------\u001b[0m",
      "\u001b[1;31mNameError\u001b[0m                                 Traceback (most recent call last)",
      "\u001b[1;32m<ipython-input-84-c65f67680749>\u001b[0m in \u001b[0;36m<module>\u001b[1;34m\u001b[0m\n\u001b[1;32m----> 1\u001b[1;33m \u001b[0mtrain_result\u001b[0m \u001b[1;33m=\u001b[0m \u001b[0mhistory\u001b[0m\u001b[1;33m.\u001b[0m\u001b[0mhistory\u001b[0m\u001b[1;33m\u001b[0m\u001b[1;33m\u001b[0m\u001b[0m\n\u001b[0m\u001b[0;32m      2\u001b[0m \u001b[1;33m\u001b[0m\u001b[0m\n\u001b[0;32m      3\u001b[0m \u001b[0mprint\u001b[0m\u001b[1;33m(\u001b[0m\u001b[0mtrain_result\u001b[0m\u001b[1;33m.\u001b[0m\u001b[0mkeys\u001b[0m\u001b[1;33m(\u001b[0m\u001b[1;33m)\u001b[0m\u001b[1;33m)\u001b[0m\u001b[1;33m\u001b[0m\u001b[1;33m\u001b[0m\u001b[0m\n\u001b[0;32m      4\u001b[0m \u001b[1;33m\u001b[0m\u001b[0m\n\u001b[0;32m      5\u001b[0m \u001b[1;31m#  \"Accuracy\"\u001b[0m\u001b[1;33m\u001b[0m\u001b[1;33m\u001b[0m\u001b[1;33m\u001b[0m\u001b[0m\n",
      "\u001b[1;31mNameError\u001b[0m: name 'history' is not defined"
     ]
    }
   ],
   "source": [
    "train_result = history.history\n",
    "\n",
    "print(train_result.keys())\n",
    "\n",
    "#  \"Accuracy\"\n",
    "plt.figure(figsize=(14,8))\n",
    "plt.plot(train_result['acc'])\n",
    "plt.plot(train_result['val_acc'])\n",
    "plt.title('model accuracy')\n",
    "plt.ylabel('accuracy')\n",
    "plt.xlabel('epoch')\n",
    "plt.legend(['train', 'val'], loc='upper left')\n",
    "plt.show()\n",
    "\n",
    "# \"Loss\"\n",
    "plt.figure(figsize=(14,8))\n",
    "plt.plot(train_result['loss'])\n",
    "plt.plot(train_result['val_loss'])\n",
    "plt.title('model loss')\n",
    "plt.ylabel('loss')\n",
    "plt.xlabel('epoch')\n",
    "plt.legend(['train', 'val'], loc='upper left')\n",
    "plt.show()"
   ]
  },
  {
   "cell_type": "markdown",
   "metadata": {},
   "source": [
    "## Model LSTM and concatenate new columns"
   ]
  },
  {
   "cell_type": "code",
   "execution_count": 95,
   "metadata": {
    "ExecuteTime": {
     "end_time": "2020-12-28T20:11:39.091083Z",
     "start_time": "2020-12-28T20:11:37.179766Z"
    },
    "scrolled": true
   },
   "outputs": [
    {
     "name": "stdout",
     "output_type": "stream",
     "text": [
      "__________________________________________________________________________________________________\n",
      "Layer (type)                    Output Shape         Param #     Connected to                     \n",
      "==================================================================================================\n",
      "text (InputLayer)               (None, 60)           0                                            \n",
      "__________________________________________________________________________________________________\n",
      "embedding_3 (Embedding)         (None, 60, 300)      85519500    text[0][0]                       \n",
      "__________________________________________________________________________________________________\n",
      "lstm_2 (LSTM)                   (None, 300)          721200      embedding_3[0][0]                \n",
      "__________________________________________________________________________________________________\n",
      "meta (InputLayer)               (None, 3)            0                                            \n",
      "__________________________________________________________________________________________________\n",
      "concatenate_2 (Concatenate)     (None, 303)          0           lstm_2[0][0]                     \n",
      "                                                                 meta[0][0]                       \n",
      "__________________________________________________________________________________________________\n",
      "dense_3 (Dense)                 (None, 150)          45600       concatenate_2[0][0]              \n",
      "__________________________________________________________________________________________________\n",
      "dropout_2 (Dropout)             (None, 150)          0           dense_3[0][0]                    \n",
      "__________________________________________________________________________________________________\n",
      "batch_normalization_2 (BatchNor (None, 150)          600         dropout_2[0][0]                  \n",
      "__________________________________________________________________________________________________\n",
      "dense_4 (Dense)                 (None, 14)           2114        batch_normalization_2[0][0]      \n",
      "==================================================================================================\n",
      "Total params: 86,289,014\n",
      "Trainable params: 769,214\n",
      "Non-trainable params: 85,519,800\n",
      "__________________________________________________________________________________________________\n",
      "None\n"
     ]
    }
   ],
   "source": [
    "from keras.models import Model\n",
    "from keras.layers import Dense,LSTM,concatenate,Input,Flatten,BatchNormalization, GRU\n",
    "\n",
    "text_data = Input(shape=(MAX_SEQ_LEN,), name='text')\n",
    "meta_data = Input(shape=(3,), name = 'meta')\n",
    "x=(Embedding(len(vectorizer.get_feature_names()) + 1,\n",
    "                    EMBEDDING_LEN,  # Embedding size\n",
    "                    weights=[embedding_index],\n",
    "                    input_length=MAX_SEQ_LEN,\n",
    "                    trainable=False))(text_data)\n",
    "x2 = ((LSTM(300, dropout=0.2, recurrent_dropout=0.2)))(x)\n",
    "x4 = concatenate([x2, meta_data])\n",
    "x5 = Dense(150, activation='relu')(x4)\n",
    "x6 = Dropout(0.25)(x5)\n",
    "x7 = BatchNormalization()(x6)\n",
    "out=(Dense(len(set(y)), activation=\"softmax\"))(x7)\n",
    "model2 = Model(inputs=[text_data, meta_data], outputs=out)\n",
    "model2.compile(loss='categorical_crossentropy', optimizer='adam', metrics=['accuracy'])\n",
    "print(model2.summary())"
   ]
  },
  {
   "cell_type": "code",
   "execution_count": 97,
   "metadata": {
    "ExecuteTime": {
     "end_time": "2020-12-28T20:11:55.148165Z",
     "start_time": "2020-12-28T20:11:54.971466Z"
    }
   },
   "outputs": [],
   "source": [
    "# draw model \n",
    "# from keras.utils import plot_model\n",
    "plot_model(model2, to_file='models/model_LSTM_with_meta_data.png', show_shapes=True)"
   ]
  },
  {
   "cell_type": "markdown",
   "metadata": {},
   "source": [
    "### Fit to the model with meta-data"
   ]
  },
  {
   "cell_type": "code",
   "execution_count": 143,
   "metadata": {
    "ExecuteTime": {
     "end_time": "2020-12-28T20:36:40.363123Z",
     "start_time": "2020-12-28T20:36:40.354147Z"
    }
   },
   "outputs": [
    {
     "data": {
      "text/html": [
       "<div>\n",
       "<style scoped>\n",
       "    .dataframe tbody tr th:only-of-type {\n",
       "        vertical-align: middle;\n",
       "    }\n",
       "\n",
       "    .dataframe tbody tr th {\n",
       "        vertical-align: top;\n",
       "    }\n",
       "\n",
       "    .dataframe thead th {\n",
       "        text-align: right;\n",
       "    }\n",
       "</style>\n",
       "<table border=\"1\" class=\"dataframe\">\n",
       "  <thead>\n",
       "    <tr style=\"text-align: right;\">\n",
       "      <th></th>\n",
       "      <th>Content</th>\n",
       "      <th>StatusResolution</th>\n",
       "      <th>polarity</th>\n",
       "      <th>subjectivity</th>\n",
       "      <th>len_text</th>\n",
       "    </tr>\n",
       "  </thead>\n",
       "  <tbody>\n",
       "    <tr>\n",
       "      <th>0</th>\n",
       "      <td>Newsgroup postings dont linkify newsgroup head...</td>\n",
       "      <td>RESOLVED_FIXED</td>\n",
       "      <td>0.070000</td>\n",
       "      <td>0.335000</td>\n",
       "      <td>0.256983</td>\n",
       "    </tr>\n",
       "    <tr>\n",
       "      <th>1</th>\n",
       "      <td>mail conduit for the palm devices At present; ...</td>\n",
       "      <td>RESOLVED_WONTFIX</td>\n",
       "      <td>0.233333</td>\n",
       "      <td>0.133333</td>\n",
       "      <td>0.395833</td>\n",
       "    </tr>\n",
       "    <tr>\n",
       "      <th>2</th>\n",
       "      <td>User notification of no new mail needed in sta...</td>\n",
       "      <td>RESOLVED_WORKSFORME</td>\n",
       "      <td>0.116942</td>\n",
       "      <td>0.421488</td>\n",
       "      <td>0.402985</td>\n",
       "    </tr>\n",
       "    <tr>\n",
       "      <th>3</th>\n",
       "      <td>save multiple messages as individual files in ...</td>\n",
       "      <td>RESOLVED_FIXED</td>\n",
       "      <td>0.136224</td>\n",
       "      <td>0.295408</td>\n",
       "      <td>0.311475</td>\n",
       "    </tr>\n",
       "    <tr>\n",
       "      <th>5</th>\n",
       "      <td>when sending mail; should first check no recip...</td>\n",
       "      <td>RESOLVED_FIXED</td>\n",
       "      <td>0.011448</td>\n",
       "      <td>0.370875</td>\n",
       "      <td>0.369565</td>\n",
       "    </tr>\n",
       "  </tbody>\n",
       "</table>\n",
       "</div>"
      ],
      "text/plain": [
       "                                             Content     StatusResolution  \\\n",
       "0  Newsgroup postings dont linkify newsgroup head...       RESOLVED_FIXED   \n",
       "1  mail conduit for the palm devices At present; ...     RESOLVED_WONTFIX   \n",
       "2  User notification of no new mail needed in sta...  RESOLVED_WORKSFORME   \n",
       "3  save multiple messages as individual files in ...       RESOLVED_FIXED   \n",
       "5  when sending mail; should first check no recip...       RESOLVED_FIXED   \n",
       "\n",
       "   polarity  subjectivity  len_text  \n",
       "0  0.070000      0.335000  0.256983  \n",
       "1  0.233333      0.133333  0.395833  \n",
       "2  0.116942      0.421488  0.402985  \n",
       "3  0.136224      0.295408  0.311475  \n",
       "5  0.011448      0.370875  0.369565  "
      ]
     },
     "execution_count": 143,
     "metadata": {},
     "output_type": "execute_result"
    }
   ],
   "source": [
    "df.head()"
   ]
  },
  {
   "cell_type": "code",
   "execution_count": 149,
   "metadata": {
    "ExecuteTime": {
     "end_time": "2020-12-28T20:41:14.878501Z",
     "start_time": "2020-12-28T20:41:14.874473Z"
    }
   },
   "outputs": [
    {
     "data": {
      "text/plain": [
       "Index(['Content', 'StatusResolution', 'polarity', 'subjectivity', 'len_text'], dtype='object')"
      ]
     },
     "execution_count": 149,
     "metadata": {},
     "output_type": "execute_result"
    }
   ],
   "source": [
    "df.columns"
   ]
  },
  {
   "cell_type": "code",
   "execution_count": 154,
   "metadata": {
    "ExecuteTime": {
     "end_time": "2020-12-28T20:44:08.653571Z",
     "start_time": "2020-12-28T20:44:08.642601Z"
    }
   },
   "outputs": [],
   "source": [
    "# iloc: khong chay, loc: chay duoc !!!\n",
    "df_cat_train = df.loc[x_train.index][['polarity', 'subjectivity', 'len_text']]\n",
    "df_cat_test = df.loc[x_test.index][['polarity', 'subjectivity', 'len_text']]"
   ]
  },
  {
   "cell_type": "code",
   "execution_count": 152,
   "metadata": {
    "ExecuteTime": {
     "end_time": "2020-12-28T20:42:23.110070Z",
     "start_time": "2020-12-28T20:42:23.106080Z"
    }
   },
   "outputs": [
    {
     "data": {
      "text/plain": [
       "(25946, 6487)"
      ]
     },
     "execution_count": 152,
     "metadata": {},
     "output_type": "execute_result"
    }
   ],
   "source": [
    "len(x_train.index), len(x_test.index)  # (25946, 6487)"
   ]
  },
  {
   "cell_type": "code",
   "execution_count": 153,
   "metadata": {
    "ExecuteTime": {
     "end_time": "2020-12-28T20:43:57.079364Z",
     "start_time": "2020-12-28T20:43:57.074386Z"
    }
   },
   "outputs": [
    {
     "data": {
      "text/plain": [
       "pandas.core.frame.DataFrame"
      ]
     },
     "execution_count": 153,
     "metadata": {},
     "output_type": "execute_result"
    }
   ],
   "source": [
    "type(df)"
   ]
  },
  {
   "cell_type": "code",
   "execution_count": 155,
   "metadata": {
    "ExecuteTime": {
     "end_time": "2020-12-28T20:44:26.022616Z",
     "start_time": "2020-12-28T20:44:26.018604Z"
    }
   },
   "outputs": [
    {
     "data": {
      "text/plain": [
       "((6487, 3), (25946, 3))"
      ]
     },
     "execution_count": 155,
     "metadata": {},
     "output_type": "execute_result"
    }
   ],
   "source": [
    "df_cat_test.shape, df_cat_train.shape"
   ]
  },
  {
   "cell_type": "code",
   "execution_count": 157,
   "metadata": {
    "ExecuteTime": {
     "end_time": "2020-12-28T20:51:40.627312Z",
     "start_time": "2020-12-28T20:46:42.962688Z"
    }
   },
   "outputs": [
    {
     "name": "stdout",
     "output_type": "stream",
     "text": [
      "Train on 23351 samples, validate on 2595 samples\n",
      "Epoch 1/20\n",
      " - 15s - loss: 1.9541 - acc: 0.3656 - val_loss: 1.8434 - val_acc: 0.3873\n",
      "Epoch 2/20\n",
      " - 15s - loss: 1.7939 - acc: 0.3990 - val_loss: 1.7979 - val_acc: 0.3726\n",
      "Epoch 3/20\n",
      " - 15s - loss: 1.7624 - acc: 0.4064 - val_loss: 1.7261 - val_acc: 0.4181\n",
      "Epoch 4/20\n",
      " - 15s - loss: 1.7290 - acc: 0.4165 - val_loss: 1.7164 - val_acc: 0.4304\n",
      "Epoch 5/20\n",
      " - 15s - loss: 1.7108 - acc: 0.4226 - val_loss: 1.7214 - val_acc: 0.4069\n",
      "Epoch 6/20\n",
      " - 15s - loss: 1.6891 - acc: 0.4290 - val_loss: 1.6944 - val_acc: 0.4401\n",
      "Epoch 7/20\n",
      " - 15s - loss: 1.6663 - acc: 0.4321 - val_loss: 1.7037 - val_acc: 0.4231\n",
      "Epoch 8/20\n",
      " - 15s - loss: 1.6527 - acc: 0.4390 - val_loss: 1.7128 - val_acc: 0.4166\n",
      "Epoch 9/20\n",
      " - 15s - loss: 1.6354 - acc: 0.4404 - val_loss: 1.7105 - val_acc: 0.4258\n",
      "Epoch 10/20\n",
      " - 15s - loss: 1.6110 - acc: 0.4493 - val_loss: 1.7033 - val_acc: 0.4285\n",
      "Epoch 11/20\n",
      " - 15s - loss: 1.5874 - acc: 0.4542 - val_loss: 1.7358 - val_acc: 0.4197\n",
      "Epoch 12/20\n",
      " - 15s - loss: 1.5560 - acc: 0.4633 - val_loss: 1.7273 - val_acc: 0.4131\n",
      "Epoch 13/20\n",
      " - 15s - loss: 1.5330 - acc: 0.4694 - val_loss: 1.7481 - val_acc: 0.4243\n",
      "Epoch 14/20\n",
      " - 15s - loss: 1.4952 - acc: 0.4786 - val_loss: 1.7346 - val_acc: 0.4104\n",
      "Epoch 15/20\n",
      " - 15s - loss: 1.4471 - acc: 0.4941 - val_loss: 1.7896 - val_acc: 0.4177\n",
      "Epoch 16/20\n",
      " - 15s - loss: 1.4103 - acc: 0.5033 - val_loss: 1.7650 - val_acc: 0.4131\n",
      "Epoch 17/20\n",
      " - 15s - loss: 1.3564 - acc: 0.5207 - val_loss: 1.8489 - val_acc: 0.3992\n",
      "Epoch 18/20\n",
      " - 15s - loss: 1.3052 - acc: 0.5386 - val_loss: 1.8768 - val_acc: 0.3942\n",
      "Epoch 19/20\n",
      " - 15s - loss: 1.2416 - acc: 0.5607 - val_loss: 1.9148 - val_acc: 0.3958\n",
      "Epoch 20/20\n",
      " - 15s - loss: 1.1809 - acc: 0.5798 - val_loss: 1.9513 - val_acc: 0.3946\n"
     ]
    }
   ],
   "source": [
    "# training the model\n",
    "history2 = model2.fit([X_train_sequences, df_cat_train], y_train, \n",
    "                     validation_split=0.1, epochs=20, batch_size=128, verbose=2)"
   ]
  },
  {
   "cell_type": "markdown",
   "metadata": {},
   "source": [
    "### Evaluation"
   ]
  },
  {
   "cell_type": "code",
   "execution_count": 158,
   "metadata": {
    "ExecuteTime": {
     "end_time": "2020-12-28T20:54:03.757821Z",
     "start_time": "2020-12-28T20:53:57.376842Z"
    }
   },
   "outputs": [
    {
     "name": "stdout",
     "output_type": "stream",
     "text": [
      "Accuracy: 0.39525204256500834\n"
     ]
    },
    {
     "data": {
      "text/plain": [
       "[('LSTM Simple - Testing', 0.34145212),\n",
       " ('LSTM Simple - Training', 0.9220304),\n",
       " ('LSTM with metadata - Testing', 0.39525204256500834)]"
      ]
     },
     "execution_count": 158,
     "metadata": {},
     "output_type": "execute_result"
    }
   ],
   "source": [
    "score2, acc2 = model2.evaluate([X_test_sequences, df_cat_test], y_test, verbose=2)\n",
    "\n",
    "print(\"Accuracy:\", acc2)  \n",
    "list_result.append((\"LSTM with metadata - Testing\", acc2))\n",
    "list_result"
   ]
  },
  {
   "cell_type": "code",
   "execution_count": 176,
   "metadata": {
    "ExecuteTime": {
     "end_time": "2020-12-28T21:53:59.798252Z",
     "start_time": "2020-12-28T21:53:59.513998Z"
    }
   },
   "outputs": [
    {
     "name": "stdout",
     "output_type": "stream",
     "text": [
      "dict_keys(['val_loss', 'val_acc', 'loss', 'acc'])\n"
     ]
    },
    {
     "data": {
      "image/png": "[encoded data removed]",
      "text/plain": [
       "<Figure size 1008x576 with 1 Axes>"
      ]
     },
     "metadata": {
      "needs_background": "light"
     },
     "output_type": "display_data"
    },
    {
     "data": {
      "image/png": "[encoded data removed]",
      "text/plain": [
       "<Figure size 1008x576 with 1 Axes>"
      ]
     },
     "metadata": {
      "needs_background": "light"
     },
     "output_type": "display_data"
    }
   ],
   "source": [
    "train_result = history2.history\n",
    "\n",
    "print(train_result.keys())\n",
    "\n",
    "#  \"Accuracy\"\n",
    "plt.figure(figsize=(14,8))\n",
    "plt.plot(train_result['acc'])\n",
    "plt.plot(train_result['val_acc'])\n",
    "plt.title('model accuracy')\n",
    "plt.ylabel('accuracy')\n",
    "plt.xlabel('epoch')\n",
    "plt.legend(['train', 'val'], loc='upper left')\n",
    "plt.show()\n",
    "\n",
    "# \"Loss\"\n",
    "plt.figure(figsize=(14,8))\n",
    "plt.plot(train_result['loss'])\n",
    "plt.plot(train_result['val_loss'])\n",
    "plt.title('model loss')\n",
    "plt.ylabel('loss')\n",
    "plt.xlabel('epoch')\n",
    "plt.legend(['train', 'val'], loc='upper left')\n",
    "plt.show()"
   ]
  },
  {
   "cell_type": "markdown",
   "metadata": {},
   "source": [
    "## Model with bi-GRU "
   ]
  },
  {
   "cell_type": "markdown",
   "metadata": {},
   "source": [
    "### Design the architecture"
   ]
  },
  {
   "cell_type": "code",
   "execution_count": 161,
   "metadata": {
    "ExecuteTime": {
     "end_time": "2020-12-28T20:55:10.986126Z",
     "start_time": "2020-12-28T20:55:08.857690Z"
    }
   },
   "outputs": [
    {
     "name": "stdout",
     "output_type": "stream",
     "text": [
      "__________________________________________________________________________________________________\n",
      "Layer (type)                    Output Shape         Param #     Connected to                     \n",
      "==================================================================================================\n",
      "text (InputLayer)               (None, 60)           0                                            \n",
      "__________________________________________________________________________________________________\n",
      "embedding_5 (Embedding)         (None, 60, 300)      85519500    text[0][0]                       \n",
      "__________________________________________________________________________________________________\n",
      "gru_3 (GRU)                     (None, 60, 128)      164736      embedding_5[0][0]                \n",
      "__________________________________________________________________________________________________\n",
      "gru_4 (GRU)                     (None, 128)          98688       gru_3[0][0]                      \n",
      "__________________________________________________________________________________________________\n",
      "meta (InputLayer)               (None, 3)            0                                            \n",
      "__________________________________________________________________________________________________\n",
      "concatenate_4 (Concatenate)     (None, 131)          0           gru_4[0][0]                      \n",
      "                                                                 meta[0][0]                       \n",
      "__________________________________________________________________________________________________\n",
      "dense_7 (Dense)                 (None, 150)          19800       concatenate_4[0][0]              \n",
      "__________________________________________________________________________________________________\n",
      "dropout_4 (Dropout)             (None, 150)          0           dense_7[0][0]                    \n",
      "__________________________________________________________________________________________________\n",
      "batch_normalization_4 (BatchNor (None, 150)          600         dropout_4[0][0]                  \n",
      "__________________________________________________________________________________________________\n",
      "dense_8 (Dense)                 (None, 14)           2114        batch_normalization_4[0][0]      \n",
      "==================================================================================================\n",
      "Total params: 85,805,438\n",
      "Trainable params: 285,638\n",
      "Non-trainable params: 85,519,800\n",
      "__________________________________________________________________________________________________\n",
      "None\n"
     ]
    }
   ],
   "source": [
    "text_data = Input(shape=(MAX_SEQ_LEN,), name='text')\n",
    "meta_data = Input(shape=(3,), name = 'meta')\n",
    "x=(Embedding(len(vectorizer.get_feature_names()) + 1,\n",
    "                    EMBEDDING_LEN,  # Embedding size\n",
    "                    weights=[embedding_index],\n",
    "                    input_length=MAX_SEQ_LEN,\n",
    "                    trainable=False))(text_data)\n",
    "x2 = ((GRU(128, dropout=0.2, recurrent_dropout=0.2,  return_sequences=True)))(x)\n",
    "x3 = ((GRU(128, dropout=0.2, recurrent_dropout=0.2)))(x2)\n",
    "x4 = concatenate([x3, meta_data])\n",
    "x5 = Dense(150, activation='relu')(x4)\n",
    "x6 = Dropout(0.25)(x5)\n",
    "x7 = BatchNormalization()(x6)\n",
    "out=(Dense(len(set(y)), activation=\"softmax\"))(x7)\n",
    "model3 = Model(inputs=[text_data, meta_data], outputs=out)\n",
    "model3.compile(loss='categorical_crossentropy', optimizer='adam', metrics=['accuracy'])\n",
    "print(model3.summary())"
   ]
  },
  {
   "cell_type": "code",
   "execution_count": 180,
   "metadata": {
    "ExecuteTime": {
     "end_time": "2020-12-28T21:56:26.457024Z",
     "start_time": "2020-12-28T21:56:26.206497Z"
    }
   },
   "outputs": [],
   "source": [
    "# draw model \n",
    "plot_model(model3, to_file='models/model_biGRU.png', show_shapes=True)"
   ]
  },
  {
   "cell_type": "markdown",
   "metadata": {},
   "source": [
    "### Training"
   ]
  },
  {
   "cell_type": "code",
   "execution_count": 162,
   "metadata": {
    "ExecuteTime": {
     "end_time": "2020-12-28T21:03:42.778933Z",
     "start_time": "2020-12-28T20:55:13.793454Z"
    }
   },
   "outputs": [
    {
     "name": "stdout",
     "output_type": "stream",
     "text": [
      "Train on 23351 samples, validate on 2595 samples\n",
      "Epoch 1/20\n",
      " - 28s - loss: 2.3249 - acc: 0.2753 - val_loss: 1.9030 - val_acc: 0.3699\n",
      "Epoch 2/20\n",
      " - 25s - loss: 1.8433 - acc: 0.3807 - val_loss: 1.7623 - val_acc: 0.4015\n",
      "Epoch 3/20\n",
      " - 26s - loss: 1.7811 - acc: 0.4030 - val_loss: 1.7338 - val_acc: 0.4158\n",
      "Epoch 4/20\n",
      " - 25s - loss: 1.7467 - acc: 0.4126 - val_loss: 1.7233 - val_acc: 0.4185\n",
      "Epoch 5/20\n",
      " - 26s - loss: 1.7250 - acc: 0.4196 - val_loss: 1.7191 - val_acc: 0.4197\n",
      "Epoch 6/20\n",
      " - 25s - loss: 1.7117 - acc: 0.4218 - val_loss: 1.7123 - val_acc: 0.4131\n",
      "Epoch 7/20\n",
      " - 26s - loss: 1.6954 - acc: 0.4249 - val_loss: 1.7129 - val_acc: 0.4216\n",
      "Epoch 8/20\n",
      " - 25s - loss: 1.6744 - acc: 0.4341 - val_loss: 1.7035 - val_acc: 0.4173\n",
      "Epoch 9/20\n",
      " - 25s - loss: 1.6615 - acc: 0.4372 - val_loss: 1.6845 - val_acc: 0.4351\n",
      "Epoch 10/20\n",
      " - 25s - loss: 1.6444 - acc: 0.4403 - val_loss: 1.6864 - val_acc: 0.4328\n",
      "Epoch 11/20\n",
      " - 25s - loss: 1.6308 - acc: 0.4459 - val_loss: 1.6878 - val_acc: 0.4281\n",
      "Epoch 12/20\n",
      " - 25s - loss: 1.6131 - acc: 0.4491 - val_loss: 1.6836 - val_acc: 0.4370\n",
      "Epoch 13/20\n",
      " - 25s - loss: 1.5938 - acc: 0.4566 - val_loss: 1.6953 - val_acc: 0.4239\n",
      "Epoch 14/20\n",
      " - 25s - loss: 1.5790 - acc: 0.4611 - val_loss: 1.7088 - val_acc: 0.4312\n",
      "Epoch 15/20\n",
      " - 25s - loss: 1.5571 - acc: 0.4653 - val_loss: 1.7115 - val_acc: 0.4277\n",
      "Epoch 16/20\n",
      " - 25s - loss: 1.5447 - acc: 0.4679 - val_loss: 1.7224 - val_acc: 0.4127\n",
      "Epoch 17/20\n",
      " - 25s - loss: 1.5228 - acc: 0.4764 - val_loss: 1.7196 - val_acc: 0.4297\n",
      "Epoch 18/20\n",
      " - 25s - loss: 1.5021 - acc: 0.4817 - val_loss: 1.7413 - val_acc: 0.4050\n",
      "Epoch 19/20\n",
      " - 25s - loss: 1.4824 - acc: 0.4872 - val_loss: 1.7683 - val_acc: 0.4158\n",
      "Epoch 20/20\n",
      " - 25s - loss: 1.4645 - acc: 0.4918 - val_loss: 1.8048 - val_acc: 0.4046\n"
     ]
    }
   ],
   "source": [
    "# training the model\n",
    "history3 = model3.fit([X_train_sequences, df_cat_train], y_train, \n",
    "                     validation_split=0.1, epochs=20, batch_size=128, verbose=2)"
   ]
  },
  {
   "cell_type": "markdown",
   "metadata": {},
   "source": [
    "### Eval"
   ]
  },
  {
   "cell_type": "code",
   "execution_count": 163,
   "metadata": {
    "ExecuteTime": {
     "end_time": "2020-12-28T21:03:54.067434Z",
     "start_time": "2020-12-28T21:03:42.779932Z"
    }
   },
   "outputs": [
    {
     "name": "stdout",
     "output_type": "stream",
     "text": [
      "Accuracy: 0.40218899331622815\n"
     ]
    },
    {
     "data": {
      "text/plain": [
       "[('LSTM Simple - Testing', 0.34145212),\n",
       " ('LSTM Simple - Training', 0.9220304),\n",
       " ('LSTM with metadata - Testing', 0.39525204256500834),\n",
       " ('bi-GRU with metadata - Testing', 0.40218899331622815)]"
      ]
     },
     "execution_count": 163,
     "metadata": {},
     "output_type": "execute_result"
    }
   ],
   "source": [
    "score3, acc3 = model3.evaluate([X_test_sequences, df_cat_test], y_test, verbose=2)\n",
    "\n",
    "print(\"Accuracy:\", acc3)  \n",
    "list_result.append((\"bi-GRU with metadata - Testing\", acc3))\n",
    "list_result"
   ]
  },
  {
   "cell_type": "code",
   "execution_count": 177,
   "metadata": {
    "ExecuteTime": {
     "end_time": "2020-12-28T21:54:17.059063Z",
     "start_time": "2020-12-28T21:54:16.798169Z"
    }
   },
   "outputs": [
    {
     "name": "stdout",
     "output_type": "stream",
     "text": [
      "dict_keys(['val_loss', 'val_acc', 'loss', 'acc'])\n"
     ]
    },
    {
     "data": {
      "image/png": "[encoded data removed]",
      "text/plain": [
       "<Figure size 1008x576 with 1 Axes>"
      ]
     },
     "metadata": {
      "needs_background": "light"
     },
     "output_type": "display_data"
    },
    {
     "data": {
      "image/png": "[encoded data removed]",
      "text/plain": [
       "<Figure size 1008x576 with 1 Axes>"
      ]
     },
     "metadata": {
      "needs_background": "light"
     },
     "output_type": "display_data"
    }
   ],
   "source": [
    "train_result = history3.history\n",
    "\n",
    "print(train_result.keys())\n",
    "\n",
    "#  \"Accuracy\"\n",
    "plt.figure(figsize=(14,8))\n",
    "plt.plot(train_result['acc'])\n",
    "plt.plot(train_result['val_acc'])\n",
    "plt.title('model accuracy')\n",
    "plt.ylabel('accuracy')\n",
    "plt.xlabel('epoch')\n",
    "plt.legend(['train', 'val'], loc='upper left')\n",
    "plt.show()\n",
    "\n",
    "# \"Loss\"\n",
    "plt.figure(figsize=(14,8))\n",
    "plt.plot(train_result['loss'])\n",
    "plt.plot(train_result['val_loss'])\n",
    "plt.title('model loss')\n",
    "plt.ylabel('loss')\n",
    "plt.xlabel('epoch')\n",
    "plt.legend(['train', 'val'], loc='upper left')\n",
    "plt.show()"
   ]
  },
  {
   "cell_type": "markdown",
   "metadata": {},
   "source": [
    "## LSTM with Attention"
   ]
  },
  {
   "cell_type": "markdown",
   "metadata": {},
   "source": [
    "### Design + Training"
   ]
  },
  {
   "cell_type": "code",
   "execution_count": 166,
   "metadata": {
    "ExecuteTime": {
     "end_time": "2020-12-28T21:05:13.148605Z",
     "start_time": "2020-12-28T21:05:13.138633Z"
    }
   },
   "outputs": [],
   "source": [
    "class Attention(Layer):\n",
    "    def __init__(self, step_dim,\n",
    "                 W_regularizer=None, b_regularizer=None,\n",
    "                 W_constraint=None, b_constraint=None,\n",
    "                 bias=True, **kwargs):\n",
    "        self.supports_masking = True\n",
    "        self.init = initializers.get('glorot_uniform')\n",
    "        self.W_regularizer = regularizers.get(W_regularizer)\n",
    "        self.b_regularizer = regularizers.get(b_regularizer)\n",
    "        self.W_constraint = constraints.get(W_constraint)\n",
    "        self.b_constraint = constraints.get(b_constraint)\n",
    "        self.bias = bias\n",
    "        self.step_dim = step_dim\n",
    "        self.features_dim = 0\n",
    "        super(Attention, self).__init__(**kwargs)\n",
    "\n",
    "    def build(self, input_shape):\n",
    "        assert len(input_shape) == 3\n",
    "        self.W = self.add_weight((input_shape[-1],),\n",
    "                                 initializer=self.init,\n",
    "                                 name='{}_W'.format(self.name),\n",
    "                                 regularizer=self.W_regularizer,\n",
    "                                 constraint=self.W_constraint)\n",
    "        self.features_dim = input_shape[-1]\n",
    "        if self.bias:\n",
    "            self.b = self.add_weight((input_shape[1],),\n",
    "                                     initializer='zero',\n",
    "                                     name='{}_b'.format(self.name),\n",
    "                                     regularizer=self.b_regularizer,\n",
    "                                     constraint=self.b_constraint)\n",
    "        else:\n",
    "            self.b = None\n",
    "        self.built = True\n",
    "\n",
    "    def compute_mask(self, input, input_mask=None):\n",
    "        return None\n",
    "\n",
    "    def call(self, x, mask=None):\n",
    "        features_dim = self.features_dim\n",
    "        step_dim = self.step_dim\n",
    "        eij = K.reshape(K.dot(K.reshape(x, (-1, features_dim)), K.reshape(self.W, (features_dim, 1))), (-1, step_dim))\n",
    "        if self.bias:\n",
    "            eij += self.b\n",
    "        eij = K.tanh(eij)\n",
    "        a = K.exp(eij)\n",
    "        if mask is not None:\n",
    "            a *= K.cast(mask, K.floatx())\n",
    "        a /= K.cast(K.sum(a, axis=1, keepdims=True) + K.epsilon(), K.floatx())\n",
    "        a = K.expand_dims(a)\n",
    "        weighted_input = x * a\n",
    "        return K.sum(weighted_input, axis=1)\n",
    "\n",
    "    def compute_output_shape(self, input_shape):\n",
    "        return input_shape[0],  self.features_dim\n",
    "    \n"
   ]
  },
  {
   "cell_type": "code",
   "execution_count": 172,
   "metadata": {
    "ExecuteTime": {
     "end_time": "2020-12-28T21:06:47.799816Z",
     "start_time": "2020-12-28T21:06:42.086063Z"
    }
   },
   "outputs": [
    {
     "name": "stdout",
     "output_type": "stream",
     "text": [
      "__________________________________________________________________________________________________\n",
      "Layer (type)                    Output Shape         Param #     Connected to                     \n",
      "==================================================================================================\n",
      "text (InputLayer)               (None, 60)           0                                            \n",
      "__________________________________________________________________________________________________\n",
      "embedding_9 (Embedding)         (None, 60, 300)      85519500    text[0][0]                       \n",
      "__________________________________________________________________________________________________\n",
      "lstm_6 (LSTM)                   (None, 60, 300)      721200      embedding_9[0][0]                \n",
      "__________________________________________________________________________________________________\n",
      "dropout_8 (Dropout)             (None, 60, 300)      0           lstm_6[0][0]                     \n",
      "__________________________________________________________________________________________________\n",
      "attention_2 (Attention)         (None, 300)          360         dropout_8[0][0]                  \n",
      "__________________________________________________________________________________________________\n",
      "dense_9 (Dense)                 (None, 256)          77056       attention_2[0][0]                \n",
      "__________________________________________________________________________________________________\n",
      "dropout_9 (Dropout)             (None, 256)          0           dense_9[0][0]                    \n",
      "__________________________________________________________________________________________________\n",
      "batch_normalization_5 (BatchNor (None, 256)          1024        dropout_9[0][0]                  \n",
      "__________________________________________________________________________________________________\n",
      "meta (InputLayer)               (None, 3)            0                                            \n",
      "__________________________________________________________________________________________________\n",
      "concatenate_5 (Concatenate)     (None, 259)          0           batch_normalization_5[0][0]      \n",
      "                                                                 meta[0][0]                       \n",
      "__________________________________________________________________________________________________\n",
      "dense_10 (Dense)                (None, 150)          39000       concatenate_5[0][0]              \n",
      "__________________________________________________________________________________________________\n",
      "dropout_10 (Dropout)            (None, 150)          0           dense_10[0][0]                   \n",
      "__________________________________________________________________________________________________\n",
      "batch_normalization_6 (BatchNor (None, 150)          600         dropout_10[0][0]                 \n",
      "__________________________________________________________________________________________________\n",
      "dense_11 (Dense)                (None, 14)           2114        batch_normalization_6[0][0]      \n",
      "==================================================================================================\n",
      "Total params: 86,360,854\n",
      "Trainable params: 840,542\n",
      "Non-trainable params: 85,520,312\n",
      "__________________________________________________________________________________________________\n"
     ]
    }
   ],
   "source": [
    "text_data = Input(shape=(MAX_SEQ_LEN,), name='text')\n",
    "meta_data = Input(shape=(3,), name = 'meta')\n",
    "x = Embedding(len(vectorizer.get_feature_names()) + 1,\n",
    "                    EMBEDDING_LEN,  # Embedding size\n",
    "                    weights=[embedding_index],\n",
    "                    input_length=MAX_SEQ_LEN,\n",
    "                    trainable=False)(text_data)\n",
    "x1 = (LSTM(300, dropout=0.25, recurrent_dropout=0.25, return_sequences=True))(x)\n",
    "x2 = Dropout(0.25)(x1)\n",
    "x3 = Attention(MAX_SEQ_LEN)(x2)\n",
    "x4 = Dense(256, activation='relu')(x3)\n",
    "x5 = Dropout(0.25)(x4)\n",
    "x6 = BatchNormalization()(x5)\n",
    "x7 = concatenate([x6, meta_data])\n",
    "x8 = Dense(150, activation='relu')(x7)\n",
    "x9 = Dropout(0.25)(x8)\n",
    "x10 = BatchNormalization()(x9)\n",
    "outp = Dense(len(set(y)), activation='softmax')(x10)\n",
    "\n",
    "AttentionLSTM = Model(inputs=[text_data, meta_data ], outputs=outp)\n",
    "AttentionLSTM.compile(loss='categorical_crossentropy', optimizer='adam', metrics=['acc'])\n",
    "\n",
    "AttentionLSTM.summary()"
   ]
  },
  {
   "cell_type": "code",
   "execution_count": 182,
   "metadata": {
    "ExecuteTime": {
     "end_time": "2020-12-28T21:57:16.928290Z",
     "start_time": "2020-12-28T21:57:16.702949Z"
    }
   },
   "outputs": [],
   "source": [
    "# draw model \n",
    "plot_model(AttentionLSTM, to_file='models/model_LSTM_attention_metaData.png', show_shapes=True)"
   ]
  },
  {
   "cell_type": "code",
   "execution_count": 173,
   "metadata": {
    "ExecuteTime": {
     "end_time": "2020-12-28T21:20:17.967733Z",
     "start_time": "2020-12-28T21:06:53.970138Z"
    }
   },
   "outputs": [
    {
     "name": "stdout",
     "output_type": "stream",
     "text": [
      "Train on 23351 samples, validate on 2595 samples\n",
      "Epoch 1/20\n",
      " - 43s - loss: 2.4561 - acc: 0.2591 - val_loss: 2.1146 - val_acc: 0.2551\n",
      "Epoch 2/20\n",
      " - 40s - loss: 1.9272 - acc: 0.3675 - val_loss: 1.7810 - val_acc: 0.3958\n",
      "Epoch 3/20\n",
      " - 40s - loss: 1.8243 - acc: 0.3924 - val_loss: 1.7462 - val_acc: 0.4069\n",
      "Epoch 4/20\n",
      " - 40s - loss: 1.7806 - acc: 0.4033 - val_loss: 1.7292 - val_acc: 0.4170\n",
      "Epoch 5/20\n",
      " - 40s - loss: 1.7507 - acc: 0.4089 - val_loss: 1.7228 - val_acc: 0.4150\n",
      "Epoch 6/20\n",
      " - 40s - loss: 1.7258 - acc: 0.4173 - val_loss: 1.7056 - val_acc: 0.4208\n",
      "Epoch 7/20\n",
      " - 40s - loss: 1.7082 - acc: 0.4244 - val_loss: 1.6866 - val_acc: 0.4254\n",
      "Epoch 8/20\n",
      " - 40s - loss: 1.6914 - acc: 0.4281 - val_loss: 1.6839 - val_acc: 0.4258\n",
      "Epoch 9/20\n",
      " - 40s - loss: 1.6700 - acc: 0.4314 - val_loss: 1.7004 - val_acc: 0.4200\n",
      "Epoch 10/20\n",
      " - 40s - loss: 1.6587 - acc: 0.4352 - val_loss: 1.6801 - val_acc: 0.4220\n",
      "Epoch 11/20\n",
      " - 40s - loss: 1.6400 - acc: 0.4381 - val_loss: 1.7021 - val_acc: 0.4266\n",
      "Epoch 12/20\n",
      " - 40s - loss: 1.6209 - acc: 0.4421 - val_loss: 1.6770 - val_acc: 0.4208\n",
      "Epoch 13/20\n",
      " - 40s - loss: 1.6055 - acc: 0.4461 - val_loss: 1.6826 - val_acc: 0.4331\n",
      "Epoch 14/20\n",
      " - 40s - loss: 1.5836 - acc: 0.4517 - val_loss: 1.6881 - val_acc: 0.4239\n",
      "Epoch 15/20\n",
      " - 40s - loss: 1.5674 - acc: 0.4587 - val_loss: 1.6758 - val_acc: 0.4224\n",
      "Epoch 16/20\n",
      " - 40s - loss: 1.5469 - acc: 0.4631 - val_loss: 1.6929 - val_acc: 0.4270\n",
      "Epoch 17/20\n",
      " - 40s - loss: 1.5235 - acc: 0.4661 - val_loss: 1.7207 - val_acc: 0.4173\n",
      "Epoch 18/20\n",
      " - 40s - loss: 1.4965 - acc: 0.4769 - val_loss: 1.7039 - val_acc: 0.4270\n",
      "Epoch 19/20\n",
      " - 40s - loss: 1.4717 - acc: 0.4863 - val_loss: 1.7059 - val_acc: 0.4200\n",
      "Epoch 20/20\n",
      " - 40s - loss: 1.4438 - acc: 0.4937 - val_loss: 1.7349 - val_acc: 0.4027\n"
     ]
    }
   ],
   "source": [
    "# training the model\n",
    "history4 = AttentionLSTM.fit([X_train_sequences, df_cat_train], y_train, \n",
    "                     validation_split=0.1, epochs=20, batch_size=128, verbose=2)"
   ]
  },
  {
   "cell_type": "markdown",
   "metadata": {},
   "source": [
    "### Eval"
   ]
  },
  {
   "cell_type": "code",
   "execution_count": 174,
   "metadata": {
    "ExecuteTime": {
     "end_time": "2020-12-28T21:20:24.449353Z",
     "start_time": "2020-12-28T21:20:17.969727Z"
    }
   },
   "outputs": [
    {
     "name": "stdout",
     "output_type": "stream",
     "text": [
      "Accuracy: 0.41205487893821097\n"
     ]
    },
    {
     "data": {
      "text/plain": [
       "[('LSTM Simple - Testing', 0.34145212),\n",
       " ('LSTM Simple - Training', 0.9220304),\n",
       " ('LSTM with metadata - Testing', 0.39525204256500834),\n",
       " ('bi-GRU with metadata - Testing', 0.40218899331622815),\n",
       " ('LSTM-Attention with metadata - Testing', 0.41205487893821097)]"
      ]
     },
     "execution_count": 174,
     "metadata": {},
     "output_type": "execute_result"
    }
   ],
   "source": [
    "score4, acc4 = AttentionLSTM.evaluate([X_test_sequences, df_cat_test], y_test, verbose=2)\n",
    "\n",
    "print(\"Accuracy:\", acc4)  \n",
    "list_result.append((\"LSTM-Attention with metadata - Testing\", acc4))\n",
    "list_result"
   ]
  },
  {
   "cell_type": "code",
   "execution_count": 178,
   "metadata": {
    "ExecuteTime": {
     "end_time": "2020-12-28T21:54:36.239243Z",
     "start_time": "2020-12-28T21:54:35.973809Z"
    }
   },
   "outputs": [
    {
     "name": "stdout",
     "output_type": "stream",
     "text": [
      "dict_keys(['val_loss', 'val_acc', 'loss', 'acc'])\n"
     ]
    },
    {
     "data": {
      "image/png": "[encoded data removed]",
      "text/plain": [
       "<Figure size 1008x576 with 1 Axes>"
      ]
     },
     "metadata": {
      "needs_background": "light"
     },
     "output_type": "display_data"
    },
    {
     "data": {
      "image/png": "[encoded data removed]",
      "text/plain": [
       "<Figure size 1008x576 with 1 Axes>"
      ]
     },
     "metadata": {
      "needs_background": "light"
     },
     "output_type": "display_data"
    }
   ],
   "source": [
    "train_result = history4.history\n",
    "\n",
    "print(train_result.keys())\n",
    "\n",
    "#  \"Accuracy\"\n",
    "plt.figure(figsize=(14,8))\n",
    "plt.plot(train_result['acc'])\n",
    "plt.plot(train_result['val_acc'])\n",
    "plt.title('model accuracy')\n",
    "plt.ylabel('accuracy')\n",
    "plt.xlabel('epoch')\n",
    "plt.legend(['train', 'val'], loc='upper left')\n",
    "plt.show()\n",
    "\n",
    "# \"Loss\"\n",
    "plt.figure(figsize=(14,8))\n",
    "plt.plot(train_result['loss'])\n",
    "plt.plot(train_result['val_loss'])\n",
    "plt.title('model loss')\n",
    "plt.ylabel('loss')\n",
    "plt.xlabel('epoch')\n",
    "plt.legend(['train', 'val'], loc='upper left')\n",
    "plt.show()"
   ]
  },
  {
   "cell_type": "markdown",
   "metadata": {},
   "source": [
    "## Model Comparison"
   ]
  },
  {
   "cell_type": "code",
   "execution_count": 175,
   "metadata": {
    "ExecuteTime": {
     "end_time": "2020-12-28T21:20:24.464945Z",
     "start_time": "2020-12-28T21:20:24.449353Z"
    }
   },
   "outputs": [
    {
     "data": {
      "text/html": [
       "<div>\n",
       "<style scoped>\n",
       "    .dataframe tbody tr th:only-of-type {\n",
       "        vertical-align: middle;\n",
       "    }\n",
       "\n",
       "    .dataframe tbody tr th {\n",
       "        vertical-align: top;\n",
       "    }\n",
       "\n",
       "    .dataframe thead th {\n",
       "        text-align: right;\n",
       "    }\n",
       "</style>\n",
       "<table border=\"1\" class=\"dataframe\">\n",
       "  <thead>\n",
       "    <tr style=\"text-align: right;\">\n",
       "      <th></th>\n",
       "      <th>model</th>\n",
       "      <th>accuracy</th>\n",
       "    </tr>\n",
       "  </thead>\n",
       "  <tbody>\n",
       "    <tr>\n",
       "      <th>0</th>\n",
       "      <td>LSTM Simple - Testing</td>\n",
       "      <td>0.341452</td>\n",
       "    </tr>\n",
       "    <tr>\n",
       "      <th>1</th>\n",
       "      <td>LSTM Simple - Training</td>\n",
       "      <td>0.922030</td>\n",
       "    </tr>\n",
       "    <tr>\n",
       "      <th>2</th>\n",
       "      <td>LSTM with metadata - Testing</td>\n",
       "      <td>0.395252</td>\n",
       "    </tr>\n",
       "    <tr>\n",
       "      <th>3</th>\n",
       "      <td>bi-GRU with metadata - Testing</td>\n",
       "      <td>0.402189</td>\n",
       "    </tr>\n",
       "    <tr>\n",
       "      <th>4</th>\n",
       "      <td>LSTM-Attention with metadata - Testing</td>\n",
       "      <td>0.412055</td>\n",
       "    </tr>\n",
       "  </tbody>\n",
       "</table>\n",
       "</div>"
      ],
      "text/plain": [
       "                                    model  accuracy\n",
       "0                   LSTM Simple - Testing  0.341452\n",
       "1                  LSTM Simple - Training  0.922030\n",
       "2            LSTM with metadata - Testing  0.395252\n",
       "3          bi-GRU with metadata - Testing  0.402189\n",
       "4  LSTM-Attention with metadata - Testing  0.412055"
      ]
     },
     "execution_count": 175,
     "metadata": {},
     "output_type": "execute_result"
    }
   ],
   "source": [
    "pd.DataFrame(list_result, columns=['model', 'accuracy'])"
   ]
  },
  {
   "cell_type": "code",
   "execution_count": 1,
   "metadata": {
    "ExecuteTime": {
     "end_time": "2020-12-29T02:54:19.242670Z",
     "start_time": "2020-12-29T02:54:19.236666Z"
    }
   },
   "outputs": [
    {
     "name": "stdout",
     "output_type": "stream",
     "text": [
      "\n",
      "DONE !\n"
     ]
    }
   ],
   "source": [
    "print('\\nDONE !')"
   ]
  }
 ],
 "metadata": {
  "kernelspec": {
   "display_name": "Python 3",
   "language": "python",
   "name": "python3"
  },
  "language_info": {
   "codemirror_mode": {
    "name": "ipython",
    "version": 3
   },
   "file_extension": ".py",
   "mimetype": "text/x-python",
   "name": "python",
   "nbconvert_exporter": "python",
   "pygments_lexer": "ipython3",
   "version": "3.6.8"
  },
  "toc": {
   "base_numbering": 1,
   "nav_menu": {},
   "number_sections": true,
   "sideBar": true,
   "skip_h1_title": false,
   "title_cell": "Table of Contents",
   "title_sidebar": "Contents",
   "toc_cell": false,
   "toc_position": {
    "height": "calc(100% - 180px)",
    "left": "10px",
    "top": "150px",
    "width": "165px"
   },
   "toc_section_display": true,
   "toc_window_display": true
  }
 },
 "nbformat": 4,
 "nbformat_minor": 2
}
